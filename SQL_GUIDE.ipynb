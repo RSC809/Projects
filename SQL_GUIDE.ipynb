{
    "metadata": {
        "kernelspec": {
            "name": "SQL",
            "display_name": "SQL",
            "language": "sql"
        },
        "language_info": {
            "name": "sql",
            "version": ""
        }
    },
    "nbformat_minor": 2,
    "nbformat": 4,
    "cells": [
        {
            "cell_type": "markdown",
            "source": [
                "# Intro\n",
                "\n",
                "Welcome to this SQL primer for beginners! The fundamentals of SQL, a programming language used to manage and manipulate data stored in databases, are covered in this manual. Essential topics will be covered, such as creating tables, selecting data with the **SELECT** statement, filtering data with the **WHERE** statement, grouping and ordering data, joining tables, using UNION, applying conditional logic with the **CASE** statement, updating and deleting data, using aliases and concatenation, partitioning data, and creating common table expressions (**CTE**). We'll also look at subqueries, stored procedures, temporary tables, and string functions. You will have a strong foundation in SQL by the end of this manual to start working with databases."
            ],
            "metadata": {
                "azdata_cell_guid": "44c1c35c-288a-4a6f-9b34-190e803758d3"
            },
            "attachments": {}
        },
        {
            "cell_type": "markdown",
            "source": [
                "## **Optional**: Create Database"
            ],
            "metadata": {
                "azdata_cell_guid": "f1f04a1b-c229-4c8a-9fdb-8c575baa4ab1"
            },
            "attachments": {}
        },
        {
            "cell_type": "code",
            "source": [
                "CREATE DATABASE GuidesPortolio\n",
                "GO"
            ],
            "metadata": {
                "azdata_cell_guid": "e706e607-fc92-4574-9ad0-9e746f6491ec",
                "language": "sql"
            },
            "outputs": [
                {
                    "output_type": "display_data",
                    "data": {
                        "text/html": "Commands completed successfully."
                    },
                    "metadata": {}
                },
                {
                    "output_type": "display_data",
                    "data": {
                        "text/html": "Total execution time: 00:00:02.204"
                    },
                    "metadata": {}
                }
            ],
            "execution_count": 1
        },
        {
            "cell_type": "markdown",
            "source": [
                "# Lesson 1: Creating Tables\n",
                "\n",
                "Objective: To learn how to create tables in SQL and populate them with data."
            ],
            "metadata": {
                "azdata_cell_guid": "359c2991-863d-4511-959c-c487125123a7"
            },
            "attachments": {}
        },
        {
            "cell_type": "markdown",
            "source": [
                "This code is a SQL query that creates a table called \"**EmployeeDemographics**\" in a database. \n",
                "\n",
                "The table has five columns, each defined with a name and a data type:\n",
                "\n",
                "- **EmployeeID** (integer): this column will store unique identification numbers for each employee.\n",
                "- **FirstName** (varchar): this column will store the first name of each employee, with a maximum length of 50 characters.\n",
                "- **LastName** (varchar): this column will store the last name of each employee, with a maximum length of 50 characters.\n",
                "- **Age** (integer): this column will store the age of each employee as a whole number.\n",
                "- **Gender** (varchar): this column will store the gender of each employee, with a maximum length of 50 characters."
            ],
            "metadata": {
                "language": "sql",
                "azdata_cell_guid": "3d5e1ec3-fd0f-40a7-b759-4917ffcc0e78"
            },
            "attachments": {}
        },
        {
            "cell_type": "code",
            "source": [
                "--CREATING TABLES: \n",
                "\n",
                "--TABLE 1 QUERY\n",
                "CREATE TABLE EmployeeDemographics\n",
                "(\n",
                "    EmployeeID int,\n",
                "    FirstName varchar(50),\n",
                "    LastName varchar(50),\n",
                "    Age int,\n",
                "    Gender varchar(50)\n",
                ")"
            ],
            "metadata": {
                "azdata_cell_guid": "16164072-2f90-4a2e-89f1-92f4d56f15e1",
                "language": "sql",
                "tags": []
            },
            "outputs": [
                {
                    "output_type": "display_data",
                    "data": {
                        "text/html": "Commands completed successfully."
                    },
                    "metadata": {}
                },
                {
                    "output_type": "display_data",
                    "data": {
                        "text/html": "Total execution time: 00:00:00.014"
                    },
                    "metadata": {}
                }
            ],
            "execution_count": 2
        },
        {
            "cell_type": "markdown",
            "source": [
                "The employee ID, job title, and salary columns of a new table called \"EmployeeSalary\" are created by this SQL command. Information about employee pay, including job titles and associated compensation, will be kept in this table. This table, along with the \"EmployeeDemographics\" table, is crucial to a database used to store employee data."
            ],
            "metadata": {
                "azdata_cell_guid": "daa418c5-b2e7-4c30-9ae3-905ce8a6b23f"
            },
            "attachments": {}
        },
        {
            "cell_type": "code",
            "source": [
                "--TABLE 2 QUERY\n",
                "CREATE TABLE EmployeeSalary\n",
                "(\n",
                "  EmployeeID int,\n",
                "  JobTitle varchar(50),\n",
                "  Salary int\n",
                ")"
            ],
            "metadata": {
                "azdata_cell_guid": "3eb92dde-d903-4842-bd79-fb7f368ab14e",
                "language": "sql",
                "tags": []
            },
            "outputs": [
                {
                    "output_type": "display_data",
                    "data": {
                        "text/html": "Commands completed successfully."
                    },
                    "metadata": {}
                },
                {
                    "output_type": "display_data",
                    "data": {
                        "text/html": "Total execution time: 00:00:00.021"
                    },
                    "metadata": {}
                }
            ],
            "execution_count": 3
        },
        {
            "cell_type": "markdown",
            "source": [
                "This SQL statement populates the \"EmployeeDemographics\" table with data. The table's name is specified in the INSERT INTO statement, and the data being inserted is listed using the VALUES keyword.\n",
                "\n",
                "One row of data is being inserted for each group of values in parentheses, with commas between each value. The values are arranged in the same order as the table's columns, with the first value corresponding to the first column, the second to the second, and so on.\n",
                "\n",
                "Nine rows of data are being entered in this instance, each row containing details about a different employee, such as their employee ID, first and last names, age, and gender. The columns in the CREATE TABLE command for \"EmployeeDemographics\" were defined in the same sequence in which the data is entered."
            ],
            "metadata": {
                "language": "sql",
                "azdata_cell_guid": "751c0deb-ec5f-4dba-be0b-f0a63664df8c"
            },
            "attachments": {}
        },
        {
            "cell_type": "code",
            "source": [
                "--TABLE 1 INSERT QUERY\n",
                "INSERT INTO [dbo].[EmployeeDemographics] VALUES\n",
                "(1001, 'Jim', 'Halper', 30, 'Male'),\n",
                "(1002, 'Pam', 'Beasley', 30, 'Female'),\n",
                "(1003, 'Dwight', 'Schrute', 29, 'Male'),\n",
                "(1004, 'Angela', 'Martin', 31, 'Female'),\n",
                "(1005, 'Toby', 'Flenderson', 32, 'Male'),\n",
                "(1006, 'Michael', 'Scott', 35, 'Male'),\n",
                "(1007, 'Meredith', 'Palmer', 32, 'Female'),\n",
                "(1008, 'Stanley', 'Hudson', 38, 'Male'),\n",
                "(1009, 'Kevin', 'Malone', 31, 'Male')"
            ],
            "metadata": {
                "azdata_cell_guid": "13611477-0cf4-4bed-bee9-bf8ae8f78b38",
                "language": "sql"
            },
            "outputs": [
                {
                    "output_type": "display_data",
                    "data": {
                        "text/html": "(9 rows affected)"
                    },
                    "metadata": {}
                },
                {
                    "output_type": "display_data",
                    "data": {
                        "text/html": "Total execution time: 00:00:00.036"
                    },
                    "metadata": {}
                }
            ],
            "execution_count": 67
        },
        {
            "cell_type": "markdown",
            "source": [
                "This code adds values to the \"EmployeeSalary\" database. Together with their individual employee ID, each row includes the employee's job title, pay, and benefits information. Specific employees and their job titles and wages are represented by the values that are being inserted."
            ],
            "metadata": {
                "azdata_cell_guid": "604ca6d5-2e9b-4b22-bf6d-dbc9952c9e1f"
            },
            "attachments": {}
        },
        {
            "cell_type": "code",
            "source": [
                "--TABLE 2 INSERT QUERY\n",
                "INSERT INTO EmployeeSalary VALUES\n",
                "(1001, 'Salesman', 45000),\n",
                "(1002, 'Receptionist', 36000),\n",
                "(1003, 'Salesman', 63000),\n",
                "(1004, 'Accountant', 47000),\n",
                "(1005, 'HR', 50000),\n",
                "(1006, 'Regional Manager', 65000),\n",
                "(1007, 'Supplier Relations', 41000),\n",
                "(1008, 'Salesman', 48000),\n",
                "(1009, 'Accountant', 42000)"
            ],
            "metadata": {
                "language": "sql",
                "azdata_cell_guid": "04661a8a-7c3a-4a0f-ac08-f7e05725de68"
            },
            "outputs": [
                {
                    "output_type": "display_data",
                    "data": {
                        "text/html": "(9 rows affected)"
                    },
                    "metadata": {}
                },
                {
                    "output_type": "display_data",
                    "data": {
                        "text/html": "Total execution time: 00:00:00.029"
                    },
                    "metadata": {}
                }
            ],
            "execution_count": 5
        },
        {
            "cell_type": "markdown",
            "source": [
                "# Lesson 2: SELECT & FROM Statement\n",
                "\n",
                "Objective: Learn the SELECT statement, FROM clause, TOP keyword, DISTINCT keyword, COUNT function, AS keyword, and MAX, MIN, and AVG functions for querying and analyzing data in SQL."
            ],
            "metadata": {
                "azdata_cell_guid": "4b674400-a563-4618-807d-6a737cc82b77"
            },
            "attachments": {}
        },
        {
            "cell_type": "markdown",
            "source": [
                "The code SELECT \\* FROM \\[dbo\\].\\[EmployeeDemographics\\] is a SQL query that selects all columns and rows from the EmployeeDemographics table. The asterisk symbol \\* is a shorthand way of indicating that all columns should be included in the result set. The FROM clause specifies the table from which the data is being selected, and the \\[dbo\\] prefix indicates the database schema where the table is located (in this case, the default schema named \"dbo\")."
            ],
            "metadata": {
                "azdata_cell_guid": "2ae06d00-7a01-499d-a8fa-a3db547be220"
            },
            "attachments": {}
        },
        {
            "cell_type": "code",
            "source": [
                "SELECT * \n",
                "FROM [dbo].[EmployeeDemographics]"
            ],
            "metadata": {
                "azdata_cell_guid": "9cdda037-983c-44d4-9ac5-aeefa87bbfb9",
                "language": "sql"
            },
            "outputs": [
                {
                    "output_type": "display_data",
                    "data": {
                        "text/html": "(9 rows affected)"
                    },
                    "metadata": {}
                },
                {
                    "output_type": "display_data",
                    "data": {
                        "text/html": "Total execution time: 00:00:00.171"
                    },
                    "metadata": {}
                },
                {
                    "output_type": "execute_result",
                    "metadata": {},
                    "execution_count": 6,
                    "data": {
                        "application/vnd.dataresource+json": {
                            "schema": {
                                "fields": [
                                    {
                                        "name": "EmployeeID"
                                    },
                                    {
                                        "name": "FirstName"
                                    },
                                    {
                                        "name": "LastName"
                                    },
                                    {
                                        "name": "Age"
                                    },
                                    {
                                        "name": "Gender"
                                    }
                                ]
                            },
                            "data": [
                                {
                                    "0": "1001",
                                    "1": "Jim",
                                    "2": "Halper",
                                    "3": "30",
                                    "4": "Male"
                                },
                                {
                                    "0": "1002",
                                    "1": "Pam",
                                    "2": "Beasley",
                                    "3": "30",
                                    "4": "Female"
                                },
                                {
                                    "0": "1003",
                                    "1": "Dwight",
                                    "2": "Schrute",
                                    "3": "29",
                                    "4": "Male"
                                },
                                {
                                    "0": "1004",
                                    "1": "Angela",
                                    "2": "Martin",
                                    "3": "31",
                                    "4": "Female"
                                },
                                {
                                    "0": "1005",
                                    "1": "Toby",
                                    "2": "Flenderson",
                                    "3": "32",
                                    "4": "Male"
                                },
                                {
                                    "0": "1006",
                                    "1": "Michael",
                                    "2": "Scott",
                                    "3": "35",
                                    "4": "Male"
                                },
                                {
                                    "0": "1007",
                                    "1": "Meredith",
                                    "2": "Palmer",
                                    "3": "32",
                                    "4": "Female"
                                },
                                {
                                    "0": "1008",
                                    "1": "Stanley",
                                    "2": "Hudson",
                                    "3": "38",
                                    "4": "Male"
                                },
                                {
                                    "0": "1009",
                                    "1": "Kevin",
                                    "2": "Malone",
                                    "3": "31",
                                    "4": "Male"
                                }
                            ]
                        },
                        "text/html": [
                            "<table>",
                            "<tr><th>EmployeeID</th><th>FirstName</th><th>LastName</th><th>Age</th><th>Gender</th></tr>",
                            "<tr><td>1001</td><td>Jim</td><td>Halper</td><td>30</td><td>Male</td></tr>",
                            "<tr><td>1002</td><td>Pam</td><td>Beasley</td><td>30</td><td>Female</td></tr>",
                            "<tr><td>1003</td><td>Dwight</td><td>Schrute</td><td>29</td><td>Male</td></tr>",
                            "<tr><td>1004</td><td>Angela</td><td>Martin</td><td>31</td><td>Female</td></tr>",
                            "<tr><td>1005</td><td>Toby</td><td>Flenderson</td><td>32</td><td>Male</td></tr>",
                            "<tr><td>1006</td><td>Michael</td><td>Scott</td><td>35</td><td>Male</td></tr>",
                            "<tr><td>1007</td><td>Meredith</td><td>Palmer</td><td>32</td><td>Female</td></tr>",
                            "<tr><td>1008</td><td>Stanley</td><td>Hudson</td><td>38</td><td>Male</td></tr>",
                            "<tr><td>1009</td><td>Kevin</td><td>Malone</td><td>31</td><td>Male</td></tr>",
                            "</table>"
                        ]
                    }
                }
            ],
            "execution_count": 6
        },
        {
            "cell_type": "markdown",
            "source": [
                "Returns Columns FirstName and LastName. \n",
                "\n",
                "_Note: Columns are separated by \",\"_"
            ],
            "metadata": {
                "language": "sql",
                "azdata_cell_guid": "d8a8b77e-ee9e-4c28-bbec-badd4e6b850a"
            },
            "attachments": {}
        },
        {
            "cell_type": "code",
            "source": [
                "SELECT FirstName, LastName\n",
                "FROM [dbo].[EmployeeDemographics]"
            ],
            "metadata": {
                "language": "sql",
                "azdata_cell_guid": "df305dcf-f738-44ba-ba3d-89746a9e533a"
            },
            "outputs": [
                {
                    "output_type": "display_data",
                    "data": {
                        "text/html": "(9 rows affected)"
                    },
                    "metadata": {}
                },
                {
                    "output_type": "display_data",
                    "data": {
                        "text/html": "Total execution time: 00:00:00.032"
                    },
                    "metadata": {}
                },
                {
                    "output_type": "execute_result",
                    "metadata": {},
                    "execution_count": 7,
                    "data": {
                        "application/vnd.dataresource+json": {
                            "schema": {
                                "fields": [
                                    {
                                        "name": "FirstName"
                                    },
                                    {
                                        "name": "LastName"
                                    }
                                ]
                            },
                            "data": [
                                {
                                    "0": "Jim",
                                    "1": "Halper"
                                },
                                {
                                    "0": "Pam",
                                    "1": "Beasley"
                                },
                                {
                                    "0": "Dwight",
                                    "1": "Schrute"
                                },
                                {
                                    "0": "Angela",
                                    "1": "Martin"
                                },
                                {
                                    "0": "Toby",
                                    "1": "Flenderson"
                                },
                                {
                                    "0": "Michael",
                                    "1": "Scott"
                                },
                                {
                                    "0": "Meredith",
                                    "1": "Palmer"
                                },
                                {
                                    "0": "Stanley",
                                    "1": "Hudson"
                                },
                                {
                                    "0": "Kevin",
                                    "1": "Malone"
                                }
                            ]
                        },
                        "text/html": [
                            "<table>",
                            "<tr><th>FirstName</th><th>LastName</th></tr>",
                            "<tr><td>Jim</td><td>Halper</td></tr>",
                            "<tr><td>Pam</td><td>Beasley</td></tr>",
                            "<tr><td>Dwight</td><td>Schrute</td></tr>",
                            "<tr><td>Angela</td><td>Martin</td></tr>",
                            "<tr><td>Toby</td><td>Flenderson</td></tr>",
                            "<tr><td>Michael</td><td>Scott</td></tr>",
                            "<tr><td>Meredith</td><td>Palmer</td></tr>",
                            "<tr><td>Stanley</td><td>Hudson</td></tr>",
                            "<tr><td>Kevin</td><td>Malone</td></tr>",
                            "</table>"
                        ]
                    }
                }
            ],
            "execution_count": 7
        },
        {
            "cell_type": "markdown",
            "source": [
                "\"TOP(5)\", returns top 5 rows in the table. Usefull when working with millions of rows."
            ],
            "metadata": {
                "language": "sql",
                "azdata_cell_guid": "301cce3f-836d-49d4-97c9-7d3fac73ad4e"
            },
            "attachments": {}
        },
        {
            "cell_type": "code",
            "source": [
                "SELECT TOP(5) \n",
                "FROM [dbo].[EmployeeDemographics]"
            ],
            "metadata": {
                "language": "sql",
                "azdata_cell_guid": "3286c63d-14bb-4524-87ee-034b2926a90a",
                "tags": [
                    "hide_input"
                ]
            },
            "outputs": [
                {
                    "output_type": "error",
                    "evalue": "Msg 156, Level 15, State 1, Line 2\nIncorrect syntax near the keyword 'FROM'.",
                    "ename": "",
                    "traceback": []
                },
                {
                    "output_type": "display_data",
                    "data": {
                        "text/html": "Total execution time: 00:00:00.019"
                    },
                    "metadata": {}
                }
            ],
            "execution_count": 8
        },
        {
            "cell_type": "markdown",
            "source": [
                "DISTINT statement return unique values at a column. Often use to filter for duplicates in a table."
            ],
            "metadata": {
                "language": "sql",
                "azdata_cell_guid": "5e6f3802-a367-490e-81f2-361772cb9aaf"
            },
            "attachments": {}
        },
        {
            "cell_type": "code",
            "source": [
                "SELECT DISTINCT(Gender) \n",
                "FROM [dbo].[EmployeeDemographics]"
            ],
            "metadata": {
                "language": "sql",
                "azdata_cell_guid": "15372474-e3e8-4849-8bd3-d73ec3a6408a"
            },
            "outputs": [
                {
                    "output_type": "display_data",
                    "data": {
                        "text/html": "(2 rows affected)"
                    },
                    "metadata": {}
                },
                {
                    "output_type": "display_data",
                    "data": {
                        "text/html": "Total execution time: 00:00:00.042"
                    },
                    "metadata": {}
                },
                {
                    "output_type": "execute_result",
                    "metadata": {},
                    "execution_count": 9,
                    "data": {
                        "application/vnd.dataresource+json": {
                            "schema": {
                                "fields": [
                                    {
                                        "name": "Gender"
                                    }
                                ]
                            },
                            "data": [
                                {
                                    "0": "Female"
                                },
                                {
                                    "0": "Male"
                                }
                            ]
                        },
                        "text/html": [
                            "<table>",
                            "<tr><th>Gender</th></tr>",
                            "<tr><td>Female</td></tr>",
                            "<tr><td>Male</td></tr>",
                            "</table>"
                        ]
                    }
                }
            ],
            "execution_count": 9
        },
        {
            "cell_type": "markdown",
            "source": [
                "COUNT Return number of rows in column. Does not include null values"
            ],
            "metadata": {
                "azdata_cell_guid": "a6c928b9-811d-43b4-9749-7c95576889cc"
            },
            "attachments": {}
        },
        {
            "cell_type": "code",
            "source": [
                "SELECT COUNT(*) \n",
                "FROM [dbo].[EmployeeDemographics]"
            ],
            "metadata": {
                "language": "sql",
                "azdata_cell_guid": "d4264acd-1dce-4c7a-80bd-95290d95439d"
            },
            "outputs": [
                {
                    "output_type": "display_data",
                    "data": {
                        "text/html": "(1 row affected)"
                    },
                    "metadata": {}
                },
                {
                    "output_type": "display_data",
                    "data": {
                        "text/html": "Total execution time: 00:00:00.017"
                    },
                    "metadata": {}
                },
                {
                    "output_type": "execute_result",
                    "metadata": {},
                    "execution_count": 10,
                    "data": {
                        "application/vnd.dataresource+json": {
                            "schema": {
                                "fields": [
                                    {
                                        "name": "(No column name)"
                                    }
                                ]
                            },
                            "data": [
                                {
                                    "0": "9"
                                }
                            ]
                        },
                        "text/html": [
                            "<table>",
                            "<tr><th>(No column name)</th></tr>",
                            "<tr><td>9</td></tr>",
                            "</table>"
                        ]
                    }
                }
            ],
            "execution_count": 10
        },
        {
            "cell_type": "markdown",
            "source": [
                "\"AS\" is use for aliasin to name columns."
            ],
            "metadata": {
                "language": "sql",
                "azdata_cell_guid": "76fc8ebb-e872-4d1d-b7b1-d14b09978517"
            },
            "attachments": {}
        },
        {
            "cell_type": "code",
            "source": [
                "SELECT COUNT(FirstName) AS NumFirstName \n",
                "FROM [dbo].[EmployeeDemographics]"
            ],
            "metadata": {
                "azdata_cell_guid": "568244b8-488b-47a6-9a7e-3dbe47c19cfc",
                "language": "sql"
            },
            "outputs": [
                {
                    "output_type": "display_data",
                    "data": {
                        "text/html": "(1 row affected)"
                    },
                    "metadata": {}
                },
                {
                    "output_type": "display_data",
                    "data": {
                        "text/html": "Total execution time: 00:00:00.011"
                    },
                    "metadata": {}
                },
                {
                    "output_type": "execute_result",
                    "metadata": {},
                    "execution_count": 11,
                    "data": {
                        "application/vnd.dataresource+json": {
                            "schema": {
                                "fields": [
                                    {
                                        "name": "NumFirstName"
                                    }
                                ]
                            },
                            "data": [
                                {
                                    "0": "9"
                                }
                            ]
                        },
                        "text/html": [
                            "<table>",
                            "<tr><th>NumFirstName</th></tr>",
                            "<tr><td>9</td></tr>",
                            "</table>"
                        ]
                    }
                }
            ],
            "execution_count": 11
        },
        {
            "cell_type": "markdown",
            "source": [
                "Calculae Max Salary"
            ],
            "metadata": {
                "azdata_cell_guid": "1e355f06-ce65-4a0a-9c16-a65393f2870e"
            },
            "attachments": {}
        },
        {
            "cell_type": "code",
            "source": [
                "SELECT MAX(Salary) \n",
                "FROM [dbo].EmployeeSalary"
            ],
            "metadata": {
                "language": "sql",
                "azdata_cell_guid": "354f8fe9-4a8c-4abc-9136-be966d221c08",
                "tags": [
                    "hide_input"
                ]
            },
            "outputs": [
                {
                    "output_type": "display_data",
                    "data": {
                        "text/html": "(1 row affected)"
                    },
                    "metadata": {}
                },
                {
                    "output_type": "display_data",
                    "data": {
                        "text/html": "Total execution time: 00:00:00.019"
                    },
                    "metadata": {}
                },
                {
                    "output_type": "execute_result",
                    "metadata": {},
                    "execution_count": 12,
                    "data": {
                        "application/vnd.dataresource+json": {
                            "schema": {
                                "fields": [
                                    {
                                        "name": "(No column name)"
                                    }
                                ]
                            },
                            "data": [
                                {
                                    "0": "65000"
                                }
                            ]
                        },
                        "text/html": [
                            "<table>",
                            "<tr><th>(No column name)</th></tr>",
                            "<tr><td>65000</td></tr>",
                            "</table>"
                        ]
                    }
                }
            ],
            "execution_count": 12
        },
        {
            "cell_type": "markdown",
            "source": [
                "Calculate Min Salary"
            ],
            "metadata": {
                "azdata_cell_guid": "1f520537-7cc9-46dd-9bad-375be0efa752"
            },
            "attachments": {}
        },
        {
            "cell_type": "code",
            "source": [
                "SELECT MIN(Salary) \n",
                "FROM [dbo].EmployeeSalary"
            ],
            "metadata": {
                "language": "sql",
                "azdata_cell_guid": "bfc73e2c-b734-4290-944e-18cbd09e1e3e"
            },
            "outputs": [
                {
                    "output_type": "display_data",
                    "data": {
                        "text/html": "(1 row affected)"
                    },
                    "metadata": {}
                },
                {
                    "output_type": "display_data",
                    "data": {
                        "text/html": "Total execution time: 00:00:00.012"
                    },
                    "metadata": {}
                },
                {
                    "output_type": "execute_result",
                    "execution_count": 18,
                    "data": {
                        "application/vnd.dataresource+json": {
                            "schema": {
                                "fields": [
                                    {
                                        "name": "(No column name)"
                                    }
                                ]
                            },
                            "data": [
                                {
                                    "0": "36000"
                                }
                            ]
                        },
                        "text/html": "<table><tr><th>(No column name)</th></tr><tr><td>36000</td></tr></table>"
                    },
                    "metadata": {}
                }
            ],
            "execution_count": 18
        },
        {
            "cell_type": "markdown",
            "source": [
                "Calculate Average Salary"
            ],
            "metadata": {
                "language": "sql",
                "azdata_cell_guid": "0e264773-d247-4ad9-b0bd-f5f097325102"
            },
            "attachments": {}
        },
        {
            "cell_type": "code",
            "source": [
                "SELECT AVG(Salary)\n",
                "FROM [dbo].EmployeeSalary"
            ],
            "metadata": {
                "language": "sql",
                "azdata_cell_guid": "2dbaded2-bd6d-42b7-b821-0f4571db0943"
            },
            "outputs": [
                {
                    "output_type": "display_data",
                    "data": {
                        "text/html": "(1 row affected)"
                    },
                    "metadata": {}
                },
                {
                    "output_type": "display_data",
                    "data": {
                        "text/html": "Total execution time: 00:00:00.007"
                    },
                    "metadata": {}
                },
                {
                    "output_type": "execute_result",
                    "execution_count": 17,
                    "data": {
                        "application/vnd.dataresource+json": {
                            "schema": {
                                "fields": [
                                    {
                                        "name": "(No column name)"
                                    }
                                ]
                            },
                            "data": [
                                {
                                    "0": "48555"
                                }
                            ]
                        },
                        "text/html": "<table><tr><th>(No column name)</th></tr><tr><td>48555</td></tr></table>"
                    },
                    "metadata": {}
                }
            ],
            "execution_count": 17
        },
        {
            "cell_type": "markdown",
            "source": [
                "# Lesson 3: WHERE Statement\n",
                "\n",
                "The Where statement is use to filter or limit the amount of data retrieve from table.\n",
                "\n",
                "Some of the WHERE statement operators include: <span style=\"color: rgb(0, 128, 0); font-family: Menlo, Monaco, &quot;Courier New&quot;, monospace; font-size: 12px; white-space: pre;\">=, &lt;&gt;, &lt;, &gt;, AND, OR, LIKE, NULL, NOT NULL, IN,</span>"
            ],
            "metadata": {
                "language": "sql",
                "azdata_cell_guid": "6ffb8383-7ee0-4d71-9df7-1a15e249267a"
            },
            "attachments": {}
        },
        {
            "cell_type": "markdown",
            "source": [
                "Looking for First Names equal to 'Jim'. Note, string variables requiere ' '"
            ],
            "metadata": {
                "language": "sql",
                "azdata_cell_guid": "f0530b56-b1c3-4cd7-bac2-ef8403bc12d3"
            },
            "attachments": {}
        },
        {
            "cell_type": "code",
            "source": [
                "SELECT *\n",
                "FROM [dbo].[EmployeeDemographics]\n",
                "WHERE FirstName = 'Jim'"
            ],
            "metadata": {
                "language": "sql",
                "azdata_cell_guid": "b55ade87-163e-4d2d-8701-69d582da9e1c"
            },
            "outputs": [
                {
                    "output_type": "display_data",
                    "data": {
                        "text/html": "(1 row affected)"
                    },
                    "metadata": {}
                },
                {
                    "output_type": "display_data",
                    "data": {
                        "text/html": "Total execution time: 00:00:00.038"
                    },
                    "metadata": {}
                },
                {
                    "output_type": "execute_result",
                    "metadata": {},
                    "execution_count": 15,
                    "data": {
                        "application/vnd.dataresource+json": {
                            "schema": {
                                "fields": [
                                    {
                                        "name": "EmployeeID"
                                    },
                                    {
                                        "name": "FirstName"
                                    },
                                    {
                                        "name": "LastName"
                                    },
                                    {
                                        "name": "Age"
                                    },
                                    {
                                        "name": "Gender"
                                    }
                                ]
                            },
                            "data": [
                                {
                                    "0": "1001",
                                    "1": "Jim",
                                    "2": "Halper",
                                    "3": "30",
                                    "4": "Male"
                                }
                            ]
                        },
                        "text/html": [
                            "<table>",
                            "<tr><th>EmployeeID</th><th>FirstName</th><th>LastName</th><th>Age</th><th>Gender</th></tr>",
                            "<tr><td>1001</td><td>Jim</td><td>Halper</td><td>30</td><td>Male</td></tr>",
                            "</table>"
                        ]
                    }
                }
            ],
            "execution_count": 15
        },
        {
            "cell_type": "markdown",
            "source": [
                "Looking for First Names diferent than 'Jim\""
            ],
            "metadata": {
                "language": "sql",
                "azdata_cell_guid": "8690d031-ba26-470e-a2ae-cde39cb78f9e"
            },
            "attachments": {}
        },
        {
            "cell_type": "code",
            "source": [
                "-- Note:\"<>\" stands for not equal\n",
                "SELECT *\n",
                "FROM [dbo].[EmployeeDemographics]\n",
                "WHERE FirstName <> 'Jim'"
            ],
            "metadata": {
                "language": "sql",
                "azdata_cell_guid": "0a7ac3a7-fc29-4295-ad71-9056f2c6d5b7"
            },
            "outputs": [
                {
                    "output_type": "display_data",
                    "data": {
                        "text/html": "(8 rows affected)"
                    },
                    "metadata": {}
                },
                {
                    "output_type": "display_data",
                    "data": {
                        "text/html": "Total execution time: 00:00:00.023"
                    },
                    "metadata": {}
                },
                {
                    "output_type": "execute_result",
                    "metadata": {},
                    "execution_count": 13,
                    "data": {
                        "application/vnd.dataresource+json": {
                            "schema": {
                                "fields": [
                                    {
                                        "name": "EmployeeID"
                                    },
                                    {
                                        "name": "FirstName"
                                    },
                                    {
                                        "name": "LastName"
                                    },
                                    {
                                        "name": "Age"
                                    },
                                    {
                                        "name": "Gender"
                                    }
                                ]
                            },
                            "data": [
                                {
                                    "0": "1002",
                                    "1": "Pam",
                                    "2": "Beasley",
                                    "3": "30",
                                    "4": "Female"
                                },
                                {
                                    "0": "1003",
                                    "1": "Dwight",
                                    "2": "Schrute",
                                    "3": "29",
                                    "4": "Male"
                                },
                                {
                                    "0": "1004",
                                    "1": "Angela",
                                    "2": "Martin",
                                    "3": "31",
                                    "4": "Female"
                                },
                                {
                                    "0": "1005",
                                    "1": "Toby",
                                    "2": "Flenderson",
                                    "3": "32",
                                    "4": "Male"
                                },
                                {
                                    "0": "1006",
                                    "1": "Michael",
                                    "2": "Scott",
                                    "3": "35",
                                    "4": "Male"
                                },
                                {
                                    "0": "1007",
                                    "1": "Meredith",
                                    "2": "Palmer",
                                    "3": "32",
                                    "4": "Female"
                                },
                                {
                                    "0": "1008",
                                    "1": "Stanley",
                                    "2": "Hudson",
                                    "3": "38",
                                    "4": "Male"
                                },
                                {
                                    "0": "1009",
                                    "1": "Kevin",
                                    "2": "Malone",
                                    "3": "31",
                                    "4": "Male"
                                }
                            ]
                        },
                        "text/html": [
                            "<table>",
                            "<tr><th>EmployeeID</th><th>FirstName</th><th>LastName</th><th>Age</th><th>Gender</th></tr>",
                            "<tr><td>1002</td><td>Pam</td><td>Beasley</td><td>30</td><td>Female</td></tr>",
                            "<tr><td>1003</td><td>Dwight</td><td>Schrute</td><td>29</td><td>Male</td></tr>",
                            "<tr><td>1004</td><td>Angela</td><td>Martin</td><td>31</td><td>Female</td></tr>",
                            "<tr><td>1005</td><td>Toby</td><td>Flenderson</td><td>32</td><td>Male</td></tr>",
                            "<tr><td>1006</td><td>Michael</td><td>Scott</td><td>35</td><td>Male</td></tr>",
                            "<tr><td>1007</td><td>Meredith</td><td>Palmer</td><td>32</td><td>Female</td></tr>",
                            "<tr><td>1008</td><td>Stanley</td><td>Hudson</td><td>38</td><td>Male</td></tr>",
                            "<tr><td>1009</td><td>Kevin</td><td>Malone</td><td>31</td><td>Male</td></tr>",
                            "</table>"
                        ]
                    }
                }
            ],
            "execution_count": 13
        },
        {
            "cell_type": "markdown",
            "source": [
                "Looking for Rows with age equal or greater than 30 years old"
            ],
            "metadata": {
                "language": "sql",
                "azdata_cell_guid": "0054134c-81f8-41ce-894f-31d2039d4811"
            },
            "attachments": {}
        },
        {
            "cell_type": "code",
            "source": [
                "SELECT *\n",
                "FROM [dbo].[EmployeeDemographics]\n",
                "WHERE Age >= 30"
            ],
            "metadata": {
                "language": "sql",
                "azdata_cell_guid": "7c8e174f-2a2a-465a-9d9b-eee86401e9f2"
            },
            "outputs": [
                {
                    "output_type": "display_data",
                    "data": {
                        "text/html": "(8 rows affected)"
                    },
                    "metadata": {}
                },
                {
                    "output_type": "display_data",
                    "data": {
                        "text/html": "Total execution time: 00:00:00.016"
                    },
                    "metadata": {}
                },
                {
                    "output_type": "execute_result",
                    "metadata": {},
                    "execution_count": 19,
                    "data": {
                        "application/vnd.dataresource+json": {
                            "schema": {
                                "fields": [
                                    {
                                        "name": "EmployeeID"
                                    },
                                    {
                                        "name": "FirstName"
                                    },
                                    {
                                        "name": "LastName"
                                    },
                                    {
                                        "name": "Age"
                                    },
                                    {
                                        "name": "Gender"
                                    }
                                ]
                            },
                            "data": [
                                {
                                    "0": "1001",
                                    "1": "Jim",
                                    "2": "Halper",
                                    "3": "30",
                                    "4": "Male"
                                },
                                {
                                    "0": "1002",
                                    "1": "Pam",
                                    "2": "Beasley",
                                    "3": "30",
                                    "4": "Female"
                                },
                                {
                                    "0": "1004",
                                    "1": "Angela",
                                    "2": "Martin",
                                    "3": "31",
                                    "4": "Female"
                                },
                                {
                                    "0": "1005",
                                    "1": "Toby",
                                    "2": "Flenderson",
                                    "3": "32",
                                    "4": "Male"
                                },
                                {
                                    "0": "1006",
                                    "1": "Michael",
                                    "2": "Scott",
                                    "3": "35",
                                    "4": "Male"
                                },
                                {
                                    "0": "1007",
                                    "1": "Meredith",
                                    "2": "Palmer",
                                    "3": "32",
                                    "4": "Female"
                                },
                                {
                                    "0": "1008",
                                    "1": "Stanley",
                                    "2": "Hudson",
                                    "3": "38",
                                    "4": "Male"
                                },
                                {
                                    "0": "1009",
                                    "1": "Kevin",
                                    "2": "Malone",
                                    "3": "31",
                                    "4": "Male"
                                }
                            ]
                        },
                        "text/html": [
                            "<table>",
                            "<tr><th>EmployeeID</th><th>FirstName</th><th>LastName</th><th>Age</th><th>Gender</th></tr>",
                            "<tr><td>1001</td><td>Jim</td><td>Halper</td><td>30</td><td>Male</td></tr>",
                            "<tr><td>1002</td><td>Pam</td><td>Beasley</td><td>30</td><td>Female</td></tr>",
                            "<tr><td>1004</td><td>Angela</td><td>Martin</td><td>31</td><td>Female</td></tr>",
                            "<tr><td>1005</td><td>Toby</td><td>Flenderson</td><td>32</td><td>Male</td></tr>",
                            "<tr><td>1006</td><td>Michael</td><td>Scott</td><td>35</td><td>Male</td></tr>",
                            "<tr><td>1007</td><td>Meredith</td><td>Palmer</td><td>32</td><td>Female</td></tr>",
                            "<tr><td>1008</td><td>Stanley</td><td>Hudson</td><td>38</td><td>Male</td></tr>",
                            "<tr><td>1009</td><td>Kevin</td><td>Malone</td><td>31</td><td>Male</td></tr>",
                            "</table>"
                        ]
                    }
                }
            ],
            "execution_count": 19
        },
        {
            "cell_type": "markdown",
            "source": [
                "Adding additional filters in the same statement. \"OR\" is mainly use to create a case in in the filter. \"AND\" is use to create additional conditions to the filter"
            ],
            "metadata": {
                "language": "sql",
                "azdata_cell_guid": "0ce0e8c9-1f9c-4830-bda0-6c97bd3ae219"
            },
            "attachments": {}
        },
        {
            "cell_type": "code",
            "source": [
                "SELECT *\n",
                "FROM [dbo].[EmployeeDemographics]\n",
                "WHERE Age >= 35 OR Age < 32"
            ],
            "metadata": {
                "language": "sql",
                "azdata_cell_guid": "a037f3e5-4237-4c2a-a297-7f82d02e92ee"
            },
            "outputs": [
                {
                    "output_type": "display_data",
                    "data": {
                        "text/html": "(7 rows affected)"
                    },
                    "metadata": {}
                },
                {
                    "output_type": "display_data",
                    "data": {
                        "text/html": "Total execution time: 00:00:00.019"
                    },
                    "metadata": {}
                },
                {
                    "output_type": "execute_result",
                    "metadata": {},
                    "execution_count": 22,
                    "data": {
                        "application/vnd.dataresource+json": {
                            "schema": {
                                "fields": [
                                    {
                                        "name": "EmployeeID"
                                    },
                                    {
                                        "name": "FirstName"
                                    },
                                    {
                                        "name": "LastName"
                                    },
                                    {
                                        "name": "Age"
                                    },
                                    {
                                        "name": "Gender"
                                    }
                                ]
                            },
                            "data": [
                                {
                                    "0": "1001",
                                    "1": "Jim",
                                    "2": "Halper",
                                    "3": "30",
                                    "4": "Male"
                                },
                                {
                                    "0": "1002",
                                    "1": "Pam",
                                    "2": "Beasley",
                                    "3": "30",
                                    "4": "Female"
                                },
                                {
                                    "0": "1003",
                                    "1": "Dwight",
                                    "2": "Schrute",
                                    "3": "29",
                                    "4": "Male"
                                },
                                {
                                    "0": "1004",
                                    "1": "Angela",
                                    "2": "Martin",
                                    "3": "31",
                                    "4": "Female"
                                },
                                {
                                    "0": "1006",
                                    "1": "Michael",
                                    "2": "Scott",
                                    "3": "35",
                                    "4": "Male"
                                },
                                {
                                    "0": "1008",
                                    "1": "Stanley",
                                    "2": "Hudson",
                                    "3": "38",
                                    "4": "Male"
                                },
                                {
                                    "0": "1009",
                                    "1": "Kevin",
                                    "2": "Malone",
                                    "3": "31",
                                    "4": "Male"
                                }
                            ]
                        },
                        "text/html": [
                            "<table>",
                            "<tr><th>EmployeeID</th><th>FirstName</th><th>LastName</th><th>Age</th><th>Gender</th></tr>",
                            "<tr><td>1001</td><td>Jim</td><td>Halper</td><td>30</td><td>Male</td></tr>",
                            "<tr><td>1002</td><td>Pam</td><td>Beasley</td><td>30</td><td>Female</td></tr>",
                            "<tr><td>1003</td><td>Dwight</td><td>Schrute</td><td>29</td><td>Male</td></tr>",
                            "<tr><td>1004</td><td>Angela</td><td>Martin</td><td>31</td><td>Female</td></tr>",
                            "<tr><td>1006</td><td>Michael</td><td>Scott</td><td>35</td><td>Male</td></tr>",
                            "<tr><td>1008</td><td>Stanley</td><td>Hudson</td><td>38</td><td>Male</td></tr>",
                            "<tr><td>1009</td><td>Kevin</td><td>Malone</td><td>31</td><td>Male</td></tr>",
                            "</table>"
                        ]
                    }
                }
            ],
            "execution_count": 22
        },
        {
            "cell_type": "markdown",
            "source": [
                "Looking for Last Name with First Letter P and E somewhere after P"
            ],
            "metadata": {
                "language": "sql",
                "azdata_cell_guid": "7de8a460-e786-4485-a18e-e40fb2977cd7"
            },
            "attachments": {}
        },
        {
            "cell_type": "code",
            "source": [
                "--\"LIKE\" is use for a broad search. Useful when we dont recall the specifics, its use along with \"%\"\n",
                "SELECT *\n",
                "FROM [dbo].[EmployeeDemographics]\n",
                "WHERE LastName LIKE 'P%E%'"
            ],
            "metadata": {
                "azdata_cell_guid": "c869377d-4fd2-4131-bbce-359537c1eab7",
                "language": "sql"
            },
            "outputs": [
                {
                    "output_type": "display_data",
                    "data": {
                        "text/html": "(1 row affected)"
                    },
                    "metadata": {}
                },
                {
                    "output_type": "display_data",
                    "data": {
                        "text/html": "Total execution time: 00:00:00.024"
                    },
                    "metadata": {}
                },
                {
                    "output_type": "execute_result",
                    "metadata": {},
                    "execution_count": 14,
                    "data": {
                        "application/vnd.dataresource+json": {
                            "schema": {
                                "fields": [
                                    {
                                        "name": "EmployeeID"
                                    },
                                    {
                                        "name": "FirstName"
                                    },
                                    {
                                        "name": "LastName"
                                    },
                                    {
                                        "name": "Age"
                                    },
                                    {
                                        "name": "Gender"
                                    }
                                ]
                            },
                            "data": [
                                {
                                    "0": "1007",
                                    "1": "Meredith",
                                    "2": "Palmer",
                                    "3": "32",
                                    "4": "Female"
                                }
                            ]
                        },
                        "text/html": [
                            "<table>",
                            "<tr><th>EmployeeID</th><th>FirstName</th><th>LastName</th><th>Age</th><th>Gender</th></tr>",
                            "<tr><td>1007</td><td>Meredith</td><td>Palmer</td><td>32</td><td>Female</td></tr>",
                            "</table>"
                        ]
                    }
                }
            ],
            "execution_count": 14
        },
        {
            "cell_type": "markdown",
            "source": [
                "Looking for NULLS in last name"
            ],
            "metadata": {
                "language": "sql",
                "azdata_cell_guid": "a6f87b06-f769-43da-a733-14ab1f3cb039"
            },
            "attachments": {}
        },
        {
            "cell_type": "code",
            "source": [
                "SELECT *\n",
                "FROM [dbo].[EmployeeDemographics]\n",
                "WHERE LastName is NULL"
            ],
            "metadata": {
                "language": "sql",
                "azdata_cell_guid": "fb9b6e95-86d5-4f5c-a40d-932a2b19fee0"
            },
            "outputs": [
                {
                    "output_type": "display_data",
                    "data": {
                        "text/html": "(0 rows affected)"
                    },
                    "metadata": {}
                },
                {
                    "output_type": "display_data",
                    "data": {
                        "text/html": "Total execution time: 00:00:00.010"
                    },
                    "metadata": {}
                },
                {
                    "output_type": "execute_result",
                    "metadata": {},
                    "execution_count": 25,
                    "data": {
                        "application/vnd.dataresource+json": {
                            "schema": {
                                "fields": [
                                    {
                                        "name": "EmployeeID"
                                    },
                                    {
                                        "name": "FirstName"
                                    },
                                    {
                                        "name": "LastName"
                                    },
                                    {
                                        "name": "Age"
                                    },
                                    {
                                        "name": "Gender"
                                    }
                                ]
                            },
                            "data": []
                        },
                        "text/html": [
                            "<table>",
                            "<tr><th>EmployeeID</th><th>FirstName</th><th>LastName</th><th>Age</th><th>Gender</th></tr>",
                            "</table>"
                        ]
                    }
                }
            ],
            "execution_count": 25
        },
        {
            "cell_type": "markdown",
            "source": [
                "To filer for multiple conditions we can use 'IN'"
            ],
            "metadata": {
                "language": "sql",
                "azdata_cell_guid": "9ccf866e-dcde-4ee3-9ba6-3636f4dbf77d"
            },
            "attachments": {}
        },
        {
            "cell_type": "code",
            "source": [
                "SELECT *\n",
                "FROM [dbo].[EmployeeDemographics]\n",
                "WHERE FirstName IN ('Jim', 'Pam')"
            ],
            "metadata": {
                "language": "sql",
                "azdata_cell_guid": "4ebafcdb-dbd0-458b-9c15-1ba509faf910"
            },
            "outputs": [
                {
                    "output_type": "display_data",
                    "data": {
                        "text/html": "(2 rows affected)"
                    },
                    "metadata": {}
                },
                {
                    "output_type": "display_data",
                    "data": {
                        "text/html": "Total execution time: 00:00:00.011"
                    },
                    "metadata": {}
                },
                {
                    "output_type": "execute_result",
                    "metadata": {},
                    "execution_count": 28,
                    "data": {
                        "application/vnd.dataresource+json": {
                            "schema": {
                                "fields": [
                                    {
                                        "name": "EmployeeID"
                                    },
                                    {
                                        "name": "FirstName"
                                    },
                                    {
                                        "name": "LastName"
                                    },
                                    {
                                        "name": "Age"
                                    },
                                    {
                                        "name": "Gender"
                                    }
                                ]
                            },
                            "data": [
                                {
                                    "0": "1001",
                                    "1": "Jim",
                                    "2": "Halper",
                                    "3": "30",
                                    "4": "Male"
                                },
                                {
                                    "0": "1002",
                                    "1": "Pam",
                                    "2": "Beasley",
                                    "3": "30",
                                    "4": "Female"
                                }
                            ]
                        },
                        "text/html": [
                            "<table>",
                            "<tr><th>EmployeeID</th><th>FirstName</th><th>LastName</th><th>Age</th><th>Gender</th></tr>",
                            "<tr><td>1001</td><td>Jim</td><td>Halper</td><td>30</td><td>Male</td></tr>",
                            "<tr><td>1002</td><td>Pam</td><td>Beasley</td><td>30</td><td>Female</td></tr>",
                            "</table>"
                        ]
                    }
                }
            ],
            "execution_count": 28
        },
        {
            "cell_type": "markdown",
            "source": [
                "# Lesson 4: GROUP BY & ORDER BY\n",
                "\n",
                "The GROUP BY statement it us tu group data in colum. \n",
                "\n",
                "And ORDER BY statement is use to sort data from A to Z or Z to A (ascending or descending)"
            ],
            "metadata": {
                "language": "sql",
                "azdata_cell_guid": "dc3b49ab-3f23-455d-85d5-1d0266354789"
            },
            "attachments": {}
        },
        {
            "cell_type": "markdown",
            "source": [
                "GROUP BY example"
            ],
            "metadata": {
                "language": "sql",
                "azdata_cell_guid": "c85a120c-e625-4393-861b-028dfbae1fbb"
            },
            "attachments": {}
        },
        {
            "cell_type": "code",
            "source": [
                "SELECT Gender, COUNT(Gender)\n",
                "FROM EmployeeDemographics\n",
                "GROUP BY Gender"
            ],
            "metadata": {
                "language": "sql",
                "azdata_cell_guid": "d8539818-9cc0-414c-9cab-8e7c9eb7ac8f"
            },
            "outputs": [
                {
                    "output_type": "display_data",
                    "data": {
                        "text/html": "(2 rows affected)"
                    },
                    "metadata": {}
                },
                {
                    "output_type": "display_data",
                    "data": {
                        "text/html": "Total execution time: 00:00:00.011"
                    },
                    "metadata": {}
                },
                {
                    "output_type": "execute_result",
                    "metadata": {},
                    "execution_count": 37,
                    "data": {
                        "application/vnd.dataresource+json": {
                            "schema": {
                                "fields": [
                                    {
                                        "name": "Gender"
                                    },
                                    {
                                        "name": "(No column name)"
                                    }
                                ]
                            },
                            "data": [
                                {
                                    "0": "Female",
                                    "1": "3"
                                },
                                {
                                    "0": "Male",
                                    "1": "6"
                                }
                            ]
                        },
                        "text/html": [
                            "<table>",
                            "<tr><th>Gender</th><th>(No column name)</th></tr>",
                            "<tr><td>Female</td><td>3</td></tr>",
                            "<tr><td>Male</td><td>6</td></tr>",
                            "</table>"
                        ]
                    }
                }
            ],
            "execution_count": 37
        },
        {
            "cell_type": "markdown",
            "source": [
                "GROUP BY Gender and Age"
            ],
            "metadata": {
                "language": "sql",
                "azdata_cell_guid": "44eed504-391d-474f-88a5-8cf4f3be8579"
            },
            "attachments": {}
        },
        {
            "cell_type": "code",
            "source": [
                "SELECT Gender, Age, COUNT(Gender)\n",
                "FROM EmployeeDemographics\n",
                "GROUP BY Gender, Age"
            ],
            "metadata": {
                "language": "sql",
                "azdata_cell_guid": "f459d691-a352-4f84-93c2-ab670df66f04"
            },
            "outputs": [
                {
                    "output_type": "display_data",
                    "data": {
                        "text/html": "(9 rows affected)"
                    },
                    "metadata": {}
                },
                {
                    "output_type": "display_data",
                    "data": {
                        "text/html": "Total execution time: 00:00:00.017"
                    },
                    "metadata": {}
                },
                {
                    "output_type": "execute_result",
                    "metadata": {},
                    "execution_count": 38,
                    "data": {
                        "application/vnd.dataresource+json": {
                            "schema": {
                                "fields": [
                                    {
                                        "name": "Gender"
                                    },
                                    {
                                        "name": "Age"
                                    },
                                    {
                                        "name": "(No column name)"
                                    }
                                ]
                            },
                            "data": [
                                {
                                    "0": "Male",
                                    "1": "29",
                                    "2": "1"
                                },
                                {
                                    "0": "Female",
                                    "1": "30",
                                    "2": "1"
                                },
                                {
                                    "0": "Male",
                                    "1": "30",
                                    "2": "1"
                                },
                                {
                                    "0": "Female",
                                    "1": "31",
                                    "2": "1"
                                },
                                {
                                    "0": "Male",
                                    "1": "31",
                                    "2": "1"
                                },
                                {
                                    "0": "Female",
                                    "1": "32",
                                    "2": "1"
                                },
                                {
                                    "0": "Male",
                                    "1": "32",
                                    "2": "1"
                                },
                                {
                                    "0": "Male",
                                    "1": "35",
                                    "2": "1"
                                },
                                {
                                    "0": "Male",
                                    "1": "38",
                                    "2": "1"
                                }
                            ]
                        },
                        "text/html": [
                            "<table>",
                            "<tr><th>Gender</th><th>Age</th><th>(No column name)</th></tr>",
                            "<tr><td>Male</td><td>29</td><td>1</td></tr>",
                            "<tr><td>Female</td><td>30</td><td>1</td></tr>",
                            "<tr><td>Male</td><td>30</td><td>1</td></tr>",
                            "<tr><td>Female</td><td>31</td><td>1</td></tr>",
                            "<tr><td>Male</td><td>31</td><td>1</td></tr>",
                            "<tr><td>Female</td><td>32</td><td>1</td></tr>",
                            "<tr><td>Male</td><td>32</td><td>1</td></tr>",
                            "<tr><td>Male</td><td>35</td><td>1</td></tr>",
                            "<tr><td>Male</td><td>38</td><td>1</td></tr>",
                            "</table>"
                        ]
                    }
                }
            ],
            "execution_count": 38
        },
        {
            "cell_type": "markdown",
            "source": [
                "ORDER BY first example\n",
                "\n",
                "Note: ORDER BY by default sorts by ascending, ASC."
            ],
            "metadata": {
                "language": "sql",
                "azdata_cell_guid": "90b6c376-a057-4b45-ad79-3f1b1749e2ca"
            },
            "attachments": {}
        },
        {
            "cell_type": "code",
            "source": [
                "SELECT *\n",
                "FROM EmployeeDemographics\n",
                "ORDER BY Age"
            ],
            "metadata": {
                "language": "sql",
                "azdata_cell_guid": "0ff92f17-f0b0-45b1-bd9a-5a53a9f01480"
            },
            "outputs": [
                {
                    "output_type": "display_data",
                    "data": {
                        "text/html": "(9 rows affected)"
                    },
                    "metadata": {}
                },
                {
                    "output_type": "display_data",
                    "data": {
                        "text/html": "Total execution time: 00:00:00.021"
                    },
                    "metadata": {}
                },
                {
                    "output_type": "execute_result",
                    "metadata": {},
                    "execution_count": 40,
                    "data": {
                        "application/vnd.dataresource+json": {
                            "schema": {
                                "fields": [
                                    {
                                        "name": "EmployeeID"
                                    },
                                    {
                                        "name": "FirstName"
                                    },
                                    {
                                        "name": "LastName"
                                    },
                                    {
                                        "name": "Age"
                                    },
                                    {
                                        "name": "Gender"
                                    }
                                ]
                            },
                            "data": [
                                {
                                    "0": "1003",
                                    "1": "Dwight",
                                    "2": "Schrute",
                                    "3": "29",
                                    "4": "Male"
                                },
                                {
                                    "0": "1001",
                                    "1": "Jim",
                                    "2": "Halper",
                                    "3": "30",
                                    "4": "Male"
                                },
                                {
                                    "0": "1002",
                                    "1": "Pam",
                                    "2": "Beasley",
                                    "3": "30",
                                    "4": "Female"
                                },
                                {
                                    "0": "1004",
                                    "1": "Angela",
                                    "2": "Martin",
                                    "3": "31",
                                    "4": "Female"
                                },
                                {
                                    "0": "1009",
                                    "1": "Kevin",
                                    "2": "Malone",
                                    "3": "31",
                                    "4": "Male"
                                },
                                {
                                    "0": "1005",
                                    "1": "Toby",
                                    "2": "Flenderson",
                                    "3": "32",
                                    "4": "Male"
                                },
                                {
                                    "0": "1007",
                                    "1": "Meredith",
                                    "2": "Palmer",
                                    "3": "32",
                                    "4": "Female"
                                },
                                {
                                    "0": "1006",
                                    "1": "Michael",
                                    "2": "Scott",
                                    "3": "35",
                                    "4": "Male"
                                },
                                {
                                    "0": "1008",
                                    "1": "Stanley",
                                    "2": "Hudson",
                                    "3": "38",
                                    "4": "Male"
                                }
                            ]
                        },
                        "text/html": [
                            "<table>",
                            "<tr><th>EmployeeID</th><th>FirstName</th><th>LastName</th><th>Age</th><th>Gender</th></tr>",
                            "<tr><td>1003</td><td>Dwight</td><td>Schrute</td><td>29</td><td>Male</td></tr>",
                            "<tr><td>1001</td><td>Jim</td><td>Halper</td><td>30</td><td>Male</td></tr>",
                            "<tr><td>1002</td><td>Pam</td><td>Beasley</td><td>30</td><td>Female</td></tr>",
                            "<tr><td>1004</td><td>Angela</td><td>Martin</td><td>31</td><td>Female</td></tr>",
                            "<tr><td>1009</td><td>Kevin</td><td>Malone</td><td>31</td><td>Male</td></tr>",
                            "<tr><td>1005</td><td>Toby</td><td>Flenderson</td><td>32</td><td>Male</td></tr>",
                            "<tr><td>1007</td><td>Meredith</td><td>Palmer</td><td>32</td><td>Female</td></tr>",
                            "<tr><td>1006</td><td>Michael</td><td>Scott</td><td>35</td><td>Male</td></tr>",
                            "<tr><td>1008</td><td>Stanley</td><td>Hudson</td><td>38</td><td>Male</td></tr>",
                            "</table>"
                        ]
                    }
                }
            ],
            "execution_count": 40
        },
        {
            "cell_type": "markdown",
            "source": [
                "ORDER BY second example \n",
                "\n",
                "For the example we use the AS query for aliasin an create column 'CountGender'.\n",
                "\n",
                "And with WHERE we filter for age greater than 31. And order by 'CountGender' descending order (DESC)."
            ],
            "metadata": {
                "language": "sql",
                "azdata_cell_guid": "39f446ae-aae1-420d-af1d-622e5dbff776"
            },
            "attachments": {}
        },
        {
            "cell_type": "code",
            "source": [
                "SELECT Gender, COUNT(Gender) AS CountGender\n",
                "FROM EmployeeDemographics\n",
                "WHERE Age > 31\n",
                "GROUP BY Gender\n",
                "ORDER BY CountGender DESC"
            ],
            "metadata": {
                "language": "sql",
                "azdata_cell_guid": "6c2e8739-93a2-4694-84e8-cf9bbc657178"
            },
            "outputs": [
                {
                    "output_type": "display_data",
                    "data": {
                        "text/html": "(2 rows affected)"
                    },
                    "metadata": {}
                },
                {
                    "output_type": "display_data",
                    "data": {
                        "text/html": "Total execution time: 00:00:00.027"
                    },
                    "metadata": {}
                },
                {
                    "output_type": "execute_result",
                    "metadata": {},
                    "execution_count": 39,
                    "data": {
                        "application/vnd.dataresource+json": {
                            "schema": {
                                "fields": [
                                    {
                                        "name": "Gender"
                                    },
                                    {
                                        "name": "CountGender"
                                    }
                                ]
                            },
                            "data": [
                                {
                                    "0": "Male",
                                    "1": "3"
                                },
                                {
                                    "0": "Female",
                                    "1": "1"
                                }
                            ]
                        },
                        "text/html": [
                            "<table>",
                            "<tr><th>Gender</th><th>CountGender</th></tr>",
                            "<tr><td>Male</td><td>3</td></tr>",
                            "<tr><td>Female</td><td>1</td></tr>",
                            "</table>"
                        ]
                    }
                }
            ],
            "execution_count": 39
        },
        {
            "cell_type": "markdown",
            "source": [
                "ORDER BY first Age and Second Gender (this last in descending)"
            ],
            "metadata": {
                "language": "sql",
                "azdata_cell_guid": "e210f0b3-83ef-4169-a425-480f9620f8b0"
            },
            "attachments": {}
        },
        {
            "cell_type": "code",
            "source": [
                "SELECT *\n",
                "FROM EmployeeDemographics\n",
                "ORDER BY Age, Gender DESC"
            ],
            "metadata": {
                "language": "sql",
                "azdata_cell_guid": "847fdf86-bd6e-4e9f-bbf5-e38f7028a348"
            },
            "outputs": [
                {
                    "output_type": "display_data",
                    "data": {
                        "text/html": "(9 rows affected)"
                    },
                    "metadata": {}
                },
                {
                    "output_type": "display_data",
                    "data": {
                        "text/html": "Total execution time: 00:00:00.031"
                    },
                    "metadata": {}
                },
                {
                    "output_type": "execute_result",
                    "metadata": {},
                    "execution_count": 41,
                    "data": {
                        "application/vnd.dataresource+json": {
                            "schema": {
                                "fields": [
                                    {
                                        "name": "EmployeeID"
                                    },
                                    {
                                        "name": "FirstName"
                                    },
                                    {
                                        "name": "LastName"
                                    },
                                    {
                                        "name": "Age"
                                    },
                                    {
                                        "name": "Gender"
                                    }
                                ]
                            },
                            "data": [
                                {
                                    "0": "1003",
                                    "1": "Dwight",
                                    "2": "Schrute",
                                    "3": "29",
                                    "4": "Male"
                                },
                                {
                                    "0": "1001",
                                    "1": "Jim",
                                    "2": "Halper",
                                    "3": "30",
                                    "4": "Male"
                                },
                                {
                                    "0": "1002",
                                    "1": "Pam",
                                    "2": "Beasley",
                                    "3": "30",
                                    "4": "Female"
                                },
                                {
                                    "0": "1009",
                                    "1": "Kevin",
                                    "2": "Malone",
                                    "3": "31",
                                    "4": "Male"
                                },
                                {
                                    "0": "1004",
                                    "1": "Angela",
                                    "2": "Martin",
                                    "3": "31",
                                    "4": "Female"
                                },
                                {
                                    "0": "1005",
                                    "1": "Toby",
                                    "2": "Flenderson",
                                    "3": "32",
                                    "4": "Male"
                                },
                                {
                                    "0": "1007",
                                    "1": "Meredith",
                                    "2": "Palmer",
                                    "3": "32",
                                    "4": "Female"
                                },
                                {
                                    "0": "1006",
                                    "1": "Michael",
                                    "2": "Scott",
                                    "3": "35",
                                    "4": "Male"
                                },
                                {
                                    "0": "1008",
                                    "1": "Stanley",
                                    "2": "Hudson",
                                    "3": "38",
                                    "4": "Male"
                                }
                            ]
                        },
                        "text/html": [
                            "<table>",
                            "<tr><th>EmployeeID</th><th>FirstName</th><th>LastName</th><th>Age</th><th>Gender</th></tr>",
                            "<tr><td>1003</td><td>Dwight</td><td>Schrute</td><td>29</td><td>Male</td></tr>",
                            "<tr><td>1001</td><td>Jim</td><td>Halper</td><td>30</td><td>Male</td></tr>",
                            "<tr><td>1002</td><td>Pam</td><td>Beasley</td><td>30</td><td>Female</td></tr>",
                            "<tr><td>1009</td><td>Kevin</td><td>Malone</td><td>31</td><td>Male</td></tr>",
                            "<tr><td>1004</td><td>Angela</td><td>Martin</td><td>31</td><td>Female</td></tr>",
                            "<tr><td>1005</td><td>Toby</td><td>Flenderson</td><td>32</td><td>Male</td></tr>",
                            "<tr><td>1007</td><td>Meredith</td><td>Palmer</td><td>32</td><td>Female</td></tr>",
                            "<tr><td>1006</td><td>Michael</td><td>Scott</td><td>35</td><td>Male</td></tr>",
                            "<tr><td>1008</td><td>Stanley</td><td>Hudson</td><td>38</td><td>Male</td></tr>",
                            "</table>"
                        ]
                    }
                }
            ],
            "execution_count": 41
        },
        {
            "cell_type": "markdown",
            "source": [
                "# Lesson 5: JOIN\n",
                "\n",
                "JOIN is a statement use to combine multiple tables into a single output. Different ways to use JOIN includes:\n",
                "\n",
                "- Inner Join\n",
                "- Full Join\n",
                "- Left Join \n",
                "- Right Join\n",
                "- Outer Join\n",
                "\n",
                "To apply JOIN there must exist a comun column between tables. Preferebly a unique field, for example a Employee ID."
            ],
            "metadata": {
                "language": "sql",
                "azdata_cell_guid": "d9562444-35e1-4c02-8cf7-3a6fdc6cb1d5"
            },
            "attachments": {}
        },
        {
            "cell_type": "markdown",
            "source": [
                "INNER JOIN Retrieve al rows in common in the selected columns"
            ],
            "metadata": {
                "language": "sql",
                "azdata_cell_guid": "d95644e1-38da-4f59-affc-15f331e84303"
            },
            "attachments": {}
        },
        {
            "cell_type": "code",
            "source": [
                "SELECT *\n",
                "FROM [EmployeeDemographics]\n",
                "INNER JOIN [EmployeeSalary]\n",
                "    ON [EmployeeDemographics].[EmployeeID] = [EmployeeSalary].[EmployeeID]"
            ],
            "metadata": {
                "language": "sql",
                "azdata_cell_guid": "9677aa94-1fa1-49e1-b110-e6f94ce28bf5"
            },
            "outputs": [
                {
                    "output_type": "display_data",
                    "data": {
                        "text/html": "(9 rows affected)"
                    },
                    "metadata": {}
                },
                {
                    "output_type": "display_data",
                    "data": {
                        "text/html": "Total execution time: 00:00:00.060"
                    },
                    "metadata": {}
                },
                {
                    "output_type": "execute_result",
                    "metadata": {},
                    "execution_count": 29,
                    "data": {
                        "application/vnd.dataresource+json": {
                            "schema": {
                                "fields": [
                                    {
                                        "name": "EmployeeID"
                                    },
                                    {
                                        "name": "FirstName"
                                    },
                                    {
                                        "name": "LastName"
                                    },
                                    {
                                        "name": "Age"
                                    },
                                    {
                                        "name": "Gender"
                                    },
                                    {
                                        "name": "EmployeeID"
                                    },
                                    {
                                        "name": "JobTitle"
                                    },
                                    {
                                        "name": "Salary"
                                    }
                                ]
                            },
                            "data": [
                                {
                                    "0": "1001",
                                    "1": "Jim",
                                    "2": "Halper",
                                    "3": "30",
                                    "4": "Male",
                                    "5": "1001",
                                    "6": "Salesman",
                                    "7": "45000"
                                },
                                {
                                    "0": "1002",
                                    "1": "Pam",
                                    "2": "Beasley",
                                    "3": "30",
                                    "4": "Female",
                                    "5": "1002",
                                    "6": "Receptionist",
                                    "7": "36000"
                                },
                                {
                                    "0": "1003",
                                    "1": "Dwight",
                                    "2": "Schrute",
                                    "3": "29",
                                    "4": "Male",
                                    "5": "1003",
                                    "6": "Salesman",
                                    "7": "63000"
                                },
                                {
                                    "0": "1004",
                                    "1": "Angela",
                                    "2": "Martin",
                                    "3": "31",
                                    "4": "Female",
                                    "5": "1004",
                                    "6": "Accountant",
                                    "7": "47000"
                                },
                                {
                                    "0": "1005",
                                    "1": "Toby",
                                    "2": "Flenderson",
                                    "3": "32",
                                    "4": "Male",
                                    "5": "1005",
                                    "6": "HR",
                                    "7": "50000"
                                },
                                {
                                    "0": "1006",
                                    "1": "Michael",
                                    "2": "Scott",
                                    "3": "35",
                                    "4": "Male",
                                    "5": "1006",
                                    "6": "Regional Manager",
                                    "7": "65000"
                                },
                                {
                                    "0": "1007",
                                    "1": "Meredith",
                                    "2": "Palmer",
                                    "3": "32",
                                    "4": "Female",
                                    "5": "1007",
                                    "6": "Supplier Relations",
                                    "7": "41000"
                                },
                                {
                                    "0": "1008",
                                    "1": "Stanley",
                                    "2": "Hudson",
                                    "3": "38",
                                    "4": "Male",
                                    "5": "1008",
                                    "6": "Salesman",
                                    "7": "48000"
                                },
                                {
                                    "0": "1009",
                                    "1": "Kevin",
                                    "2": "Malone",
                                    "3": "31",
                                    "4": "Male",
                                    "5": "1009",
                                    "6": "Accountant",
                                    "7": "42000"
                                }
                            ]
                        },
                        "text/html": [
                            "<table>",
                            "<tr><th>EmployeeID</th><th>FirstName</th><th>LastName</th><th>Age</th><th>Gender</th><th>EmployeeID</th><th>JobTitle</th><th>Salary</th></tr>",
                            "<tr><td>1001</td><td>Jim</td><td>Halper</td><td>30</td><td>Male</td><td>1001</td><td>Salesman</td><td>45000</td></tr>",
                            "<tr><td>1002</td><td>Pam</td><td>Beasley</td><td>30</td><td>Female</td><td>1002</td><td>Receptionist</td><td>36000</td></tr>",
                            "<tr><td>1003</td><td>Dwight</td><td>Schrute</td><td>29</td><td>Male</td><td>1003</td><td>Salesman</td><td>63000</td></tr>",
                            "<tr><td>1004</td><td>Angela</td><td>Martin</td><td>31</td><td>Female</td><td>1004</td><td>Accountant</td><td>47000</td></tr>",
                            "<tr><td>1005</td><td>Toby</td><td>Flenderson</td><td>32</td><td>Male</td><td>1005</td><td>HR</td><td>50000</td></tr>",
                            "<tr><td>1006</td><td>Michael</td><td>Scott</td><td>35</td><td>Male</td><td>1006</td><td>Regional Manager</td><td>65000</td></tr>",
                            "<tr><td>1007</td><td>Meredith</td><td>Palmer</td><td>32</td><td>Female</td><td>1007</td><td>Supplier Relations</td><td>41000</td></tr>",
                            "<tr><td>1008</td><td>Stanley</td><td>Hudson</td><td>38</td><td>Male</td><td>1008</td><td>Salesman</td><td>48000</td></tr>",
                            "<tr><td>1009</td><td>Kevin</td><td>Malone</td><td>31</td><td>Male</td><td>1009</td><td>Accountant</td><td>42000</td></tr>",
                            "</table>"
                        ]
                    }
                }
            ],
            "execution_count": 29
        },
        {
            "cell_type": "markdown",
            "source": [
                "FULL OUTER JOIN retrieves all rows. \n",
                "\n",
                "Noter: since both tables use in the example have the exact rows. The Result is the same as INNET JOIN"
            ],
            "metadata": {
                "language": "sql",
                "azdata_cell_guid": "22d0df89-ecbb-4d9b-b62b-a7e040434adf"
            },
            "attachments": {}
        },
        {
            "cell_type": "code",
            "source": [
                "SELECT *\n",
                "FROM [EmployeeDemographics]\n",
                "FULL OUTER JOIN [EmployeeSalary]\n",
                "    ON [EmployeeDemographics].[EmployeeID] = [EmployeeSalary].[EmployeeID]"
            ],
            "metadata": {
                "language": "sql",
                "azdata_cell_guid": "97daaf62-5678-438a-b405-b8757ba3e5a1"
            },
            "outputs": [
                {
                    "output_type": "display_data",
                    "data": {
                        "text/html": "(9 rows affected)"
                    },
                    "metadata": {}
                },
                {
                    "output_type": "display_data",
                    "data": {
                        "text/html": "Total execution time: 00:00:00.016"
                    },
                    "metadata": {}
                },
                {
                    "output_type": "execute_result",
                    "metadata": {},
                    "execution_count": 30,
                    "data": {
                        "application/vnd.dataresource+json": {
                            "schema": {
                                "fields": [
                                    {
                                        "name": "EmployeeID"
                                    },
                                    {
                                        "name": "FirstName"
                                    },
                                    {
                                        "name": "LastName"
                                    },
                                    {
                                        "name": "Age"
                                    },
                                    {
                                        "name": "Gender"
                                    },
                                    {
                                        "name": "EmployeeID"
                                    },
                                    {
                                        "name": "JobTitle"
                                    },
                                    {
                                        "name": "Salary"
                                    }
                                ]
                            },
                            "data": [
                                {
                                    "0": "1001",
                                    "1": "Jim",
                                    "2": "Halper",
                                    "3": "30",
                                    "4": "Male",
                                    "5": "1001",
                                    "6": "Salesman",
                                    "7": "45000"
                                },
                                {
                                    "0": "1002",
                                    "1": "Pam",
                                    "2": "Beasley",
                                    "3": "30",
                                    "4": "Female",
                                    "5": "1002",
                                    "6": "Receptionist",
                                    "7": "36000"
                                },
                                {
                                    "0": "1003",
                                    "1": "Dwight",
                                    "2": "Schrute",
                                    "3": "29",
                                    "4": "Male",
                                    "5": "1003",
                                    "6": "Salesman",
                                    "7": "63000"
                                },
                                {
                                    "0": "1004",
                                    "1": "Angela",
                                    "2": "Martin",
                                    "3": "31",
                                    "4": "Female",
                                    "5": "1004",
                                    "6": "Accountant",
                                    "7": "47000"
                                },
                                {
                                    "0": "1005",
                                    "1": "Toby",
                                    "2": "Flenderson",
                                    "3": "32",
                                    "4": "Male",
                                    "5": "1005",
                                    "6": "HR",
                                    "7": "50000"
                                },
                                {
                                    "0": "1006",
                                    "1": "Michael",
                                    "2": "Scott",
                                    "3": "35",
                                    "4": "Male",
                                    "5": "1006",
                                    "6": "Regional Manager",
                                    "7": "65000"
                                },
                                {
                                    "0": "1007",
                                    "1": "Meredith",
                                    "2": "Palmer",
                                    "3": "32",
                                    "4": "Female",
                                    "5": "1007",
                                    "6": "Supplier Relations",
                                    "7": "41000"
                                },
                                {
                                    "0": "1008",
                                    "1": "Stanley",
                                    "2": "Hudson",
                                    "3": "38",
                                    "4": "Male",
                                    "5": "1008",
                                    "6": "Salesman",
                                    "7": "48000"
                                },
                                {
                                    "0": "1009",
                                    "1": "Kevin",
                                    "2": "Malone",
                                    "3": "31",
                                    "4": "Male",
                                    "5": "1009",
                                    "6": "Accountant",
                                    "7": "42000"
                                }
                            ]
                        },
                        "text/html": [
                            "<table>",
                            "<tr><th>EmployeeID</th><th>FirstName</th><th>LastName</th><th>Age</th><th>Gender</th><th>EmployeeID</th><th>JobTitle</th><th>Salary</th></tr>",
                            "<tr><td>1001</td><td>Jim</td><td>Halper</td><td>30</td><td>Male</td><td>1001</td><td>Salesman</td><td>45000</td></tr>",
                            "<tr><td>1002</td><td>Pam</td><td>Beasley</td><td>30</td><td>Female</td><td>1002</td><td>Receptionist</td><td>36000</td></tr>",
                            "<tr><td>1003</td><td>Dwight</td><td>Schrute</td><td>29</td><td>Male</td><td>1003</td><td>Salesman</td><td>63000</td></tr>",
                            "<tr><td>1004</td><td>Angela</td><td>Martin</td><td>31</td><td>Female</td><td>1004</td><td>Accountant</td><td>47000</td></tr>",
                            "<tr><td>1005</td><td>Toby</td><td>Flenderson</td><td>32</td><td>Male</td><td>1005</td><td>HR</td><td>50000</td></tr>",
                            "<tr><td>1006</td><td>Michael</td><td>Scott</td><td>35</td><td>Male</td><td>1006</td><td>Regional Manager</td><td>65000</td></tr>",
                            "<tr><td>1007</td><td>Meredith</td><td>Palmer</td><td>32</td><td>Female</td><td>1007</td><td>Supplier Relations</td><td>41000</td></tr>",
                            "<tr><td>1008</td><td>Stanley</td><td>Hudson</td><td>38</td><td>Male</td><td>1008</td><td>Salesman</td><td>48000</td></tr>",
                            "<tr><td>1009</td><td>Kevin</td><td>Malone</td><td>31</td><td>Male</td><td>1009</td><td>Accountant</td><td>42000</td></tr>",
                            "</table>"
                        ]
                    }
                }
            ],
            "execution_count": 30
        },
        {
            "cell_type": "markdown",
            "source": [
                "LEFT OUTER JOIN retuns all rows from the left and only the matches from the right"
            ],
            "metadata": {
                "language": "sql",
                "azdata_cell_guid": "809ba3ff-314c-4e4d-923b-1e9dcb640831"
            },
            "attachments": {}
        },
        {
            "cell_type": "code",
            "source": [
                "SELECT *\n",
                "FROM [EmployeeDemographics]\n",
                "LEFT OUTER JOIN [EmployeeSalary]\n",
                "    ON [EmployeeDemographics].[EmployeeID] = [EmployeeSalary].[EmployeeID]"
            ],
            "metadata": {
                "language": "sql",
                "azdata_cell_guid": "d54c2ea3-9955-483b-ad9c-3564903e4d1b"
            },
            "outputs": [
                {
                    "output_type": "display_data",
                    "data": {
                        "text/html": "(9 rows affected)"
                    },
                    "metadata": {}
                },
                {
                    "output_type": "display_data",
                    "data": {
                        "text/html": "Total execution time: 00:00:00.027"
                    },
                    "metadata": {}
                },
                {
                    "output_type": "execute_result",
                    "metadata": {},
                    "execution_count": 31,
                    "data": {
                        "application/vnd.dataresource+json": {
                            "schema": {
                                "fields": [
                                    {
                                        "name": "EmployeeID"
                                    },
                                    {
                                        "name": "FirstName"
                                    },
                                    {
                                        "name": "LastName"
                                    },
                                    {
                                        "name": "Age"
                                    },
                                    {
                                        "name": "Gender"
                                    },
                                    {
                                        "name": "EmployeeID"
                                    },
                                    {
                                        "name": "JobTitle"
                                    },
                                    {
                                        "name": "Salary"
                                    }
                                ]
                            },
                            "data": [
                                {
                                    "0": "1001",
                                    "1": "Jim",
                                    "2": "Halper",
                                    "3": "30",
                                    "4": "Male",
                                    "5": "1001",
                                    "6": "Salesman",
                                    "7": "45000"
                                },
                                {
                                    "0": "1002",
                                    "1": "Pam",
                                    "2": "Beasley",
                                    "3": "30",
                                    "4": "Female",
                                    "5": "1002",
                                    "6": "Receptionist",
                                    "7": "36000"
                                },
                                {
                                    "0": "1003",
                                    "1": "Dwight",
                                    "2": "Schrute",
                                    "3": "29",
                                    "4": "Male",
                                    "5": "1003",
                                    "6": "Salesman",
                                    "7": "63000"
                                },
                                {
                                    "0": "1004",
                                    "1": "Angela",
                                    "2": "Martin",
                                    "3": "31",
                                    "4": "Female",
                                    "5": "1004",
                                    "6": "Accountant",
                                    "7": "47000"
                                },
                                {
                                    "0": "1005",
                                    "1": "Toby",
                                    "2": "Flenderson",
                                    "3": "32",
                                    "4": "Male",
                                    "5": "1005",
                                    "6": "HR",
                                    "7": "50000"
                                },
                                {
                                    "0": "1006",
                                    "1": "Michael",
                                    "2": "Scott",
                                    "3": "35",
                                    "4": "Male",
                                    "5": "1006",
                                    "6": "Regional Manager",
                                    "7": "65000"
                                },
                                {
                                    "0": "1007",
                                    "1": "Meredith",
                                    "2": "Palmer",
                                    "3": "32",
                                    "4": "Female",
                                    "5": "1007",
                                    "6": "Supplier Relations",
                                    "7": "41000"
                                },
                                {
                                    "0": "1008",
                                    "1": "Stanley",
                                    "2": "Hudson",
                                    "3": "38",
                                    "4": "Male",
                                    "5": "1008",
                                    "6": "Salesman",
                                    "7": "48000"
                                },
                                {
                                    "0": "1009",
                                    "1": "Kevin",
                                    "2": "Malone",
                                    "3": "31",
                                    "4": "Male",
                                    "5": "1009",
                                    "6": "Accountant",
                                    "7": "42000"
                                }
                            ]
                        },
                        "text/html": [
                            "<table>",
                            "<tr><th>EmployeeID</th><th>FirstName</th><th>LastName</th><th>Age</th><th>Gender</th><th>EmployeeID</th><th>JobTitle</th><th>Salary</th></tr>",
                            "<tr><td>1001</td><td>Jim</td><td>Halper</td><td>30</td><td>Male</td><td>1001</td><td>Salesman</td><td>45000</td></tr>",
                            "<tr><td>1002</td><td>Pam</td><td>Beasley</td><td>30</td><td>Female</td><td>1002</td><td>Receptionist</td><td>36000</td></tr>",
                            "<tr><td>1003</td><td>Dwight</td><td>Schrute</td><td>29</td><td>Male</td><td>1003</td><td>Salesman</td><td>63000</td></tr>",
                            "<tr><td>1004</td><td>Angela</td><td>Martin</td><td>31</td><td>Female</td><td>1004</td><td>Accountant</td><td>47000</td></tr>",
                            "<tr><td>1005</td><td>Toby</td><td>Flenderson</td><td>32</td><td>Male</td><td>1005</td><td>HR</td><td>50000</td></tr>",
                            "<tr><td>1006</td><td>Michael</td><td>Scott</td><td>35</td><td>Male</td><td>1006</td><td>Regional Manager</td><td>65000</td></tr>",
                            "<tr><td>1007</td><td>Meredith</td><td>Palmer</td><td>32</td><td>Female</td><td>1007</td><td>Supplier Relations</td><td>41000</td></tr>",
                            "<tr><td>1008</td><td>Stanley</td><td>Hudson</td><td>38</td><td>Male</td><td>1008</td><td>Salesman</td><td>48000</td></tr>",
                            "<tr><td>1009</td><td>Kevin</td><td>Malone</td><td>31</td><td>Male</td><td>1009</td><td>Accountant</td><td>42000</td></tr>",
                            "</table>"
                        ]
                    }
                }
            ],
            "execution_count": 31
        },
        {
            "cell_type": "markdown",
            "source": [
                "RIGHT OUTER JOIN retuns all rows from the reght and only the matches from the left"
            ],
            "metadata": {
                "language": "sql",
                "azdata_cell_guid": "e6420e22-7fb8-48e1-bf03-5600d664c76f"
            },
            "attachments": {}
        },
        {
            "cell_type": "code",
            "source": [
                "SELECT *\n",
                "FROM [EmployeeDemographics]\n",
                "RIGHT OUTER JOIN [EmployeeSalary]\n",
                "    ON [EmployeeDemographics].[EmployeeID] = [EmployeeSalary].[EmployeeID]"
            ],
            "metadata": {
                "language": "sql",
                "azdata_cell_guid": "2f315345-2879-433a-bbb7-0f06a9c8733b"
            },
            "outputs": [],
            "execution_count": null
        },
        {
            "cell_type": "markdown",
            "source": [
                "Joining Table to Retrieve highest payed Employees, Firstname different than MIchael"
            ],
            "metadata": {
                "language": "sql",
                "azdata_cell_guid": "a9c2a2d5-7fe0-4a03-b180-9e559dd1b300"
            },
            "attachments": {}
        },
        {
            "cell_type": "code",
            "source": [
                "SELECT DISTINCT [EmployeeDemographics].EmployeeID, FirstName, LastName, Salary\n",
                "FROM [EmployeeDemographics]\n",
                "INNER JOIN [EmployeeSalary]\n",
                "    ON [EmployeeDemographics].[EmployeeID] = [EmployeeSalary].[EmployeeID]\n",
                "WHERE FirstName <> 'Michael'\n",
                "ORDER BY Salary DESC"
            ],
            "metadata": {
                "language": "sql",
                "azdata_cell_guid": "0e18153f-1910-4f5e-80fa-31e12a838ca8"
            },
            "outputs": [
                {
                    "output_type": "display_data",
                    "data": {
                        "text/html": "(8 rows affected)"
                    },
                    "metadata": {}
                },
                {
                    "output_type": "display_data",
                    "data": {
                        "text/html": "Total execution time: 00:00:00.020"
                    },
                    "metadata": {}
                },
                {
                    "output_type": "execute_result",
                    "metadata": {},
                    "execution_count": 33,
                    "data": {
                        "application/vnd.dataresource+json": {
                            "schema": {
                                "fields": [
                                    {
                                        "name": "EmployeeID"
                                    },
                                    {
                                        "name": "FirstName"
                                    },
                                    {
                                        "name": "LastName"
                                    },
                                    {
                                        "name": "Salary"
                                    }
                                ]
                            },
                            "data": [
                                {
                                    "0": "1003",
                                    "1": "Dwight",
                                    "2": "Schrute",
                                    "3": "63000"
                                },
                                {
                                    "0": "1005",
                                    "1": "Toby",
                                    "2": "Flenderson",
                                    "3": "50000"
                                },
                                {
                                    "0": "1008",
                                    "1": "Stanley",
                                    "2": "Hudson",
                                    "3": "48000"
                                },
                                {
                                    "0": "1004",
                                    "1": "Angela",
                                    "2": "Martin",
                                    "3": "47000"
                                },
                                {
                                    "0": "1001",
                                    "1": "Jim",
                                    "2": "Halper",
                                    "3": "45000"
                                },
                                {
                                    "0": "1009",
                                    "1": "Kevin",
                                    "2": "Malone",
                                    "3": "42000"
                                },
                                {
                                    "0": "1007",
                                    "1": "Meredith",
                                    "2": "Palmer",
                                    "3": "41000"
                                },
                                {
                                    "0": "1002",
                                    "1": "Pam",
                                    "2": "Beasley",
                                    "3": "36000"
                                }
                            ]
                        },
                        "text/html": [
                            "<table>",
                            "<tr><th>EmployeeID</th><th>FirstName</th><th>LastName</th><th>Salary</th></tr>",
                            "<tr><td>1003</td><td>Dwight</td><td>Schrute</td><td>63000</td></tr>",
                            "<tr><td>1005</td><td>Toby</td><td>Flenderson</td><td>50000</td></tr>",
                            "<tr><td>1008</td><td>Stanley</td><td>Hudson</td><td>48000</td></tr>",
                            "<tr><td>1004</td><td>Angela</td><td>Martin</td><td>47000</td></tr>",
                            "<tr><td>1001</td><td>Jim</td><td>Halper</td><td>45000</td></tr>",
                            "<tr><td>1009</td><td>Kevin</td><td>Malone</td><td>42000</td></tr>",
                            "<tr><td>1007</td><td>Meredith</td><td>Palmer</td><td>41000</td></tr>",
                            "<tr><td>1002</td><td>Pam</td><td>Beasley</td><td>36000</td></tr>",
                            "</table>"
                        ]
                    }
                }
            ],
            "execution_count": 33
        },
        {
            "cell_type": "markdown",
            "source": [
                "Joining Table to Retrieve Average Salary for Salesman\n",
                "\n",
                "Note: GROUP BY is in order to calculate Average Salary"
            ],
            "metadata": {
                "language": "sql",
                "azdata_cell_guid": "24625cb2-d851-4a32-a1be-cab31acb342f"
            },
            "attachments": {}
        },
        {
            "cell_type": "code",
            "source": [
                "SELECT JobTitle, AVG(Salary)\n",
                "FROM [EmployeeDemographics]\n",
                "INNER JOIN [EmployeeSalary]\n",
                "    ON [EmployeeDemographics].[EmployeeID] = [EmployeeSalary].[EmployeeID]\n",
                "WHERE JobTitle = 'Salesman'\n",
                "GROUP BY Jobtitle"
            ],
            "metadata": {
                "language": "sql",
                "azdata_cell_guid": "9e4a93b1-8253-4385-ba32-04264882c85b"
            },
            "outputs": [
                {
                    "output_type": "display_data",
                    "data": {
                        "text/html": "(1 row affected)"
                    },
                    "metadata": {}
                },
                {
                    "output_type": "display_data",
                    "data": {
                        "text/html": "Total execution time: 00:00:00.011"
                    },
                    "metadata": {}
                },
                {
                    "output_type": "execute_result",
                    "metadata": {},
                    "execution_count": 36,
                    "data": {
                        "application/vnd.dataresource+json": {
                            "schema": {
                                "fields": [
                                    {
                                        "name": "JobTitle"
                                    },
                                    {
                                        "name": "(No column name)"
                                    }
                                ]
                            },
                            "data": [
                                {
                                    "0": "Salesman",
                                    "1": "52000"
                                }
                            ]
                        },
                        "text/html": [
                            "<table>",
                            "<tr><th>JobTitle</th><th>(No column name)</th></tr>",
                            "<tr><td>Salesman</td><td>52000</td></tr>",
                            "</table>"
                        ]
                    }
                }
            ],
            "execution_count": 36
        },
        {
            "cell_type": "markdown",
            "source": [
                "# Lesson 6: UNION"
            ],
            "metadata": {
                "language": "sql",
                "azdata_cell_guid": "e6c41166-716f-41e6-a1b1-8fc192952f20"
            },
            "attachments": {}
        },
        {
            "cell_type": "markdown",
            "source": [
                "Its use to combine multiple tables into one. The result of a UNION is a new table combining all the rows."
            ],
            "metadata": {
                "language": "sql",
                "azdata_cell_guid": "d14269bd-275a-4d38-ae0e-8ad9af5ced07"
            },
            "attachments": {}
        },
        {
            "cell_type": "markdown",
            "source": [
                "For the example create <span style=\"color: rgb(33, 33, 33); font-family: Menlo, Monaco, &quot;Courier New&quot;, monospace; font-size: 12px; white-space: pre;\">WareHouseEmployeeDemographics from </span> <span style=\"color: rgb(33, 33, 33); font-family: Menlo, Monaco, &quot;Courier New&quot;, monospace; font-size: 12px; white-space: pre;\">EmployeeDemographics</span>"
            ],
            "metadata": {
                "language": "sql",
                "azdata_cell_guid": "112cc14d-d586-42e1-8905-4eb456d5441a"
            },
            "attachments": {}
        },
        {
            "cell_type": "code",
            "source": [
                "--CREATING A TABLE FROM ANOTHER TABLE\n",
                "SELECT *\n",
                "INTO WareHouseEmployeeDemographics\n",
                "FROM EmployeeDemographics"
            ],
            "metadata": {
                "language": "sql",
                "azdata_cell_guid": "edfb6b5f-9150-4151-a898-f2a017540fbc"
            },
            "outputs": [
                {
                    "output_type": "display_data",
                    "data": {
                        "text/html": "(9 rows affected)"
                    },
                    "metadata": {}
                },
                {
                    "output_type": "display_data",
                    "data": {
                        "text/html": "Total execution time: 00:00:00.077"
                    },
                    "metadata": {}
                }
            ],
            "execution_count": 42
        },
        {
            "cell_type": "markdown",
            "source": [
                "UNION statement"
            ],
            "metadata": {
                "language": "sql",
                "azdata_cell_guid": "7c6c76ac-49d1-49df-90e8-1105cfae52dd"
            },
            "attachments": {}
        },
        {
            "cell_type": "code",
            "source": [
                "SELECT *\n",
                "FROM EmployeeDemographics\n",
                "UNION\n",
                "SELECT * \n",
                "FROM WareHouseEmployeeDemographics"
            ],
            "metadata": {
                "language": "sql",
                "azdata_cell_guid": "2221e111-98e2-46da-b0dd-541ddf5fb9f8"
            },
            "outputs": [
                {
                    "output_type": "display_data",
                    "data": {
                        "text/html": "(9 rows affected)"
                    },
                    "metadata": {}
                },
                {
                    "output_type": "display_data",
                    "data": {
                        "text/html": "Total execution time: 00:00:00.050"
                    },
                    "metadata": {}
                },
                {
                    "output_type": "execute_result",
                    "metadata": {},
                    "execution_count": 43,
                    "data": {
                        "application/vnd.dataresource+json": {
                            "schema": {
                                "fields": [
                                    {
                                        "name": "EmployeeID"
                                    },
                                    {
                                        "name": "FirstName"
                                    },
                                    {
                                        "name": "LastName"
                                    },
                                    {
                                        "name": "Age"
                                    },
                                    {
                                        "name": "Gender"
                                    }
                                ]
                            },
                            "data": [
                                {
                                    "0": "1001",
                                    "1": "Jim",
                                    "2": "Halper",
                                    "3": "30",
                                    "4": "Male"
                                },
                                {
                                    "0": "1002",
                                    "1": "Pam",
                                    "2": "Beasley",
                                    "3": "30",
                                    "4": "Female"
                                },
                                {
                                    "0": "1003",
                                    "1": "Dwight",
                                    "2": "Schrute",
                                    "3": "29",
                                    "4": "Male"
                                },
                                {
                                    "0": "1004",
                                    "1": "Angela",
                                    "2": "Martin",
                                    "3": "31",
                                    "4": "Female"
                                },
                                {
                                    "0": "1005",
                                    "1": "Toby",
                                    "2": "Flenderson",
                                    "3": "32",
                                    "4": "Male"
                                },
                                {
                                    "0": "1006",
                                    "1": "Michael",
                                    "2": "Scott",
                                    "3": "35",
                                    "4": "Male"
                                },
                                {
                                    "0": "1007",
                                    "1": "Meredith",
                                    "2": "Palmer",
                                    "3": "32",
                                    "4": "Female"
                                },
                                {
                                    "0": "1008",
                                    "1": "Stanley",
                                    "2": "Hudson",
                                    "3": "38",
                                    "4": "Male"
                                },
                                {
                                    "0": "1009",
                                    "1": "Kevin",
                                    "2": "Malone",
                                    "3": "31",
                                    "4": "Male"
                                }
                            ]
                        },
                        "text/html": [
                            "<table>",
                            "<tr><th>EmployeeID</th><th>FirstName</th><th>LastName</th><th>Age</th><th>Gender</th></tr>",
                            "<tr><td>1001</td><td>Jim</td><td>Halper</td><td>30</td><td>Male</td></tr>",
                            "<tr><td>1002</td><td>Pam</td><td>Beasley</td><td>30</td><td>Female</td></tr>",
                            "<tr><td>1003</td><td>Dwight</td><td>Schrute</td><td>29</td><td>Male</td></tr>",
                            "<tr><td>1004</td><td>Angela</td><td>Martin</td><td>31</td><td>Female</td></tr>",
                            "<tr><td>1005</td><td>Toby</td><td>Flenderson</td><td>32</td><td>Male</td></tr>",
                            "<tr><td>1006</td><td>Michael</td><td>Scott</td><td>35</td><td>Male</td></tr>",
                            "<tr><td>1007</td><td>Meredith</td><td>Palmer</td><td>32</td><td>Female</td></tr>",
                            "<tr><td>1008</td><td>Stanley</td><td>Hudson</td><td>38</td><td>Male</td></tr>",
                            "<tr><td>1009</td><td>Kevin</td><td>Malone</td><td>31</td><td>Male</td></tr>",
                            "</table>"
                        ]
                    }
                }
            ],
            "execution_count": 43
        },
        {
            "cell_type": "markdown",
            "source": [
                "UNION ALL statement combine tables when all the columns are the same regardless of duplicates"
            ],
            "metadata": {
                "language": "sql",
                "azdata_cell_guid": "d095e76a-1cfd-444d-a6bb-0b474e9622a3"
            },
            "attachments": {}
        },
        {
            "cell_type": "code",
            "source": [
                "SELECT *\n",
                "FROM EmployeeDemographics\n",
                "UNION ALL\n",
                "SELECT * \n",
                "FROM WareHouseEmployeeDemographics\n",
                "ORDER BY EmployeeID\n",
                ""
            ],
            "metadata": {
                "language": "sql",
                "azdata_cell_guid": "aab10bc7-5aa4-44b5-a875-86190f32b4ac"
            },
            "outputs": [
                {
                    "output_type": "display_data",
                    "data": {
                        "text/html": "(18 rows affected)"
                    },
                    "metadata": {}
                },
                {
                    "output_type": "display_data",
                    "data": {
                        "text/html": "Total execution time: 00:00:00.040"
                    },
                    "metadata": {}
                },
                {
                    "output_type": "execute_result",
                    "metadata": {},
                    "execution_count": 47,
                    "data": {
                        "application/vnd.dataresource+json": {
                            "schema": {
                                "fields": [
                                    {
                                        "name": "EmployeeID"
                                    },
                                    {
                                        "name": "FirstName"
                                    },
                                    {
                                        "name": "LastName"
                                    },
                                    {
                                        "name": "Age"
                                    },
                                    {
                                        "name": "Gender"
                                    }
                                ]
                            },
                            "data": [
                                {
                                    "0": "1001",
                                    "1": "Jim",
                                    "2": "Halper",
                                    "3": "30",
                                    "4": "Male"
                                },
                                {
                                    "0": "1001",
                                    "1": "Jim",
                                    "2": "Halper",
                                    "3": "30",
                                    "4": "Male"
                                },
                                {
                                    "0": "1002",
                                    "1": "Pam",
                                    "2": "Beasley",
                                    "3": "30",
                                    "4": "Female"
                                },
                                {
                                    "0": "1002",
                                    "1": "Pam",
                                    "2": "Beasley",
                                    "3": "30",
                                    "4": "Female"
                                },
                                {
                                    "0": "1003",
                                    "1": "Dwight",
                                    "2": "Schrute",
                                    "3": "29",
                                    "4": "Male"
                                },
                                {
                                    "0": "1003",
                                    "1": "Dwight",
                                    "2": "Schrute",
                                    "3": "29",
                                    "4": "Male"
                                },
                                {
                                    "0": "1004",
                                    "1": "Angela",
                                    "2": "Martin",
                                    "3": "31",
                                    "4": "Female"
                                },
                                {
                                    "0": "1004",
                                    "1": "Angela",
                                    "2": "Martin",
                                    "3": "31",
                                    "4": "Female"
                                },
                                {
                                    "0": "1005",
                                    "1": "Toby",
                                    "2": "Flenderson",
                                    "3": "32",
                                    "4": "Male"
                                },
                                {
                                    "0": "1005",
                                    "1": "Toby",
                                    "2": "Flenderson",
                                    "3": "32",
                                    "4": "Male"
                                },
                                {
                                    "0": "1006",
                                    "1": "Michael",
                                    "2": "Scott",
                                    "3": "35",
                                    "4": "Male"
                                },
                                {
                                    "0": "1006",
                                    "1": "Michael",
                                    "2": "Scott",
                                    "3": "35",
                                    "4": "Male"
                                },
                                {
                                    "0": "1007",
                                    "1": "Meredith",
                                    "2": "Palmer",
                                    "3": "32",
                                    "4": "Female"
                                },
                                {
                                    "0": "1007",
                                    "1": "Meredith",
                                    "2": "Palmer",
                                    "3": "32",
                                    "4": "Female"
                                },
                                {
                                    "0": "1008",
                                    "1": "Stanley",
                                    "2": "Hudson",
                                    "3": "38",
                                    "4": "Male"
                                },
                                {
                                    "0": "1008",
                                    "1": "Stanley",
                                    "2": "Hudson",
                                    "3": "38",
                                    "4": "Male"
                                },
                                {
                                    "0": "1009",
                                    "1": "Kevin",
                                    "2": "Malone",
                                    "3": "31",
                                    "4": "Male"
                                },
                                {
                                    "0": "1009",
                                    "1": "Kevin",
                                    "2": "Malone",
                                    "3": "31",
                                    "4": "Male"
                                }
                            ]
                        },
                        "text/html": [
                            "<table>",
                            "<tr><th>EmployeeID</th><th>FirstName</th><th>LastName</th><th>Age</th><th>Gender</th></tr>",
                            "<tr><td>1001</td><td>Jim</td><td>Halper</td><td>30</td><td>Male</td></tr>",
                            "<tr><td>1001</td><td>Jim</td><td>Halper</td><td>30</td><td>Male</td></tr>",
                            "<tr><td>1002</td><td>Pam</td><td>Beasley</td><td>30</td><td>Female</td></tr>",
                            "<tr><td>1002</td><td>Pam</td><td>Beasley</td><td>30</td><td>Female</td></tr>",
                            "<tr><td>1003</td><td>Dwight</td><td>Schrute</td><td>29</td><td>Male</td></tr>",
                            "<tr><td>1003</td><td>Dwight</td><td>Schrute</td><td>29</td><td>Male</td></tr>",
                            "<tr><td>1004</td><td>Angela</td><td>Martin</td><td>31</td><td>Female</td></tr>",
                            "<tr><td>1004</td><td>Angela</td><td>Martin</td><td>31</td><td>Female</td></tr>",
                            "<tr><td>1005</td><td>Toby</td><td>Flenderson</td><td>32</td><td>Male</td></tr>",
                            "<tr><td>1005</td><td>Toby</td><td>Flenderson</td><td>32</td><td>Male</td></tr>",
                            "<tr><td>1006</td><td>Michael</td><td>Scott</td><td>35</td><td>Male</td></tr>",
                            "<tr><td>1006</td><td>Michael</td><td>Scott</td><td>35</td><td>Male</td></tr>",
                            "<tr><td>1007</td><td>Meredith</td><td>Palmer</td><td>32</td><td>Female</td></tr>",
                            "<tr><td>1007</td><td>Meredith</td><td>Palmer</td><td>32</td><td>Female</td></tr>",
                            "<tr><td>1008</td><td>Stanley</td><td>Hudson</td><td>38</td><td>Male</td></tr>",
                            "<tr><td>1008</td><td>Stanley</td><td>Hudson</td><td>38</td><td>Male</td></tr>",
                            "<tr><td>1009</td><td>Kevin</td><td>Malone</td><td>31</td><td>Male</td></tr>",
                            "<tr><td>1009</td><td>Kevin</td><td>Malone</td><td>31</td><td>Male</td></tr>",
                            "</table>"
                        ]
                    }
                }
            ],
            "execution_count": 47
        },
        {
            "cell_type": "markdown",
            "source": [
                "# Lesson 7 CASE\n",
                "\n",
                "CASE statements creates a column with values base conditions. Use cases include categorizing or labeling values"
            ],
            "metadata": {
                "language": "sql",
                "azdata_cell_guid": "0cbf2cce-9b72-44f7-89bd-447aa4b44d02"
            },
            "attachments": {}
        },
        {
            "cell_type": "markdown",
            "source": [
                "Tables without CASE statement"
            ],
            "metadata": {
                "language": "sql",
                "azdata_cell_guid": "c8be4686-4cee-4c2d-ad1f-bebb5a61c0c2"
            },
            "attachments": {}
        },
        {
            "cell_type": "code",
            "source": [
                "SELECT [FirstName], [LastName], [Age]\n",
                "FROM [dbo].[EmployeeDemographics]\n",
                "WHERE Age is NOT NULL\n",
                "ORDER BY Age"
            ],
            "metadata": {
                "language": "sql",
                "azdata_cell_guid": "9ab0e1cd-a6a4-4376-a77f-da50ffa63b02"
            },
            "outputs": [
                {
                    "output_type": "display_data",
                    "data": {
                        "text/html": "(9 rows affected)"
                    },
                    "metadata": {}
                },
                {
                    "output_type": "display_data",
                    "data": {
                        "text/html": "Total execution time: 00:00:00.110"
                    },
                    "metadata": {}
                },
                {
                    "output_type": "execute_result",
                    "metadata": {},
                    "execution_count": 48,
                    "data": {
                        "application/vnd.dataresource+json": {
                            "schema": {
                                "fields": [
                                    {
                                        "name": "FirstName"
                                    },
                                    {
                                        "name": "LastName"
                                    },
                                    {
                                        "name": "Age"
                                    }
                                ]
                            },
                            "data": [
                                {
                                    "0": "Dwight",
                                    "1": "Schrute",
                                    "2": "29"
                                },
                                {
                                    "0": "Jim",
                                    "1": "Halper",
                                    "2": "30"
                                },
                                {
                                    "0": "Pam",
                                    "1": "Beasley",
                                    "2": "30"
                                },
                                {
                                    "0": "Angela",
                                    "1": "Martin",
                                    "2": "31"
                                },
                                {
                                    "0": "Kevin",
                                    "1": "Malone",
                                    "2": "31"
                                },
                                {
                                    "0": "Toby",
                                    "1": "Flenderson",
                                    "2": "32"
                                },
                                {
                                    "0": "Meredith",
                                    "1": "Palmer",
                                    "2": "32"
                                },
                                {
                                    "0": "Michael",
                                    "1": "Scott",
                                    "2": "35"
                                },
                                {
                                    "0": "Stanley",
                                    "1": "Hudson",
                                    "2": "38"
                                }
                            ]
                        },
                        "text/html": [
                            "<table>",
                            "<tr><th>FirstName</th><th>LastName</th><th>Age</th></tr>",
                            "<tr><td>Dwight</td><td>Schrute</td><td>29</td></tr>",
                            "<tr><td>Jim</td><td>Halper</td><td>30</td></tr>",
                            "<tr><td>Pam</td><td>Beasley</td><td>30</td></tr>",
                            "<tr><td>Angela</td><td>Martin</td><td>31</td></tr>",
                            "<tr><td>Kevin</td><td>Malone</td><td>31</td></tr>",
                            "<tr><td>Toby</td><td>Flenderson</td><td>32</td></tr>",
                            "<tr><td>Meredith</td><td>Palmer</td><td>32</td></tr>",
                            "<tr><td>Michael</td><td>Scott</td><td>35</td></tr>",
                            "<tr><td>Stanley</td><td>Hudson</td><td>38</td></tr>",
                            "</table>"
                        ]
                    }
                }
            ],
            "execution_count": 48
        },
        {
            "cell_type": "markdown",
            "source": [
                "Using CASE to create column Agegroup. \n",
                "\n",
                "NOTE key queries <span style=\"color: rgb(0, 128, 0); font-family: Menlo, Monaco, &quot;Courier New&quot;, monospace; font-size: 12px; white-space: pre;\">WHEN, THEN, ELSE, END and AS</span>"
            ],
            "metadata": {
                "language": "sql",
                "azdata_cell_guid": "d5393edb-037d-4773-a5f2-ab63dd6b2dea"
            },
            "attachments": {}
        },
        {
            "cell_type": "code",
            "source": [
                "SELECT [FirstName], [LastName], [Age],\n",
                "   CASE\n",
                "     WHEN Age > 30 THEN 'Old'\n",
                "     WHEN Age BETWEEN 27 AND 38 THEN 'Young'\n",
                "     ELSE 'Baby'\n",
                "   END AS AgeGroup\n",
                " FROM [dbo].[EmployeeDemographics]\n",
                " WHERE Age is NOT NULL\n",
                " ORDER BY Age;"
            ],
            "metadata": {
                "language": "sql",
                "azdata_cell_guid": "23511a9b-629b-411e-a221-b3f9fa9c00e6"
            },
            "outputs": [
                {
                    "output_type": "display_data",
                    "data": {
                        "text/html": "(9 rows affected)"
                    },
                    "metadata": {}
                },
                {
                    "output_type": "display_data",
                    "data": {
                        "text/html": "Total execution time: 00:00:00.015"
                    },
                    "metadata": {}
                },
                {
                    "output_type": "execute_result",
                    "metadata": {},
                    "execution_count": 49,
                    "data": {
                        "application/vnd.dataresource+json": {
                            "schema": {
                                "fields": [
                                    {
                                        "name": "FirstName"
                                    },
                                    {
                                        "name": "LastName"
                                    },
                                    {
                                        "name": "Age"
                                    },
                                    {
                                        "name": "AgeGroup"
                                    }
                                ]
                            },
                            "data": [
                                {
                                    "0": "Dwight",
                                    "1": "Schrute",
                                    "2": "29",
                                    "3": "Young"
                                },
                                {
                                    "0": "Jim",
                                    "1": "Halper",
                                    "2": "30",
                                    "3": "Young"
                                },
                                {
                                    "0": "Pam",
                                    "1": "Beasley",
                                    "2": "30",
                                    "3": "Young"
                                },
                                {
                                    "0": "Angela",
                                    "1": "Martin",
                                    "2": "31",
                                    "3": "Old"
                                },
                                {
                                    "0": "Kevin",
                                    "1": "Malone",
                                    "2": "31",
                                    "3": "Old"
                                },
                                {
                                    "0": "Toby",
                                    "1": "Flenderson",
                                    "2": "32",
                                    "3": "Old"
                                },
                                {
                                    "0": "Meredith",
                                    "1": "Palmer",
                                    "2": "32",
                                    "3": "Old"
                                },
                                {
                                    "0": "Michael",
                                    "1": "Scott",
                                    "2": "35",
                                    "3": "Old"
                                },
                                {
                                    "0": "Stanley",
                                    "1": "Hudson",
                                    "2": "38",
                                    "3": "Old"
                                }
                            ]
                        },
                        "text/html": [
                            "<table>",
                            "<tr><th>FirstName</th><th>LastName</th><th>Age</th><th>AgeGroup</th></tr>",
                            "<tr><td>Dwight</td><td>Schrute</td><td>29</td><td>Young</td></tr>",
                            "<tr><td>Jim</td><td>Halper</td><td>30</td><td>Young</td></tr>",
                            "<tr><td>Pam</td><td>Beasley</td><td>30</td><td>Young</td></tr>",
                            "<tr><td>Angela</td><td>Martin</td><td>31</td><td>Old</td></tr>",
                            "<tr><td>Kevin</td><td>Malone</td><td>31</td><td>Old</td></tr>",
                            "<tr><td>Toby</td><td>Flenderson</td><td>32</td><td>Old</td></tr>",
                            "<tr><td>Meredith</td><td>Palmer</td><td>32</td><td>Old</td></tr>",
                            "<tr><td>Michael</td><td>Scott</td><td>35</td><td>Old</td></tr>",
                            "<tr><td>Stanley</td><td>Hudson</td><td>38</td><td>Old</td></tr>",
                            "</table>"
                        ]
                    }
                }
            ],
            "execution_count": 49
        },
        {
            "cell_type": "markdown",
            "source": [
                "Using CASE to create column New\\_Salary"
            ],
            "metadata": {
                "language": "sql",
                "azdata_cell_guid": "a45a2176-e0ba-453c-b8b9-c4526d25af30"
            },
            "attachments": {}
        },
        {
            "cell_type": "code",
            "source": [
                "SELECT DISTINCT [FirstName], [LastName], [Age],\n",
                "  CASE\n",
                "      WHEN JobTitle = 'Salesman' THEN Salary*1.1\n",
                "      WHEN JobTitle = 'Accountant' THEN Salary*1.05\n",
                "      WHEN JobTitle = 'HR' THEN Salary*1.00001\n",
                "      ELSE Salary*1.03\n",
                "  END AS New_Salary\n",
                "FROM [dbo].[EmployeeDemographics]\n",
                "JOIN [dbo].[EmployeeSalary]\n",
                "    ON [dbo].[EmployeeDemographics].EmployeeID = [dbo].[EmployeeSalary].EmployeeID"
            ],
            "metadata": {
                "language": "sql",
                "azdata_cell_guid": "7c4fb710-a017-47f7-8c85-6b71fde79ce6"
            },
            "outputs": [
                {
                    "output_type": "display_data",
                    "data": {
                        "text/html": "(9 rows affected)"
                    },
                    "metadata": {}
                },
                {
                    "output_type": "display_data",
                    "data": {
                        "text/html": "Total execution time: 00:00:00.142"
                    },
                    "metadata": {}
                },
                {
                    "output_type": "execute_result",
                    "metadata": {},
                    "execution_count": 50,
                    "data": {
                        "application/vnd.dataresource+json": {
                            "schema": {
                                "fields": [
                                    {
                                        "name": "FirstName"
                                    },
                                    {
                                        "name": "LastName"
                                    },
                                    {
                                        "name": "Age"
                                    },
                                    {
                                        "name": "New_Salary"
                                    }
                                ]
                            },
                            "data": [
                                {
                                    "0": "Angela",
                                    "1": "Martin",
                                    "2": "31",
                                    "3": "49350.00000"
                                },
                                {
                                    "0": "Dwight",
                                    "1": "Schrute",
                                    "2": "29",
                                    "3": "69300.00000"
                                },
                                {
                                    "0": "Jim",
                                    "1": "Halper",
                                    "2": "30",
                                    "3": "49500.00000"
                                },
                                {
                                    "0": "Kevin",
                                    "1": "Malone",
                                    "2": "31",
                                    "3": "44100.00000"
                                },
                                {
                                    "0": "Meredith",
                                    "1": "Palmer",
                                    "2": "32",
                                    "3": "42230.00000"
                                },
                                {
                                    "0": "Michael",
                                    "1": "Scott",
                                    "2": "35",
                                    "3": "66950.00000"
                                },
                                {
                                    "0": "Pam",
                                    "1": "Beasley",
                                    "2": "30",
                                    "3": "37080.00000"
                                },
                                {
                                    "0": "Stanley",
                                    "1": "Hudson",
                                    "2": "38",
                                    "3": "52800.00000"
                                },
                                {
                                    "0": "Toby",
                                    "1": "Flenderson",
                                    "2": "32",
                                    "3": "50000.50000"
                                }
                            ]
                        },
                        "text/html": [
                            "<table>",
                            "<tr><th>FirstName</th><th>LastName</th><th>Age</th><th>New_Salary</th></tr>",
                            "<tr><td>Angela</td><td>Martin</td><td>31</td><td>49350.00000</td></tr>",
                            "<tr><td>Dwight</td><td>Schrute</td><td>29</td><td>69300.00000</td></tr>",
                            "<tr><td>Jim</td><td>Halper</td><td>30</td><td>49500.00000</td></tr>",
                            "<tr><td>Kevin</td><td>Malone</td><td>31</td><td>44100.00000</td></tr>",
                            "<tr><td>Meredith</td><td>Palmer</td><td>32</td><td>42230.00000</td></tr>",
                            "<tr><td>Michael</td><td>Scott</td><td>35</td><td>66950.00000</td></tr>",
                            "<tr><td>Pam</td><td>Beasley</td><td>30</td><td>37080.00000</td></tr>",
                            "<tr><td>Stanley</td><td>Hudson</td><td>38</td><td>52800.00000</td></tr>",
                            "<tr><td>Toby</td><td>Flenderson</td><td>32</td><td>50000.50000</td></tr>",
                            "</table>"
                        ]
                    }
                }
            ],
            "execution_count": 50
        },
        {
            "cell_type": "markdown",
            "source": [
                "# Lesson 8 HAVING\n",
                "\n",
                "HAVING statement is on conditional to GROUP BY statement. Its use instead of WHERE when GROUP BY is use in the query to aggregate data.\n",
                "\n",
                "HAVING use case is as a filter. Just as WHERE statement"
            ],
            "metadata": {
                "language": "sql",
                "azdata_cell_guid": "daa78792-bd9c-4259-8bf4-8b29cbde36c8"
            },
            "attachments": {}
        },
        {
            "cell_type": "code",
            "source": [
                "SELECT DISTINCT [JobTitle], COUNT(JobTitle)\n",
                "FROM [dbo].[EmployeeDemographics]\n",
                "JOIN [dbo].[EmployeeSalary]\n",
                "     ON [dbo].[EmployeeDemographics].EmployeeID = [dbo].[EmployeeSalary].EmployeeID\n",
                " GROUP BY JobTitle\n",
                " HAVING COUNT(JobTitle) > 1 "
            ],
            "metadata": {
                "language": "sql",
                "azdata_cell_guid": "a2ad3a7c-195a-4097-8aaf-8ec0987c3552"
            },
            "outputs": [],
            "execution_count": null
        },
        {
            "cell_type": "markdown",
            "source": [
                "HAVING example, the filter is the Average Salary greater than 45,000"
            ],
            "metadata": {
                "language": "sql",
                "azdata_cell_guid": "f58bb94a-e944-45d0-bff1-2798b07bb235"
            },
            "attachments": {}
        },
        {
            "cell_type": "code",
            "source": [
                "SELECT DISTINCT [JobTitle], AVG(Salary)\n",
                "FROM [dbo].[EmployeeSalary]\n",
                "GROUP BY JobTitle\n",
                "HAVING AVG(Salary) > 45000\n",
                "ORDER BY AVG(Salary)"
            ],
            "metadata": {
                "language": "sql",
                "azdata_cell_guid": "98dfd7fd-3a36-456d-b59a-f6012b063beb"
            },
            "outputs": [],
            "execution_count": null
        },
        {
            "cell_type": "markdown",
            "source": [
                "# Lesson 9 UPDATE & DELETE\n",
                "\n",
                "UPDATE statement is use to set new values. And DELETE to remove rows"
            ],
            "metadata": {
                "azdata_cell_guid": "34346eca-00f5-4b8c-912a-636ef98d8a90"
            },
            "attachments": {}
        },
        {
            "cell_type": "markdown",
            "source": [
                "Looking at the row we are updating"
            ],
            "metadata": {
                "azdata_cell_guid": "3a1c3a5b-7b4e-44bb-9ee0-cef807f97c2a"
            },
            "attachments": {}
        },
        {
            "cell_type": "code",
            "source": [
                "SELECT * \n",
                "FROM [dbo].[EmployeeDemographics]\n",
                "WHERE EmployeeID = 1009"
            ],
            "metadata": {
                "azdata_cell_guid": "eeab03e0-f7a3-46d5-b94d-b985d9cdb2c2",
                "language": "sql"
            },
            "outputs": [
                {
                    "output_type": "display_data",
                    "data": {
                        "text/html": "(0 rows affected)"
                    },
                    "metadata": {}
                },
                {
                    "output_type": "display_data",
                    "data": {
                        "text/html": "Total execution time: 00:00:00.010"
                    },
                    "metadata": {}
                },
                {
                    "output_type": "execute_result",
                    "metadata": {},
                    "execution_count": 66,
                    "data": {
                        "application/vnd.dataresource+json": {
                            "schema": {
                                "fields": [
                                    {
                                        "name": "EmployeeID"
                                    },
                                    {
                                        "name": "FirstName"
                                    },
                                    {
                                        "name": "LastName"
                                    },
                                    {
                                        "name": "Age"
                                    },
                                    {
                                        "name": "Gender"
                                    }
                                ]
                            },
                            "data": []
                        },
                        "text/html": [
                            "<table>",
                            "<tr><th>EmployeeID</th><th>FirstName</th><th>LastName</th><th>Age</th><th>Gender</th></tr>",
                            "</table>"
                        ]
                    }
                }
            ],
            "execution_count": 66
        },
        {
            "cell_type": "markdown",
            "source": [
                "Setting values with UPDATE statement"
            ],
            "metadata": {
                "azdata_cell_guid": "c0f4ee07-db85-4a13-b0b0-d4c54340295b"
            },
            "attachments": {}
        },
        {
            "cell_type": "code",
            "source": [
                "UPDATE [dbo].[EmployeeDemographics]\n",
                "SET EmployeeID = 1009, Age = 31, Gender = 'Female'\n",
                "WHERE FirstName = 'Kevin' AND LastName = 'Malone'"
            ],
            "metadata": {
                "azdata_cell_guid": "428088ac-2f93-4127-8da2-ce872d43398d",
                "language": "sql"
            },
            "outputs": [
                {
                    "output_type": "display_data",
                    "data": {
                        "text/html": "(1 row affected)"
                    },
                    "metadata": {}
                },
                {
                    "output_type": "display_data",
                    "data": {
                        "text/html": "Total execution time: 00:00:00.044"
                    },
                    "metadata": {}
                }
            ],
            "execution_count": 63
        },
        {
            "cell_type": "markdown",
            "source": [
                "Looking at changes"
            ],
            "metadata": {
                "language": "sql",
                "azdata_cell_guid": "1387f9c1-a289-40ad-bf8b-be20c8175810"
            },
            "attachments": {}
        },
        {
            "cell_type": "code",
            "source": [
                "SELECT * \n",
                "FROM [dbo].[EmployeeDemographics]\n",
                "WHERE EmployeeID = 1009"
            ],
            "metadata": {
                "language": "sql",
                "azdata_cell_guid": "7380c359-8439-4ef4-89f5-be52d1724d9e"
            },
            "outputs": [
                {
                    "output_type": "display_data",
                    "data": {
                        "text/html": "(1 row affected)"
                    },
                    "metadata": {}
                },
                {
                    "output_type": "display_data",
                    "data": {
                        "text/html": "Total execution time: 00:00:00.013"
                    },
                    "metadata": {}
                },
                {
                    "output_type": "execute_result",
                    "metadata": {},
                    "execution_count": 68,
                    "data": {
                        "application/vnd.dataresource+json": {
                            "schema": {
                                "fields": [
                                    {
                                        "name": "EmployeeID"
                                    },
                                    {
                                        "name": "FirstName"
                                    },
                                    {
                                        "name": "LastName"
                                    },
                                    {
                                        "name": "Age"
                                    },
                                    {
                                        "name": "Gender"
                                    }
                                ]
                            },
                            "data": [
                                {
                                    "0": "1009",
                                    "1": "Kevin",
                                    "2": "Malone",
                                    "3": "31",
                                    "4": "Male"
                                }
                            ]
                        },
                        "text/html": [
                            "<table>",
                            "<tr><th>EmployeeID</th><th>FirstName</th><th>LastName</th><th>Age</th><th>Gender</th></tr>",
                            "<tr><td>1009</td><td>Kevin</td><td>Malone</td><td>31</td><td>Male</td></tr>",
                            "</table>"
                        ]
                    }
                }
            ],
            "execution_count": 68
        },
        {
            "cell_type": "markdown",
            "source": [
                "DELETE statement example.\n",
                "\n",
                "NOTE: always check an be cautios before applying statement"
            ],
            "metadata": {
                "language": "sql",
                "azdata_cell_guid": "4fb74b48-34fd-4b9c-932e-578cd192ebbb"
            },
            "attachments": {}
        },
        {
            "cell_type": "code",
            "source": [
                "DELETE \n",
                "FROM [dbo].[EmployeeDemographics]\n",
                "WHERE EmployeeID = 1009"
            ],
            "metadata": {
                "language": "sql",
                "azdata_cell_guid": "fee4974e-c187-4463-9784-0f297ccf91ed"
            },
            "outputs": [
                {
                    "output_type": "display_data",
                    "data": {
                        "text/html": "(1 row affected)"
                    },
                    "metadata": {}
                },
                {
                    "output_type": "display_data",
                    "data": {
                        "text/html": "Total execution time: 00:00:00.063"
                    },
                    "metadata": {}
                }
            ],
            "execution_count": 65
        },
        {
            "cell_type": "markdown",
            "source": [
                "# Lesson 10: ALIASIN & CONCAT\n",
                "\n",
                "ALIASING is a statement use to name or rename. And CONCAT is use to concatenate."
            ],
            "metadata": {
                "language": "sql",
                "azdata_cell_guid": "6e9948ca-e95d-4b37-8a42-c5d71085d59c"
            },
            "attachments": {}
        },
        {
            "cell_type": "markdown",
            "source": [
                "Using Concatenate query to combine columns FirstName and Last name with a ' ' space in the middle. And 'AS' to name the new column FullNam"
            ],
            "metadata": {
                "language": "sql",
                "azdata_cell_guid": "d824dd9e-49ff-456a-b97d-edd48db05677"
            },
            "attachments": {}
        },
        {
            "cell_type": "code",
            "source": [
                "SELECT CONCAT(FirstName,' ',LastName) AS FullName\n",
                "FROM[dbo].[EmployeeDemographics]"
            ],
            "metadata": {
                "language": "sql",
                "azdata_cell_guid": "78d646e6-3856-4eac-8b5b-1079a7d8a437"
            },
            "outputs": [
                {
                    "output_type": "display_data",
                    "data": {
                        "text/html": "(17 rows affected)"
                    },
                    "metadata": {}
                },
                {
                    "output_type": "display_data",
                    "data": {
                        "text/html": "Total execution time: 00:00:00.016"
                    },
                    "metadata": {}
                },
                {
                    "output_type": "execute_result",
                    "metadata": {},
                    "execution_count": 69,
                    "data": {
                        "application/vnd.dataresource+json": {
                            "schema": {
                                "fields": [
                                    {
                                        "name": "FullName"
                                    }
                                ]
                            },
                            "data": [
                                {
                                    "0": "Jim Halper"
                                },
                                {
                                    "0": "Pam Beasley"
                                },
                                {
                                    "0": "Dwight Schrute"
                                },
                                {
                                    "0": "Angela Martin"
                                },
                                {
                                    "0": "Toby Flenderson"
                                },
                                {
                                    "0": "Michael Scott"
                                },
                                {
                                    "0": "Meredith Palmer"
                                },
                                {
                                    "0": "Stanley Hudson"
                                },
                                {
                                    "0": "Jim Halper"
                                },
                                {
                                    "0": "Pam Beasley"
                                },
                                {
                                    "0": "Dwight Schrute"
                                },
                                {
                                    "0": "Angela Martin"
                                },
                                {
                                    "0": "Toby Flenderson"
                                },
                                {
                                    "0": "Michael Scott"
                                },
                                {
                                    "0": "Meredith Palmer"
                                },
                                {
                                    "0": "Stanley Hudson"
                                },
                                {
                                    "0": "Kevin Malone"
                                }
                            ]
                        },
                        "text/html": [
                            "<table>",
                            "<tr><th>FullName</th></tr>",
                            "<tr><td>Jim Halper</td></tr>",
                            "<tr><td>Pam Beasley</td></tr>",
                            "<tr><td>Dwight Schrute</td></tr>",
                            "<tr><td>Angela Martin</td></tr>",
                            "<tr><td>Toby Flenderson</td></tr>",
                            "<tr><td>Michael Scott</td></tr>",
                            "<tr><td>Meredith Palmer</td></tr>",
                            "<tr><td>Stanley Hudson</td></tr>",
                            "<tr><td>Jim Halper</td></tr>",
                            "<tr><td>Pam Beasley</td></tr>",
                            "<tr><td>Dwight Schrute</td></tr>",
                            "<tr><td>Angela Martin</td></tr>",
                            "<tr><td>Toby Flenderson</td></tr>",
                            "<tr><td>Michael Scott</td></tr>",
                            "<tr><td>Meredith Palmer</td></tr>",
                            "<tr><td>Stanley Hudson</td></tr>",
                            "<tr><td>Kevin Malone</td></tr>",
                            "</table>"
                        ]
                    }
                }
            ],
            "execution_count": 69
        },
        {
            "cell_type": "markdown",
            "source": [
                "Aliasin is use here to rename the tables. Useful to simplify syntax"
            ],
            "metadata": {
                "language": "sql",
                "azdata_cell_guid": "ee8c51eb-e91d-470f-a83d-8e545de9a4fc"
            },
            "attachments": {}
        },
        {
            "cell_type": "code",
            "source": [
                "SELECT Demo.EmployeeID, Sal.Salary\n",
                "FROM [EmployeeDemographics] AS Demo\n",
                "JOIN [EmployeeSalary] AS Sal\n",
                "    ON Demo.EmployeeID = Sal.EmployeeID"
            ],
            "metadata": {
                "language": "sql",
                "azdata_cell_guid": "17db3d26-bf8d-4c95-a9f5-58bbc8881fb8"
            },
            "outputs": [
                {
                    "output_type": "display_data",
                    "data": {
                        "text/html": "(17 rows affected)"
                    },
                    "metadata": {}
                },
                {
                    "output_type": "display_data",
                    "data": {
                        "text/html": "Total execution time: 00:00:00.011"
                    },
                    "metadata": {}
                },
                {
                    "output_type": "execute_result",
                    "metadata": {},
                    "execution_count": 71,
                    "data": {
                        "application/vnd.dataresource+json": {
                            "schema": {
                                "fields": [
                                    {
                                        "name": "EmployeeID"
                                    },
                                    {
                                        "name": "Salary"
                                    }
                                ]
                            },
                            "data": [
                                {
                                    "0": "1001",
                                    "1": "45000"
                                },
                                {
                                    "0": "1002",
                                    "1": "36000"
                                },
                                {
                                    "0": "1003",
                                    "1": "63000"
                                },
                                {
                                    "0": "1004",
                                    "1": "47000"
                                },
                                {
                                    "0": "1005",
                                    "1": "50000"
                                },
                                {
                                    "0": "1006",
                                    "1": "65000"
                                },
                                {
                                    "0": "1007",
                                    "1": "41000"
                                },
                                {
                                    "0": "1008",
                                    "1": "48000"
                                },
                                {
                                    "0": "1001",
                                    "1": "45000"
                                },
                                {
                                    "0": "1002",
                                    "1": "36000"
                                },
                                {
                                    "0": "1003",
                                    "1": "63000"
                                },
                                {
                                    "0": "1004",
                                    "1": "47000"
                                },
                                {
                                    "0": "1005",
                                    "1": "50000"
                                },
                                {
                                    "0": "1006",
                                    "1": "65000"
                                },
                                {
                                    "0": "1007",
                                    "1": "41000"
                                },
                                {
                                    "0": "1008",
                                    "1": "48000"
                                },
                                {
                                    "0": "1009",
                                    "1": "42000"
                                }
                            ]
                        },
                        "text/html": [
                            "<table>",
                            "<tr><th>EmployeeID</th><th>Salary</th></tr>",
                            "<tr><td>1001</td><td>45000</td></tr>",
                            "<tr><td>1002</td><td>36000</td></tr>",
                            "<tr><td>1003</td><td>63000</td></tr>",
                            "<tr><td>1004</td><td>47000</td></tr>",
                            "<tr><td>1005</td><td>50000</td></tr>",
                            "<tr><td>1006</td><td>65000</td></tr>",
                            "<tr><td>1007</td><td>41000</td></tr>",
                            "<tr><td>1008</td><td>48000</td></tr>",
                            "<tr><td>1001</td><td>45000</td></tr>",
                            "<tr><td>1002</td><td>36000</td></tr>",
                            "<tr><td>1003</td><td>63000</td></tr>",
                            "<tr><td>1004</td><td>47000</td></tr>",
                            "<tr><td>1005</td><td>50000</td></tr>",
                            "<tr><td>1006</td><td>65000</td></tr>",
                            "<tr><td>1007</td><td>41000</td></tr>",
                            "<tr><td>1008</td><td>48000</td></tr>",
                            "<tr><td>1009</td><td>42000</td></tr>",
                            "</table>"
                        ]
                    }
                }
            ],
            "execution_count": 71
        },
        {
            "cell_type": "markdown",
            "source": [
                "# Lesson 11: PARTITION BY\n",
                "\n",
                "Results are similar to GROUP BY with the exception that it doesnt reduce the number or rows, it doesn't group the data."
            ],
            "metadata": {
                "language": "sql",
                "azdata_cell_guid": "e4676677-6085-4a3c-87d0-26a663421b9a"
            },
            "attachments": {}
        },
        {
            "cell_type": "markdown",
            "source": [
                "Looking at tables to compare with PARTITION BY output."
            ],
            "metadata": {
                "language": "sql",
                "azdata_cell_guid": "f58f4bd0-1a2f-44c9-bf02-49e02a1f3516"
            },
            "attachments": {}
        },
        {
            "cell_type": "code",
            "source": [
                "SELECT *\n",
                "FROM [EmployeeDemographics]"
            ],
            "metadata": {
                "language": "sql",
                "azdata_cell_guid": "f519140a-5e93-45e5-a78d-650b933b2b48"
            },
            "outputs": [
                {
                    "output_type": "display_data",
                    "data": {
                        "text/html": "(17 rows affected)"
                    },
                    "metadata": {}
                },
                {
                    "output_type": "display_data",
                    "data": {
                        "text/html": "Total execution time: 00:00:00.031"
                    },
                    "metadata": {}
                },
                {
                    "output_type": "execute_result",
                    "metadata": {},
                    "execution_count": 72,
                    "data": {
                        "application/vnd.dataresource+json": {
                            "schema": {
                                "fields": [
                                    {
                                        "name": "EmployeeID"
                                    },
                                    {
                                        "name": "FirstName"
                                    },
                                    {
                                        "name": "LastName"
                                    },
                                    {
                                        "name": "Age"
                                    },
                                    {
                                        "name": "Gender"
                                    }
                                ]
                            },
                            "data": [
                                {
                                    "0": "1001",
                                    "1": "Jim",
                                    "2": "Halper",
                                    "3": "30",
                                    "4": "Male"
                                },
                                {
                                    "0": "1002",
                                    "1": "Pam",
                                    "2": "Beasley",
                                    "3": "30",
                                    "4": "Female"
                                },
                                {
                                    "0": "1003",
                                    "1": "Dwight",
                                    "2": "Schrute",
                                    "3": "29",
                                    "4": "Male"
                                },
                                {
                                    "0": "1004",
                                    "1": "Angela",
                                    "2": "Martin",
                                    "3": "31",
                                    "4": "Female"
                                },
                                {
                                    "0": "1005",
                                    "1": "Toby",
                                    "2": "Flenderson",
                                    "3": "32",
                                    "4": "Male"
                                },
                                {
                                    "0": "1006",
                                    "1": "Michael",
                                    "2": "Scott",
                                    "3": "35",
                                    "4": "Male"
                                },
                                {
                                    "0": "1007",
                                    "1": "Meredith",
                                    "2": "Palmer",
                                    "3": "32",
                                    "4": "Female"
                                },
                                {
                                    "0": "1008",
                                    "1": "Stanley",
                                    "2": "Hudson",
                                    "3": "38",
                                    "4": "Male"
                                },
                                {
                                    "0": "1001",
                                    "1": "Jim",
                                    "2": "Halper",
                                    "3": "30",
                                    "4": "Male"
                                },
                                {
                                    "0": "1002",
                                    "1": "Pam",
                                    "2": "Beasley",
                                    "3": "30",
                                    "4": "Female"
                                },
                                {
                                    "0": "1003",
                                    "1": "Dwight",
                                    "2": "Schrute",
                                    "3": "29",
                                    "4": "Male"
                                },
                                {
                                    "0": "1004",
                                    "1": "Angela",
                                    "2": "Martin",
                                    "3": "31",
                                    "4": "Female"
                                },
                                {
                                    "0": "1005",
                                    "1": "Toby",
                                    "2": "Flenderson",
                                    "3": "32",
                                    "4": "Male"
                                },
                                {
                                    "0": "1006",
                                    "1": "Michael",
                                    "2": "Scott",
                                    "3": "35",
                                    "4": "Male"
                                },
                                {
                                    "0": "1007",
                                    "1": "Meredith",
                                    "2": "Palmer",
                                    "3": "32",
                                    "4": "Female"
                                },
                                {
                                    "0": "1008",
                                    "1": "Stanley",
                                    "2": "Hudson",
                                    "3": "38",
                                    "4": "Male"
                                },
                                {
                                    "0": "1009",
                                    "1": "Kevin",
                                    "2": "Malone",
                                    "3": "31",
                                    "4": "Male"
                                }
                            ]
                        },
                        "text/html": [
                            "<table>",
                            "<tr><th>EmployeeID</th><th>FirstName</th><th>LastName</th><th>Age</th><th>Gender</th></tr>",
                            "<tr><td>1001</td><td>Jim</td><td>Halper</td><td>30</td><td>Male</td></tr>",
                            "<tr><td>1002</td><td>Pam</td><td>Beasley</td><td>30</td><td>Female</td></tr>",
                            "<tr><td>1003</td><td>Dwight</td><td>Schrute</td><td>29</td><td>Male</td></tr>",
                            "<tr><td>1004</td><td>Angela</td><td>Martin</td><td>31</td><td>Female</td></tr>",
                            "<tr><td>1005</td><td>Toby</td><td>Flenderson</td><td>32</td><td>Male</td></tr>",
                            "<tr><td>1006</td><td>Michael</td><td>Scott</td><td>35</td><td>Male</td></tr>",
                            "<tr><td>1007</td><td>Meredith</td><td>Palmer</td><td>32</td><td>Female</td></tr>",
                            "<tr><td>1008</td><td>Stanley</td><td>Hudson</td><td>38</td><td>Male</td></tr>",
                            "<tr><td>1001</td><td>Jim</td><td>Halper</td><td>30</td><td>Male</td></tr>",
                            "<tr><td>1002</td><td>Pam</td><td>Beasley</td><td>30</td><td>Female</td></tr>",
                            "<tr><td>1003</td><td>Dwight</td><td>Schrute</td><td>29</td><td>Male</td></tr>",
                            "<tr><td>1004</td><td>Angela</td><td>Martin</td><td>31</td><td>Female</td></tr>",
                            "<tr><td>1005</td><td>Toby</td><td>Flenderson</td><td>32</td><td>Male</td></tr>",
                            "<tr><td>1006</td><td>Michael</td><td>Scott</td><td>35</td><td>Male</td></tr>",
                            "<tr><td>1007</td><td>Meredith</td><td>Palmer</td><td>32</td><td>Female</td></tr>",
                            "<tr><td>1008</td><td>Stanley</td><td>Hudson</td><td>38</td><td>Male</td></tr>",
                            "<tr><td>1009</td><td>Kevin</td><td>Malone</td><td>31</td><td>Male</td></tr>",
                            "</table>"
                        ]
                    }
                }
            ],
            "execution_count": 72
        },
        {
            "cell_type": "code",
            "source": [
                "SELECT *\n",
                "FROM [EmployeeSalary]"
            ],
            "metadata": {
                "language": "sql",
                "azdata_cell_guid": "eddffae5-90f0-4ea4-971b-ddcf950c11fb"
            },
            "outputs": [
                {
                    "output_type": "display_data",
                    "data": {
                        "text/html": "(9 rows affected)"
                    },
                    "metadata": {}
                },
                {
                    "output_type": "display_data",
                    "data": {
                        "text/html": "Total execution time: 00:00:00.009"
                    },
                    "metadata": {}
                },
                {
                    "output_type": "execute_result",
                    "metadata": {},
                    "execution_count": 73,
                    "data": {
                        "application/vnd.dataresource+json": {
                            "schema": {
                                "fields": [
                                    {
                                        "name": "EmployeeID"
                                    },
                                    {
                                        "name": "JobTitle"
                                    },
                                    {
                                        "name": "Salary"
                                    }
                                ]
                            },
                            "data": [
                                {
                                    "0": "1001",
                                    "1": "Salesman",
                                    "2": "45000"
                                },
                                {
                                    "0": "1002",
                                    "1": "Receptionist",
                                    "2": "36000"
                                },
                                {
                                    "0": "1003",
                                    "1": "Salesman",
                                    "2": "63000"
                                },
                                {
                                    "0": "1004",
                                    "1": "Accountant",
                                    "2": "47000"
                                },
                                {
                                    "0": "1005",
                                    "1": "HR",
                                    "2": "50000"
                                },
                                {
                                    "0": "1006",
                                    "1": "Regional Manager",
                                    "2": "65000"
                                },
                                {
                                    "0": "1007",
                                    "1": "Supplier Relations",
                                    "2": "41000"
                                },
                                {
                                    "0": "1008",
                                    "1": "Salesman",
                                    "2": "48000"
                                },
                                {
                                    "0": "1009",
                                    "1": "Accountant",
                                    "2": "42000"
                                }
                            ]
                        },
                        "text/html": [
                            "<table>",
                            "<tr><th>EmployeeID</th><th>JobTitle</th><th>Salary</th></tr>",
                            "<tr><td>1001</td><td>Salesman</td><td>45000</td></tr>",
                            "<tr><td>1002</td><td>Receptionist</td><td>36000</td></tr>",
                            "<tr><td>1003</td><td>Salesman</td><td>63000</td></tr>",
                            "<tr><td>1004</td><td>Accountant</td><td>47000</td></tr>",
                            "<tr><td>1005</td><td>HR</td><td>50000</td></tr>",
                            "<tr><td>1006</td><td>Regional Manager</td><td>65000</td></tr>",
                            "<tr><td>1007</td><td>Supplier Relations</td><td>41000</td></tr>",
                            "<tr><td>1008</td><td>Salesman</td><td>48000</td></tr>",
                            "<tr><td>1009</td><td>Accountant</td><td>42000</td></tr>",
                            "</table>"
                        ]
                    }
                }
            ],
            "execution_count": 73
        },
        {
            "cell_type": "code",
            "source": [
                "SELECT FirstName, LastName, Gender, Salary\n",
                "FROM [EmployeeDemographics] AS dem\n",
                "JOIN [EmployeeSalary] AS sal\n",
                "    ON dem.EmployeeID = sal.EmployeeID\n",
                ""
            ],
            "metadata": {
                "language": "sql",
                "azdata_cell_guid": "6301a3ff-94d1-427e-82e7-0ecab0ed4773"
            },
            "outputs": [
                {
                    "output_type": "display_data",
                    "data": {
                        "text/html": "(17 rows affected)"
                    },
                    "metadata": {}
                },
                {
                    "output_type": "display_data",
                    "data": {
                        "text/html": "Total execution time: 00:00:00.051"
                    },
                    "metadata": {}
                },
                {
                    "output_type": "execute_result",
                    "metadata": {},
                    "execution_count": 75,
                    "data": {
                        "application/vnd.dataresource+json": {
                            "schema": {
                                "fields": [
                                    {
                                        "name": "FirstName"
                                    },
                                    {
                                        "name": "LastName"
                                    },
                                    {
                                        "name": "Gender"
                                    },
                                    {
                                        "name": "Salary"
                                    }
                                ]
                            },
                            "data": [
                                {
                                    "0": "Jim",
                                    "1": "Halper",
                                    "2": "Male",
                                    "3": "45000"
                                },
                                {
                                    "0": "Pam",
                                    "1": "Beasley",
                                    "2": "Female",
                                    "3": "36000"
                                },
                                {
                                    "0": "Dwight",
                                    "1": "Schrute",
                                    "2": "Male",
                                    "3": "63000"
                                },
                                {
                                    "0": "Angela",
                                    "1": "Martin",
                                    "2": "Female",
                                    "3": "47000"
                                },
                                {
                                    "0": "Toby",
                                    "1": "Flenderson",
                                    "2": "Male",
                                    "3": "50000"
                                },
                                {
                                    "0": "Michael",
                                    "1": "Scott",
                                    "2": "Male",
                                    "3": "65000"
                                },
                                {
                                    "0": "Meredith",
                                    "1": "Palmer",
                                    "2": "Female",
                                    "3": "41000"
                                },
                                {
                                    "0": "Stanley",
                                    "1": "Hudson",
                                    "2": "Male",
                                    "3": "48000"
                                },
                                {
                                    "0": "Jim",
                                    "1": "Halper",
                                    "2": "Male",
                                    "3": "45000"
                                },
                                {
                                    "0": "Pam",
                                    "1": "Beasley",
                                    "2": "Female",
                                    "3": "36000"
                                },
                                {
                                    "0": "Dwight",
                                    "1": "Schrute",
                                    "2": "Male",
                                    "3": "63000"
                                },
                                {
                                    "0": "Angela",
                                    "1": "Martin",
                                    "2": "Female",
                                    "3": "47000"
                                },
                                {
                                    "0": "Toby",
                                    "1": "Flenderson",
                                    "2": "Male",
                                    "3": "50000"
                                },
                                {
                                    "0": "Michael",
                                    "1": "Scott",
                                    "2": "Male",
                                    "3": "65000"
                                },
                                {
                                    "0": "Meredith",
                                    "1": "Palmer",
                                    "2": "Female",
                                    "3": "41000"
                                },
                                {
                                    "0": "Stanley",
                                    "1": "Hudson",
                                    "2": "Male",
                                    "3": "48000"
                                },
                                {
                                    "0": "Kevin",
                                    "1": "Malone",
                                    "2": "Male",
                                    "3": "42000"
                                }
                            ]
                        },
                        "text/html": [
                            "<table>",
                            "<tr><th>FirstName</th><th>LastName</th><th>Gender</th><th>Salary</th></tr>",
                            "<tr><td>Jim</td><td>Halper</td><td>Male</td><td>45000</td></tr>",
                            "<tr><td>Pam</td><td>Beasley</td><td>Female</td><td>36000</td></tr>",
                            "<tr><td>Dwight</td><td>Schrute</td><td>Male</td><td>63000</td></tr>",
                            "<tr><td>Angela</td><td>Martin</td><td>Female</td><td>47000</td></tr>",
                            "<tr><td>Toby</td><td>Flenderson</td><td>Male</td><td>50000</td></tr>",
                            "<tr><td>Michael</td><td>Scott</td><td>Male</td><td>65000</td></tr>",
                            "<tr><td>Meredith</td><td>Palmer</td><td>Female</td><td>41000</td></tr>",
                            "<tr><td>Stanley</td><td>Hudson</td><td>Male</td><td>48000</td></tr>",
                            "<tr><td>Jim</td><td>Halper</td><td>Male</td><td>45000</td></tr>",
                            "<tr><td>Pam</td><td>Beasley</td><td>Female</td><td>36000</td></tr>",
                            "<tr><td>Dwight</td><td>Schrute</td><td>Male</td><td>63000</td></tr>",
                            "<tr><td>Angela</td><td>Martin</td><td>Female</td><td>47000</td></tr>",
                            "<tr><td>Toby</td><td>Flenderson</td><td>Male</td><td>50000</td></tr>",
                            "<tr><td>Michael</td><td>Scott</td><td>Male</td><td>65000</td></tr>",
                            "<tr><td>Meredith</td><td>Palmer</td><td>Female</td><td>41000</td></tr>",
                            "<tr><td>Stanley</td><td>Hudson</td><td>Male</td><td>48000</td></tr>",
                            "<tr><td>Kevin</td><td>Malone</td><td>Male</td><td>42000</td></tr>",
                            "</table>"
                        ]
                    }
                }
            ],
            "execution_count": 75
        },
        {
            "cell_type": "markdown",
            "source": [
                "Using PARTITION BY to count gender. And display it in every column"
            ],
            "metadata": {
                "language": "sql",
                "azdata_cell_guid": "7e95a650-24fe-4ee1-9164-cf7751fa2b4a"
            },
            "attachments": {}
        },
        {
            "cell_type": "code",
            "source": [
                "SELECT FirstName, LastName, Gender, Salary,\n",
                "COUNT(Gender) OVER (PARTITION BY Gender) AS TotalGender\n",
                "FROM [EmployeeDemographics] AS dem\n",
                "JOIN [EmployeeSalary] AS sal\n",
                "    ON dem.EmployeeID = sal.EmployeeID\n",
                "GROUP BY FirstName, LastName, Gender, Salary"
            ],
            "metadata": {
                "language": "sql",
                "azdata_cell_guid": "ae0fb854-4370-4ac4-92ca-b61a3ea73677"
            },
            "outputs": [
                {
                    "output_type": "display_data",
                    "data": {
                        "text/html": "(9 rows affected)"
                    },
                    "metadata": {}
                },
                {
                    "output_type": "display_data",
                    "data": {
                        "text/html": "Total execution time: 00:00:00.016"
                    },
                    "metadata": {}
                },
                {
                    "output_type": "execute_result",
                    "metadata": {},
                    "execution_count": 78,
                    "data": {
                        "application/vnd.dataresource+json": {
                            "schema": {
                                "fields": [
                                    {
                                        "name": "FirstName"
                                    },
                                    {
                                        "name": "LastName"
                                    },
                                    {
                                        "name": "Gender"
                                    },
                                    {
                                        "name": "Salary"
                                    },
                                    {
                                        "name": "TotalGender"
                                    }
                                ]
                            },
                            "data": [
                                {
                                    "0": "Angela",
                                    "1": "Martin",
                                    "2": "Female",
                                    "3": "47000",
                                    "4": "3"
                                },
                                {
                                    "0": "Meredith",
                                    "1": "Palmer",
                                    "2": "Female",
                                    "3": "41000",
                                    "4": "3"
                                },
                                {
                                    "0": "Pam",
                                    "1": "Beasley",
                                    "2": "Female",
                                    "3": "36000",
                                    "4": "3"
                                },
                                {
                                    "0": "Dwight",
                                    "1": "Schrute",
                                    "2": "Male",
                                    "3": "63000",
                                    "4": "6"
                                },
                                {
                                    "0": "Jim",
                                    "1": "Halper",
                                    "2": "Male",
                                    "3": "45000",
                                    "4": "6"
                                },
                                {
                                    "0": "Kevin",
                                    "1": "Malone",
                                    "2": "Male",
                                    "3": "42000",
                                    "4": "6"
                                },
                                {
                                    "0": "Michael",
                                    "1": "Scott",
                                    "2": "Male",
                                    "3": "65000",
                                    "4": "6"
                                },
                                {
                                    "0": "Stanley",
                                    "1": "Hudson",
                                    "2": "Male",
                                    "3": "48000",
                                    "4": "6"
                                },
                                {
                                    "0": "Toby",
                                    "1": "Flenderson",
                                    "2": "Male",
                                    "3": "50000",
                                    "4": "6"
                                }
                            ]
                        },
                        "text/html": [
                            "<table>",
                            "<tr><th>FirstName</th><th>LastName</th><th>Gender</th><th>Salary</th><th>TotalGender</th></tr>",
                            "<tr><td>Angela</td><td>Martin</td><td>Female</td><td>47000</td><td>3</td></tr>",
                            "<tr><td>Meredith</td><td>Palmer</td><td>Female</td><td>41000</td><td>3</td></tr>",
                            "<tr><td>Pam</td><td>Beasley</td><td>Female</td><td>36000</td><td>3</td></tr>",
                            "<tr><td>Dwight</td><td>Schrute</td><td>Male</td><td>63000</td><td>6</td></tr>",
                            "<tr><td>Jim</td><td>Halper</td><td>Male</td><td>45000</td><td>6</td></tr>",
                            "<tr><td>Kevin</td><td>Malone</td><td>Male</td><td>42000</td><td>6</td></tr>",
                            "<tr><td>Michael</td><td>Scott</td><td>Male</td><td>65000</td><td>6</td></tr>",
                            "<tr><td>Stanley</td><td>Hudson</td><td>Male</td><td>48000</td><td>6</td></tr>",
                            "<tr><td>Toby</td><td>Flenderson</td><td>Male</td><td>50000</td><td>6</td></tr>",
                            "</table>"
                        ]
                    }
                }
            ],
            "execution_count": 78
        },
        {
            "cell_type": "markdown",
            "source": [
                "# Lesson 12: CTEs\n",
                "\n",
                "CTE is a common table expresion that is store only in memory. Use full to avoid writing complex queries repeatedly. To querie off the CTE table the SELECT state needs to be below the CTE code.\n",
                "\n",
                "NOTE: key queries WITH and AS"
            ],
            "metadata": {
                "language": "sql",
                "azdata_cell_guid": "77b8f3b7-2fb6-4481-b07a-34650a1aee43"
            },
            "attachments": {}
        },
        {
            "cell_type": "code",
            "source": [
                "WITH CTE_Employee AS\n",
                "(\n",
                "SELECT DISTINCT FirstName, LastName, Gender, Salary,\n",
                "           COUNT(Gender) OVER (PARTITION BY Gender) AS TotalGender,\n",
                "           AVG(Salary) OVER (PARTITION BY Gender) AS AvgSalary\n",
                "FROM [EmployeeDemographics] AS Emp\n",
                "JOIN [EmployeeSalary] AS Sal\n",
                "        ON Emp.EmployeeID = Sal.EmployeeID\n",
                "WHERE Salary > 45000\n",
                "GROUP BY FirstName, LastName, Gender, Salary\n",
                ")\n",
                "SELECT *\n",
                "FROM CTE_Employee\n",
                ""
            ],
            "metadata": {
                "language": "sql",
                "azdata_cell_guid": "c9ea6d46-8d26-44f1-b0ab-9b5e7049ff38"
            },
            "outputs": [
                {
                    "output_type": "display_data",
                    "data": {
                        "text/html": "(5 rows affected)"
                    },
                    "metadata": {}
                },
                {
                    "output_type": "display_data",
                    "data": {
                        "text/html": "Total execution time: 00:00:00.018"
                    },
                    "metadata": {}
                },
                {
                    "output_type": "execute_result",
                    "metadata": {},
                    "execution_count": 81,
                    "data": {
                        "application/vnd.dataresource+json": {
                            "schema": {
                                "fields": [
                                    {
                                        "name": "FirstName"
                                    },
                                    {
                                        "name": "LastName"
                                    },
                                    {
                                        "name": "Gender"
                                    },
                                    {
                                        "name": "Salary"
                                    },
                                    {
                                        "name": "TotalGender"
                                    },
                                    {
                                        "name": "AvgSalary"
                                    }
                                ]
                            },
                            "data": [
                                {
                                    "0": "Angela",
                                    "1": "Martin",
                                    "2": "Female",
                                    "3": "47000",
                                    "4": "1",
                                    "5": "47000"
                                },
                                {
                                    "0": "Dwight",
                                    "1": "Schrute",
                                    "2": "Male",
                                    "3": "63000",
                                    "4": "4",
                                    "5": "56500"
                                },
                                {
                                    "0": "Michael",
                                    "1": "Scott",
                                    "2": "Male",
                                    "3": "65000",
                                    "4": "4",
                                    "5": "56500"
                                },
                                {
                                    "0": "Stanley",
                                    "1": "Hudson",
                                    "2": "Male",
                                    "3": "48000",
                                    "4": "4",
                                    "5": "56500"
                                },
                                {
                                    "0": "Toby",
                                    "1": "Flenderson",
                                    "2": "Male",
                                    "3": "50000",
                                    "4": "4",
                                    "5": "56500"
                                }
                            ]
                        },
                        "text/html": [
                            "<table>",
                            "<tr><th>FirstName</th><th>LastName</th><th>Gender</th><th>Salary</th><th>TotalGender</th><th>AvgSalary</th></tr>",
                            "<tr><td>Angela</td><td>Martin</td><td>Female</td><td>47000</td><td>1</td><td>47000</td></tr>",
                            "<tr><td>Dwight</td><td>Schrute</td><td>Male</td><td>63000</td><td>4</td><td>56500</td></tr>",
                            "<tr><td>Michael</td><td>Scott</td><td>Male</td><td>65000</td><td>4</td><td>56500</td></tr>",
                            "<tr><td>Stanley</td><td>Hudson</td><td>Male</td><td>48000</td><td>4</td><td>56500</td></tr>",
                            "<tr><td>Toby</td><td>Flenderson</td><td>Male</td><td>50000</td><td>4</td><td>56500</td></tr>",
                            "</table>"
                        ]
                    }
                }
            ],
            "execution_count": 81
        },
        {
            "cell_type": "markdown",
            "source": [
                "# Lesson 13: TEMP TABLES\n",
                "\n",
                "Statement to create a temporary table. Temp table differs in syntax from regular table only at the '#'. It can be use to capture a subset of a database to avoid writting a code repeatedly."
            ],
            "metadata": {
                "language": "sql",
                "azdata_cell_guid": "7b9da648-8a73-451c-8614-de59ae76c539"
            },
            "attachments": {}
        },
        {
            "cell_type": "markdown",
            "source": [
                "Creating temp table #temp\\_Employee"
            ],
            "metadata": {
                "azdata_cell_guid": "4053ea9c-587f-416b-942c-5b7c367deea5"
            },
            "attachments": {}
        },
        {
            "cell_type": "code",
            "source": [
                "DROP TABLE IF EXISTS #Temp_Employee\n",
                "CREATE TABLE #temp_Employee \n",
                "(\n",
                "EmployeeID int,\n",
                "JobTitle varchar(100),\n",
                "Salary int\n",
                ")\n",
                "SELECT *\n",
                "FROM #temp_Employee"
            ],
            "metadata": {
                "language": "sql",
                "azdata_cell_guid": "5d5f8fdb-307f-487e-b777-33006d9bf8db"
            },
            "outputs": [
                {
                    "output_type": "display_data",
                    "data": {
                        "text/html": "(0 rows affected)"
                    },
                    "metadata": {}
                },
                {
                    "output_type": "display_data",
                    "data": {
                        "text/html": "Total execution time: 00:00:00.043"
                    },
                    "metadata": {}
                },
                {
                    "output_type": "execute_result",
                    "metadata": {},
                    "execution_count": 83,
                    "data": {
                        "application/vnd.dataresource+json": {
                            "schema": {
                                "fields": [
                                    {
                                        "name": "EmployeeID"
                                    },
                                    {
                                        "name": "JobTitle"
                                    },
                                    {
                                        "name": "Salary"
                                    }
                                ]
                            },
                            "data": []
                        },
                        "text/html": [
                            "<table>",
                            "<tr><th>EmployeeID</th><th>JobTitle</th><th>Salary</th></tr>",
                            "</table>"
                        ]
                    }
                }
            ],
            "execution_count": 83
        },
        {
            "cell_type": "markdown",
            "source": [
                "Inserting data to #temp\\_Employee table"
            ],
            "metadata": {
                "language": "sql",
                "azdata_cell_guid": "a90d06ed-b124-406a-bb42-dad5c49ae195"
            },
            "attachments": {}
        },
        {
            "cell_type": "code",
            "source": [
                "INSERT INTO #temp_Employee \n",
                "VALUES ('1001', 'HR', '45000')"
            ],
            "metadata": {
                "language": "sql",
                "azdata_cell_guid": "f4120b9b-7dff-43f4-a9c5-69c393a80118"
            },
            "outputs": [
                {
                    "output_type": "display_data",
                    "data": {
                        "text/html": "(1 row affected)"
                    },
                    "metadata": {}
                },
                {
                    "output_type": "display_data",
                    "data": {
                        "text/html": "Total execution time: 00:00:00.008"
                    },
                    "metadata": {}
                }
            ],
            "execution_count": 86
        },
        {
            "cell_type": "markdown",
            "source": [
                "Looking at #temp\\_Employee table"
            ],
            "metadata": {
                "language": "sql",
                "azdata_cell_guid": "b34b599e-a897-44b9-b309-b4e3ca984ac1"
            },
            "attachments": {}
        },
        {
            "cell_type": "code",
            "source": [
                "SELECT *\n",
                "FROM #temp_Employee"
            ],
            "metadata": {
                "language": "sql",
                "azdata_cell_guid": "64847d49-56b2-4c47-9bcb-671f7d84586c"
            },
            "outputs": [
                {
                    "output_type": "display_data",
                    "data": {
                        "text/html": "(3 rows affected)"
                    },
                    "metadata": {}
                },
                {
                    "output_type": "display_data",
                    "data": {
                        "text/html": "Total execution time: 00:00:00.026"
                    },
                    "metadata": {}
                },
                {
                    "output_type": "execute_result",
                    "metadata": {},
                    "execution_count": 87,
                    "data": {
                        "application/vnd.dataresource+json": {
                            "schema": {
                                "fields": [
                                    {
                                        "name": "EmployeeID"
                                    },
                                    {
                                        "name": "JobTitle"
                                    },
                                    {
                                        "name": "Salary"
                                    }
                                ]
                            },
                            "data": [
                                {
                                    "0": "1001",
                                    "1": "HR",
                                    "2": "45000"
                                },
                                {
                                    "0": "1001",
                                    "1": "HR",
                                    "2": "45000"
                                },
                                {
                                    "0": "1001",
                                    "1": "HR",
                                    "2": "45000"
                                }
                            ]
                        },
                        "text/html": [
                            "<table>",
                            "<tr><th>EmployeeID</th><th>JobTitle</th><th>Salary</th></tr>",
                            "<tr><td>1001</td><td>HR</td><td>45000</td></tr>",
                            "<tr><td>1001</td><td>HR</td><td>45000</td></tr>",
                            "<tr><td>1001</td><td>HR</td><td>45000</td></tr>",
                            "</table>"
                        ]
                    }
                }
            ],
            "execution_count": 87
        },
        {
            "cell_type": "markdown",
            "source": [
                "Inserting exsiting table, Employee, to <span style=\"color: rgb(33, 33, 33); font-family: Menlo, Monaco, &quot;Courier New&quot;, monospace; font-size: 12px; white-space: pre;\">#temp_Employee table</span>"
            ],
            "metadata": {
                "language": "sql",
                "azdata_cell_guid": "dbf246ca-94ba-4032-a919-658918cc42b4"
            },
            "attachments": {}
        },
        {
            "cell_type": "code",
            "source": [
                "INSERT INTO #temp_Employee\n",
                "SELECT *\n",
                "FROM [EmployeeSalary];"
            ],
            "metadata": {
                "language": "sql",
                "azdata_cell_guid": "cfa4959a-98ee-42f1-a575-5e3d94416598"
            },
            "outputs": [
                {
                    "output_type": "display_data",
                    "data": {
                        "text/html": "(9 rows affected)"
                    },
                    "metadata": {}
                },
                {
                    "output_type": "display_data",
                    "data": {
                        "text/html": "(21 rows affected)"
                    },
                    "metadata": {}
                },
                {
                    "output_type": "display_data",
                    "data": {
                        "text/html": "Total execution time: 00:00:00.017"
                    },
                    "metadata": {}
                },
                {
                    "output_type": "execute_result",
                    "metadata": {},
                    "execution_count": 89,
                    "data": {
                        "application/vnd.dataresource+json": {
                            "schema": {
                                "fields": [
                                    {
                                        "name": "EmployeeID"
                                    },
                                    {
                                        "name": "JobTitle"
                                    },
                                    {
                                        "name": "Salary"
                                    }
                                ]
                            },
                            "data": [
                                {
                                    "0": "1001",
                                    "1": "HR",
                                    "2": "45000"
                                },
                                {
                                    "0": "1001",
                                    "1": "HR",
                                    "2": "45000"
                                },
                                {
                                    "0": "1001",
                                    "1": "HR",
                                    "2": "45000"
                                },
                                {
                                    "0": "1001",
                                    "1": "Salesman",
                                    "2": "45000"
                                },
                                {
                                    "0": "1002",
                                    "1": "Receptionist",
                                    "2": "36000"
                                },
                                {
                                    "0": "1003",
                                    "1": "Salesman",
                                    "2": "63000"
                                },
                                {
                                    "0": "1004",
                                    "1": "Accountant",
                                    "2": "47000"
                                },
                                {
                                    "0": "1005",
                                    "1": "HR",
                                    "2": "50000"
                                },
                                {
                                    "0": "1006",
                                    "1": "Regional Manager",
                                    "2": "65000"
                                },
                                {
                                    "0": "1007",
                                    "1": "Supplier Relations",
                                    "2": "41000"
                                },
                                {
                                    "0": "1008",
                                    "1": "Salesman",
                                    "2": "48000"
                                },
                                {
                                    "0": "1009",
                                    "1": "Accountant",
                                    "2": "42000"
                                },
                                {
                                    "0": "1001",
                                    "1": "Salesman",
                                    "2": "45000"
                                },
                                {
                                    "0": "1002",
                                    "1": "Receptionist",
                                    "2": "36000"
                                },
                                {
                                    "0": "1003",
                                    "1": "Salesman",
                                    "2": "63000"
                                },
                                {
                                    "0": "1004",
                                    "1": "Accountant",
                                    "2": "47000"
                                },
                                {
                                    "0": "1005",
                                    "1": "HR",
                                    "2": "50000"
                                },
                                {
                                    "0": "1006",
                                    "1": "Regional Manager",
                                    "2": "65000"
                                },
                                {
                                    "0": "1007",
                                    "1": "Supplier Relations",
                                    "2": "41000"
                                },
                                {
                                    "0": "1008",
                                    "1": "Salesman",
                                    "2": "48000"
                                },
                                {
                                    "0": "1009",
                                    "1": "Accountant",
                                    "2": "42000"
                                }
                            ]
                        },
                        "text/html": [
                            "<table>",
                            "<tr><th>EmployeeID</th><th>JobTitle</th><th>Salary</th></tr>",
                            "<tr><td>1001</td><td>HR</td><td>45000</td></tr>",
                            "<tr><td>1001</td><td>HR</td><td>45000</td></tr>",
                            "<tr><td>1001</td><td>HR</td><td>45000</td></tr>",
                            "<tr><td>1001</td><td>Salesman</td><td>45000</td></tr>",
                            "<tr><td>1002</td><td>Receptionist</td><td>36000</td></tr>",
                            "<tr><td>1003</td><td>Salesman</td><td>63000</td></tr>",
                            "<tr><td>1004</td><td>Accountant</td><td>47000</td></tr>",
                            "<tr><td>1005</td><td>HR</td><td>50000</td></tr>",
                            "<tr><td>1006</td><td>Regional Manager</td><td>65000</td></tr>",
                            "<tr><td>1007</td><td>Supplier Relations</td><td>41000</td></tr>",
                            "<tr><td>1008</td><td>Salesman</td><td>48000</td></tr>",
                            "<tr><td>1009</td><td>Accountant</td><td>42000</td></tr>",
                            "<tr><td>1001</td><td>Salesman</td><td>45000</td></tr>",
                            "<tr><td>1002</td><td>Receptionist</td><td>36000</td></tr>",
                            "<tr><td>1003</td><td>Salesman</td><td>63000</td></tr>",
                            "<tr><td>1004</td><td>Accountant</td><td>47000</td></tr>",
                            "<tr><td>1005</td><td>HR</td><td>50000</td></tr>",
                            "<tr><td>1006</td><td>Regional Manager</td><td>65000</td></tr>",
                            "<tr><td>1007</td><td>Supplier Relations</td><td>41000</td></tr>",
                            "<tr><td>1008</td><td>Salesman</td><td>48000</td></tr>",
                            "<tr><td>1009</td><td>Accountant</td><td>42000</td></tr>",
                            "</table>"
                        ]
                    }
                }
            ],
            "execution_count": 89
        },
        {
            "cell_type": "code",
            "source": [
                "SELECT *\n",
                "FROM #temp_Employee;"
            ],
            "metadata": {
                "language": "sql",
                "azdata_cell_guid": "d9aaea56-06f9-4446-a897-9a4041245faa"
            },
            "outputs": [
                {
                    "output_type": "display_data",
                    "data": {
                        "text/html": "(21 rows affected)"
                    },
                    "metadata": {}
                },
                {
                    "output_type": "display_data",
                    "data": {
                        "text/html": "Total execution time: 00:00:00.007"
                    },
                    "metadata": {}
                },
                {
                    "output_type": "execute_result",
                    "metadata": {},
                    "execution_count": 98,
                    "data": {
                        "application/vnd.dataresource+json": {
                            "schema": {
                                "fields": [
                                    {
                                        "name": "EmployeeID"
                                    },
                                    {
                                        "name": "JobTitle"
                                    },
                                    {
                                        "name": "Salary"
                                    }
                                ]
                            },
                            "data": [
                                {
                                    "0": "1001",
                                    "1": "HR",
                                    "2": "45000"
                                },
                                {
                                    "0": "1001",
                                    "1": "HR",
                                    "2": "45000"
                                },
                                {
                                    "0": "1001",
                                    "1": "HR",
                                    "2": "45000"
                                },
                                {
                                    "0": "1001",
                                    "1": "Salesman",
                                    "2": "45000"
                                },
                                {
                                    "0": "1002",
                                    "1": "Receptionist",
                                    "2": "36000"
                                },
                                {
                                    "0": "1003",
                                    "1": "Salesman",
                                    "2": "63000"
                                },
                                {
                                    "0": "1004",
                                    "1": "Accountant",
                                    "2": "47000"
                                },
                                {
                                    "0": "1005",
                                    "1": "HR",
                                    "2": "50000"
                                },
                                {
                                    "0": "1006",
                                    "1": "Regional Manager",
                                    "2": "65000"
                                },
                                {
                                    "0": "1007",
                                    "1": "Supplier Relations",
                                    "2": "41000"
                                },
                                {
                                    "0": "1008",
                                    "1": "Salesman",
                                    "2": "48000"
                                },
                                {
                                    "0": "1009",
                                    "1": "Accountant",
                                    "2": "42000"
                                },
                                {
                                    "0": "1001",
                                    "1": "Salesman",
                                    "2": "45000"
                                },
                                {
                                    "0": "1002",
                                    "1": "Receptionist",
                                    "2": "36000"
                                },
                                {
                                    "0": "1003",
                                    "1": "Salesman",
                                    "2": "63000"
                                },
                                {
                                    "0": "1004",
                                    "1": "Accountant",
                                    "2": "47000"
                                },
                                {
                                    "0": "1005",
                                    "1": "HR",
                                    "2": "50000"
                                },
                                {
                                    "0": "1006",
                                    "1": "Regional Manager",
                                    "2": "65000"
                                },
                                {
                                    "0": "1007",
                                    "1": "Supplier Relations",
                                    "2": "41000"
                                },
                                {
                                    "0": "1008",
                                    "1": "Salesman",
                                    "2": "48000"
                                },
                                {
                                    "0": "1009",
                                    "1": "Accountant",
                                    "2": "42000"
                                }
                            ]
                        },
                        "text/html": [
                            "<table>",
                            "<tr><th>EmployeeID</th><th>JobTitle</th><th>Salary</th></tr>",
                            "<tr><td>1001</td><td>HR</td><td>45000</td></tr>",
                            "<tr><td>1001</td><td>HR</td><td>45000</td></tr>",
                            "<tr><td>1001</td><td>HR</td><td>45000</td></tr>",
                            "<tr><td>1001</td><td>Salesman</td><td>45000</td></tr>",
                            "<tr><td>1002</td><td>Receptionist</td><td>36000</td></tr>",
                            "<tr><td>1003</td><td>Salesman</td><td>63000</td></tr>",
                            "<tr><td>1004</td><td>Accountant</td><td>47000</td></tr>",
                            "<tr><td>1005</td><td>HR</td><td>50000</td></tr>",
                            "<tr><td>1006</td><td>Regional Manager</td><td>65000</td></tr>",
                            "<tr><td>1007</td><td>Supplier Relations</td><td>41000</td></tr>",
                            "<tr><td>1008</td><td>Salesman</td><td>48000</td></tr>",
                            "<tr><td>1009</td><td>Accountant</td><td>42000</td></tr>",
                            "<tr><td>1001</td><td>Salesman</td><td>45000</td></tr>",
                            "<tr><td>1002</td><td>Receptionist</td><td>36000</td></tr>",
                            "<tr><td>1003</td><td>Salesman</td><td>63000</td></tr>",
                            "<tr><td>1004</td><td>Accountant</td><td>47000</td></tr>",
                            "<tr><td>1005</td><td>HR</td><td>50000</td></tr>",
                            "<tr><td>1006</td><td>Regional Manager</td><td>65000</td></tr>",
                            "<tr><td>1007</td><td>Supplier Relations</td><td>41000</td></tr>",
                            "<tr><td>1008</td><td>Salesman</td><td>48000</td></tr>",
                            "<tr><td>1009</td><td>Accountant</td><td>42000</td></tr>",
                            "</table>"
                        ]
                    }
                }
            ],
            "execution_count": 98
        },
        {
            "cell_type": "markdown",
            "source": [
                "Second Temp table example"
            ],
            "metadata": {
                "language": "sql",
                "azdata_cell_guid": "7b786f13-9d71-46d3-9285-71775025298b"
            },
            "attachments": {}
        },
        {
            "cell_type": "code",
            "source": [
                "DROP TABLE IF EXISTS #Temp_Employee2\n",
                "CREATE TABLE #Temp_Employee2\n",
                "(\n",
                "JobTitle varchar(50),\n",
                "EmployeePerJob int,\n",
                "AvgAge int,\n",
                "AvgSalary int\n",
                ")"
            ],
            "metadata": {
                "language": "sql",
                "azdata_cell_guid": "e1c6cd62-e69f-4838-9fda-2fe4684dd52a",
                "tags": []
            },
            "outputs": [
                {
                    "output_type": "display_data",
                    "data": {
                        "text/html": "Commands completed successfully."
                    },
                    "metadata": {}
                },
                {
                    "output_type": "display_data",
                    "data": {
                        "text/html": "Total execution time: 00:00:00.005"
                    },
                    "metadata": {}
                }
            ],
            "execution_count": 95
        },
        {
            "cell_type": "code",
            "source": [
                "INSERT INTO #Temp_Employee2\n",
                "SELECT JobTitle, COUNT(JobTitle), AVG(Age), AVG(Salary)\n",
                "FROM [EmployeeDemographics] AS Emp\n",
                "JOIN [EmployeeSalary] AS Sal\n",
                "    ON emp.EmployeeID = Sal.EmployeeID\n",
                "GROUP BY JobTitle;"
            ],
            "metadata": {
                "language": "sql",
                "azdata_cell_guid": "af1fb4f8-c5ee-432b-87b2-82421aeaa686"
            },
            "outputs": [
                {
                    "output_type": "display_data",
                    "data": {
                        "text/html": "(6 rows affected)"
                    },
                    "metadata": {}
                },
                {
                    "output_type": "display_data",
                    "data": {
                        "text/html": "Total execution time: 00:00:00.044"
                    },
                    "metadata": {}
                }
            ],
            "execution_count": 96
        },
        {
            "cell_type": "code",
            "source": [
                "SELECT *\n",
                "FROM #Temp_Employee2;"
            ],
            "metadata": {
                "language": "sql",
                "azdata_cell_guid": "abcc258c-6309-4cd1-bc17-37ae908f5626",
                "tags": [
                    "hide_input"
                ]
            },
            "outputs": [
                {
                    "output_type": "display_data",
                    "data": {
                        "text/html": "(6 rows affected)"
                    },
                    "metadata": {}
                },
                {
                    "output_type": "display_data",
                    "data": {
                        "text/html": "Total execution time: 00:00:00.019"
                    },
                    "metadata": {}
                },
                {
                    "output_type": "execute_result",
                    "metadata": {},
                    "execution_count": 97,
                    "data": {
                        "application/vnd.dataresource+json": {
                            "schema": {
                                "fields": [
                                    {
                                        "name": "JobTitle"
                                    },
                                    {
                                        "name": "EmployeePerJob"
                                    },
                                    {
                                        "name": "AvgAge"
                                    },
                                    {
                                        "name": "AvgSalary"
                                    }
                                ]
                            },
                            "data": [
                                {
                                    "0": "Accountant",
                                    "1": "3",
                                    "2": "31",
                                    "3": "45333"
                                },
                                {
                                    "0": "HR",
                                    "1": "2",
                                    "2": "32",
                                    "3": "50000"
                                },
                                {
                                    "0": "Receptionist",
                                    "1": "2",
                                    "2": "30",
                                    "3": "36000"
                                },
                                {
                                    "0": "Regional Manager",
                                    "1": "2",
                                    "2": "35",
                                    "3": "65000"
                                },
                                {
                                    "0": "Salesman",
                                    "1": "6",
                                    "2": "32",
                                    "3": "52000"
                                },
                                {
                                    "0": "Supplier Relations",
                                    "1": "2",
                                    "2": "32",
                                    "3": "41000"
                                }
                            ]
                        },
                        "text/html": [
                            "<table>",
                            "<tr><th>JobTitle</th><th>EmployeePerJob</th><th>AvgAge</th><th>AvgSalary</th></tr>",
                            "<tr><td>Accountant</td><td>3</td><td>31</td><td>45333</td></tr>",
                            "<tr><td>HR</td><td>2</td><td>32</td><td>50000</td></tr>",
                            "<tr><td>Receptionist</td><td>2</td><td>30</td><td>36000</td></tr>",
                            "<tr><td>Regional Manager</td><td>2</td><td>35</td><td>65000</td></tr>",
                            "<tr><td>Salesman</td><td>6</td><td>32</td><td>52000</td></tr>",
                            "<tr><td>Supplier Relations</td><td>2</td><td>32</td><td>41000</td></tr>",
                            "</table>"
                        ]
                    }
                }
            ],
            "execution_count": 97
        },
        {
            "cell_type": "markdown",
            "source": [
                "# Lesson 14: STRING FUNCTIONS"
            ],
            "metadata": {
                "language": "sql",
                "azdata_cell_guid": "6c75ff0b-0f2c-44cc-8d64-af463415a1fd"
            },
            "attachments": {}
        },
        {
            "cell_type": "markdown",
            "source": [
                "Creating table with errors for the example:"
            ],
            "metadata": {
                "language": "sql",
                "azdata_cell_guid": "5527387e-042d-454f-8237-7808ca48be74"
            },
            "attachments": {}
        },
        {
            "cell_type": "code",
            "source": [
                "CREATE TABLE EmployeeErrors (\n",
                "EmployeeID varchar(50)\n",
                ",FirstName varchar(50)\n",
                ",LastName varchar(50)\n",
                ")"
            ],
            "metadata": {
                "language": "sql",
                "azdata_cell_guid": "cacf27b3-a793-4088-b65c-24be2642f0c1"
            },
            "outputs": [
                {
                    "output_type": "display_data",
                    "data": {
                        "text/html": "Commands completed successfully."
                    },
                    "metadata": {}
                },
                {
                    "output_type": "display_data",
                    "data": {
                        "text/html": "Total execution time: 00:00:00.024"
                    },
                    "metadata": {}
                }
            ],
            "execution_count": 100
        },
        {
            "cell_type": "code",
            "source": [
                "INSERT INTO EmployeeErrors VALUES\n",
                "('1001  ', 'Jimbo', 'Halbert')\n",
                ",('  1002', 'Pamela', 'Beasely')\n",
                ",('1005', 'TOby', 'Flenderson - Fired')"
            ],
            "metadata": {
                "azdata_cell_guid": "f3a6bd91-6fb1-4707-b796-6c3ffdaf4d9f",
                "language": "sql"
            },
            "outputs": [
                {
                    "output_type": "display_data",
                    "data": {
                        "text/html": "(3 rows affected)"
                    },
                    "metadata": {}
                },
                {
                    "output_type": "display_data",
                    "data": {
                        "text/html": "Total execution time: 00:00:00.017"
                    },
                    "metadata": {}
                }
            ],
            "execution_count": 101
        },
        {
            "cell_type": "code",
            "source": [
                "SELECT *\n",
                "FROM EmployeeErrors"
            ],
            "metadata": {
                "language": "sql",
                "azdata_cell_guid": "36afed21-e953-495b-8706-78ff5ecba74d"
            },
            "outputs": [
                {
                    "output_type": "display_data",
                    "data": {
                        "text/html": "(3 rows affected)"
                    },
                    "metadata": {}
                },
                {
                    "output_type": "display_data",
                    "data": {
                        "text/html": "Total execution time: 00:00:00.023"
                    },
                    "metadata": {}
                },
                {
                    "output_type": "execute_result",
                    "metadata": {},
                    "execution_count": 102,
                    "data": {
                        "application/vnd.dataresource+json": {
                            "schema": {
                                "fields": [
                                    {
                                        "name": "EmployeeID"
                                    },
                                    {
                                        "name": "FirstName"
                                    },
                                    {
                                        "name": "LastName"
                                    }
                                ]
                            },
                            "data": [
                                {
                                    "0": "1001  ",
                                    "1": "Jimbo",
                                    "2": "Halbert"
                                },
                                {
                                    "0": "  1002",
                                    "1": "Pamela",
                                    "2": "Beasely"
                                },
                                {
                                    "0": "1005",
                                    "1": "TOby",
                                    "2": "Flenderson - Fired"
                                }
                            ]
                        },
                        "text/html": [
                            "<table>",
                            "<tr><th>EmployeeID</th><th>FirstName</th><th>LastName</th></tr>",
                            "<tr><td>1001  </td><td>Jimbo</td><td>Halbert</td></tr>",
                            "<tr><td>  1002</td><td>Pamela</td><td>Beasely</td></tr>",
                            "<tr><td>1005</td><td>TOby</td><td>Flenderson - Fired</td></tr>",
                            "</table>"
                        ]
                    }
                }
            ],
            "execution_count": 102
        },
        {
            "cell_type": "markdown",
            "source": [
                "Using TRIM to remove spaces. TRIM have alternative verion LTRIM, trims spaces to the leftt and  RTRIM, trims spaces at the right."
            ],
            "metadata": {
                "azdata_cell_guid": "cf6da9bd-92a0-4bad-a4e3-fdada586a063"
            },
            "attachments": {}
        },
        {
            "cell_type": "code",
            "source": [
                "SELECT EmployeeID, TRIM(EmployeeID) AS IDTRIM\n",
                "FROM EmployeeErrors;\n",
                "\n",
                "SELECT EmployeeID, LTRIM(EmployeeID) AS IDTRIM\n",
                "FROM EmployeeErrors;\n",
                "\n",
                "SELECT EmployeeID, RTRIM(EmployeeID) AS IDTRIM\n",
                "FROM EmployeeErrors;"
            ],
            "metadata": {
                "language": "sql",
                "azdata_cell_guid": "a4d91dbb-6654-419e-9b65-620364b0730c"
            },
            "outputs": [
                {
                    "output_type": "display_data",
                    "data": {
                        "text/html": "(3 rows affected)"
                    },
                    "metadata": {}
                },
                {
                    "output_type": "display_data",
                    "data": {
                        "text/html": "(3 rows affected)"
                    },
                    "metadata": {}
                },
                {
                    "output_type": "display_data",
                    "data": {
                        "text/html": "(3 rows affected)"
                    },
                    "metadata": {}
                },
                {
                    "output_type": "display_data",
                    "data": {
                        "text/html": "Total execution time: 00:00:00.047"
                    },
                    "metadata": {}
                },
                {
                    "output_type": "execute_result",
                    "metadata": {},
                    "execution_count": 103,
                    "data": {
                        "application/vnd.dataresource+json": {
                            "schema": {
                                "fields": [
                                    {
                                        "name": "EmployeeID"
                                    },
                                    {
                                        "name": "IDTRIM"
                                    }
                                ]
                            },
                            "data": [
                                {
                                    "0": "1001  ",
                                    "1": "1001"
                                },
                                {
                                    "0": "  1002",
                                    "1": "1002"
                                },
                                {
                                    "0": "1005",
                                    "1": "1005"
                                }
                            ]
                        },
                        "text/html": [
                            "<table>",
                            "<tr><th>EmployeeID</th><th>IDTRIM</th></tr>",
                            "<tr><td>1001  </td><td>1001</td></tr>",
                            "<tr><td>  1002</td><td>1002</td></tr>",
                            "<tr><td>1005</td><td>1005</td></tr>",
                            "</table>"
                        ]
                    }
                },
                {
                    "output_type": "execute_result",
                    "metadata": {},
                    "execution_count": 103,
                    "data": {
                        "application/vnd.dataresource+json": {
                            "schema": {
                                "fields": [
                                    {
                                        "name": "EmployeeID"
                                    },
                                    {
                                        "name": "IDTRIM"
                                    }
                                ]
                            },
                            "data": [
                                {
                                    "0": "1001  ",
                                    "1": "1001  "
                                },
                                {
                                    "0": "  1002",
                                    "1": "1002"
                                },
                                {
                                    "0": "1005",
                                    "1": "1005"
                                }
                            ]
                        },
                        "text/html": [
                            "<table>",
                            "<tr><th>EmployeeID</th><th>IDTRIM</th></tr>",
                            "<tr><td>1001  </td><td>1001  </td></tr>",
                            "<tr><td>  1002</td><td>1002</td></tr>",
                            "<tr><td>1005</td><td>1005</td></tr>",
                            "</table>"
                        ]
                    }
                },
                {
                    "output_type": "execute_result",
                    "metadata": {},
                    "execution_count": 103,
                    "data": {
                        "application/vnd.dataresource+json": {
                            "schema": {
                                "fields": [
                                    {
                                        "name": "EmployeeID"
                                    },
                                    {
                                        "name": "IDTRIM"
                                    }
                                ]
                            },
                            "data": [
                                {
                                    "0": "1001  ",
                                    "1": "1001"
                                },
                                {
                                    "0": "  1002",
                                    "1": "  1002"
                                },
                                {
                                    "0": "1005",
                                    "1": "1005"
                                }
                            ]
                        },
                        "text/html": [
                            "<table>",
                            "<tr><th>EmployeeID</th><th>IDTRIM</th></tr>",
                            "<tr><td>1001  </td><td>1001</td></tr>",
                            "<tr><td>  1002</td><td>  1002</td></tr>",
                            "<tr><td>1005</td><td>1005</td></tr>",
                            "</table>"
                        ]
                    }
                }
            ],
            "execution_count": 103
        },
        {
            "cell_type": "markdown",
            "source": [
                "Using Replace to remove <span style=\"color: rgb(163, 21, 21); font-family: Menlo, Monaco, &quot;Courier New&quot;, monospace; font-size: 12px; white-space: pre;\">'- Fired' </span> <span style=\"font-family: Menlo, Monaco, &quot;Courier New&quot;, monospace; font-size: 12px; white-space: pre;\"><font color=\"#212121\">and replace it with blanck,''.</font></span>"
            ],
            "metadata": {
                "language": "sql",
                "azdata_cell_guid": "bbdd27be-59cf-49b5-8bd7-6ba54c5cfa09"
            },
            "attachments": {}
        },
        {
            "cell_type": "code",
            "source": [
                "SELECT LastName, REPLACE(LastName, '- Fired','') AS LastNameFixed\n",
                "FROM EmployeeErrors"
            ],
            "metadata": {
                "language": "sql",
                "azdata_cell_guid": "7bdd2df6-2408-4cb4-93b9-ceaccc05b7c7"
            },
            "outputs": [
                {
                    "output_type": "display_data",
                    "data": {
                        "text/html": "(3 rows affected)"
                    },
                    "metadata": {}
                },
                {
                    "output_type": "display_data",
                    "data": {
                        "text/html": "Total execution time: 00:00:00.021"
                    },
                    "metadata": {}
                },
                {
                    "output_type": "execute_result",
                    "metadata": {},
                    "execution_count": 104,
                    "data": {
                        "application/vnd.dataresource+json": {
                            "schema": {
                                "fields": [
                                    {
                                        "name": "LastName"
                                    },
                                    {
                                        "name": "LastNameFixed"
                                    }
                                ]
                            },
                            "data": [
                                {
                                    "0": "Halbert",
                                    "1": "Halbert"
                                },
                                {
                                    "0": "Beasely",
                                    "1": "Beasely"
                                },
                                {
                                    "0": "Flenderson - Fired",
                                    "1": "Flenderson "
                                }
                            ]
                        },
                        "text/html": [
                            "<table>",
                            "<tr><th>LastName</th><th>LastNameFixed</th></tr>",
                            "<tr><td>Halbert</td><td>Halbert</td></tr>",
                            "<tr><td>Beasely</td><td>Beasely</td></tr>",
                            "<tr><td>Flenderson - Fired</td><td>Flenderson </td></tr>",
                            "</table>"
                        ]
                    }
                }
            ],
            "execution_count": 104
        },
        {
            "cell_type": "markdown",
            "source": [
                "Using SUBSTRING to extract part of the text from string variables. We must indicate where to start and how many space to return. In the example we start at 1 and take 3 next spaces"
            ],
            "metadata": {
                "language": "sql",
                "azdata_cell_guid": "c2c9f713-adfd-4853-b745-30037fe75c92"
            },
            "attachments": {}
        },
        {
            "cell_type": "code",
            "source": [
                "SELECT SUBSTRING(FirstName, 1, 3)\n",
                "FROM EmployeeErrors"
            ],
            "metadata": {
                "language": "sql",
                "azdata_cell_guid": "53fc51c8-ae8e-46b6-9563-1887356c2738"
            },
            "outputs": [
                {
                    "output_type": "display_data",
                    "data": {
                        "text/html": "(3 rows affected)"
                    },
                    "metadata": {}
                },
                {
                    "output_type": "display_data",
                    "data": {
                        "text/html": "Total execution time: 00:00:00.017"
                    },
                    "metadata": {}
                },
                {
                    "output_type": "execute_result",
                    "metadata": {},
                    "execution_count": 105,
                    "data": {
                        "application/vnd.dataresource+json": {
                            "schema": {
                                "fields": [
                                    {
                                        "name": "(No column name)"
                                    }
                                ]
                            },
                            "data": [
                                {
                                    "0": "Jim"
                                },
                                {
                                    "0": "Pam"
                                },
                                {
                                    "0": "TOb"
                                }
                            ]
                        },
                        "text/html": [
                            "<table>",
                            "<tr><th>(No column name)</th></tr>",
                            "<tr><td>Jim</td></tr>",
                            "<tr><td>Pam</td></tr>",
                            "<tr><td>TOb</td></tr>",
                            "</table>"
                        ]
                    }
                }
            ],
            "execution_count": 105
        },
        {
            "cell_type": "markdown",
            "source": [
                "Using SUBSTRING to match names in different tables with JOIN. \n",
                "\n",
                "FUZZI MATCH. Its use to match columns across tables."
            ],
            "metadata": {
                "language": "sql",
                "azdata_cell_guid": "f922b7a8-dc36-4cfa-a885-b956480bb4f0"
            },
            "attachments": {}
        },
        {
            "cell_type": "code",
            "source": [
                "SELECT SUBSTRING(err.FirstName,1,3), SUBSTRING(dem.FirstName,1,3)\n",
                "FROM EmployeeErrors AS err\n",
                "JOIN EmployeeDemographics AS dem \n",
                "    ON SUBSTRING(err.FirstName,1,3) = SUBSTRING(dem.FirstName,1,3)"
            ],
            "metadata": {
                "language": "sql",
                "azdata_cell_guid": "9d6a7615-579b-4ad3-80b8-dc4e3e5fa444"
            },
            "outputs": [
                {
                    "output_type": "display_data",
                    "data": {
                        "text/html": "(6 rows affected)"
                    },
                    "metadata": {}
                },
                {
                    "output_type": "display_data",
                    "data": {
                        "text/html": "Total execution time: 00:00:00.034"
                    },
                    "metadata": {}
                },
                {
                    "output_type": "execute_result",
                    "metadata": {},
                    "execution_count": 106,
                    "data": {
                        "application/vnd.dataresource+json": {
                            "schema": {
                                "fields": [
                                    {
                                        "name": "(No column name)"
                                    },
                                    {
                                        "name": "(No column name)"
                                    }
                                ]
                            },
                            "data": [
                                {
                                    "0": "Jim",
                                    "1": "Jim"
                                },
                                {
                                    "0": "Pam",
                                    "1": "Pam"
                                },
                                {
                                    "0": "TOb",
                                    "1": "Tob"
                                },
                                {
                                    "0": "Jim",
                                    "1": "Jim"
                                },
                                {
                                    "0": "Pam",
                                    "1": "Pam"
                                },
                                {
                                    "0": "TOb",
                                    "1": "Tob"
                                }
                            ]
                        },
                        "text/html": [
                            "<table>",
                            "<tr><th>(No column name)</th><th>(No column name)</th></tr>",
                            "<tr><td>Jim</td><td>Jim</td></tr>",
                            "<tr><td>Pam</td><td>Pam</td></tr>",
                            "<tr><td>TOb</td><td>Tob</td></tr>",
                            "<tr><td>Jim</td><td>Jim</td></tr>",
                            "<tr><td>Pam</td><td>Pam</td></tr>",
                            "<tr><td>TOb</td><td>Tob</td></tr>",
                            "</table>"
                        ]
                    }
                }
            ],
            "execution_count": 106
        },
        {
            "cell_type": "markdown",
            "source": [
                "Using LOWER and UPPER to change capitalization"
            ],
            "metadata": {
                "language": "sql",
                "azdata_cell_guid": "54b7a281-3a7c-4228-a641-12c944bc58d4"
            },
            "attachments": {}
        },
        {
            "cell_type": "code",
            "source": [
                "SELECT FirstName, LOWER(FirstName)\n",
                "FROM EmployeeErrors;\n",
                "\n",
                "SELECT FirstName, UPPER(FirstName)\n",
                "FROM EmployeeErrors;"
            ],
            "metadata": {
                "language": "sql",
                "azdata_cell_guid": "6ecf92b6-08fd-4392-aab1-dd0ac29bd277"
            },
            "outputs": [
                {
                    "output_type": "display_data",
                    "data": {
                        "text/html": "(3 rows affected)"
                    },
                    "metadata": {}
                },
                {
                    "output_type": "display_data",
                    "data": {
                        "text/html": "(3 rows affected)"
                    },
                    "metadata": {}
                },
                {
                    "output_type": "display_data",
                    "data": {
                        "text/html": "Total execution time: 00:00:00.063"
                    },
                    "metadata": {}
                },
                {
                    "output_type": "execute_result",
                    "metadata": {},
                    "execution_count": 107,
                    "data": {
                        "application/vnd.dataresource+json": {
                            "schema": {
                                "fields": [
                                    {
                                        "name": "FirstName"
                                    },
                                    {
                                        "name": "(No column name)"
                                    }
                                ]
                            },
                            "data": [
                                {
                                    "0": "Jimbo",
                                    "1": "jimbo"
                                },
                                {
                                    "0": "Pamela",
                                    "1": "pamela"
                                },
                                {
                                    "0": "TOby",
                                    "1": "toby"
                                }
                            ]
                        },
                        "text/html": [
                            "<table>",
                            "<tr><th>FirstName</th><th>(No column name)</th></tr>",
                            "<tr><td>Jimbo</td><td>jimbo</td></tr>",
                            "<tr><td>Pamela</td><td>pamela</td></tr>",
                            "<tr><td>TOby</td><td>toby</td></tr>",
                            "</table>"
                        ]
                    }
                },
                {
                    "output_type": "execute_result",
                    "metadata": {},
                    "execution_count": 107,
                    "data": {
                        "application/vnd.dataresource+json": {
                            "schema": {
                                "fields": [
                                    {
                                        "name": "FirstName"
                                    },
                                    {
                                        "name": "(No column name)"
                                    }
                                ]
                            },
                            "data": [
                                {
                                    "0": "Jimbo",
                                    "1": "JIMBO"
                                },
                                {
                                    "0": "Pamela",
                                    "1": "PAMELA"
                                },
                                {
                                    "0": "TOby",
                                    "1": "TOBY"
                                }
                            ]
                        },
                        "text/html": [
                            "<table>",
                            "<tr><th>FirstName</th><th>(No column name)</th></tr>",
                            "<tr><td>Jimbo</td><td>JIMBO</td></tr>",
                            "<tr><td>Pamela</td><td>PAMELA</td></tr>",
                            "<tr><td>TOby</td><td>TOBY</td></tr>",
                            "</table>"
                        ]
                    }
                }
            ],
            "execution_count": 107
        },
        {
            "cell_type": "markdown",
            "source": [
                "# Lesson 15: STORE PROCEDURES"
            ],
            "metadata": {
                "language": "sql",
                "azdata_cell_guid": "0c65ed77-019a-4aa9-b0ee-fa1008cb1ea3"
            },
            "attachments": {}
        },
        {
            "cell_type": "markdown",
            "source": [
                "Simple Store Procedure"
            ],
            "metadata": {
                "language": "sql",
                "azdata_cell_guid": "73b939bf-f595-48a3-b4b5-cfae22a8ead6"
            },
            "attachments": {}
        },
        {
            "cell_type": "code",
            "source": [
                "CREATE PROCEDURE TEST \n",
                "AS \n",
                "SELECT *\n",
                "FROM [dbo].[EmployeeDemographics]"
            ],
            "metadata": {
                "language": "sql",
                "azdata_cell_guid": "9df0ad7b-3c9c-4fc6-a0db-2607663b4335",
                "tags": []
            },
            "outputs": [
                {
                    "output_type": "display_data",
                    "data": {
                        "text/html": "Commands completed successfully."
                    },
                    "metadata": {}
                },
                {
                    "output_type": "display_data",
                    "data": {
                        "text/html": "Total execution time: 00:00:00.055"
                    },
                    "metadata": {}
                }
            ],
            "execution_count": 108
        },
        {
            "cell_type": "markdown",
            "source": [
                "Executing Store Procedure"
            ],
            "metadata": {
                "language": "sql",
                "azdata_cell_guid": "172e728c-b2e1-4845-a77e-dfc827bbe422"
            },
            "attachments": {}
        },
        {
            "cell_type": "code",
            "source": [
                "EXEC TEST"
            ],
            "metadata": {
                "language": "sql",
                "azdata_cell_guid": "da6d0ee7-895a-4aba-afc6-23a94b78b6ce",
                "tags": []
            },
            "outputs": [
                {
                    "output_type": "display_data",
                    "data": {
                        "text/html": "(17 rows affected)"
                    },
                    "metadata": {}
                },
                {
                    "output_type": "display_data",
                    "data": {
                        "text/html": "Total execution time: 00:00:00.027"
                    },
                    "metadata": {}
                },
                {
                    "output_type": "execute_result",
                    "metadata": {},
                    "execution_count": 109,
                    "data": {
                        "application/vnd.dataresource+json": {
                            "schema": {
                                "fields": [
                                    {
                                        "name": "EmployeeID"
                                    },
                                    {
                                        "name": "FirstName"
                                    },
                                    {
                                        "name": "LastName"
                                    },
                                    {
                                        "name": "Age"
                                    },
                                    {
                                        "name": "Gender"
                                    }
                                ]
                            },
                            "data": [
                                {
                                    "0": "1001",
                                    "1": "Jim",
                                    "2": "Halper",
                                    "3": "30",
                                    "4": "Male"
                                },
                                {
                                    "0": "1002",
                                    "1": "Pam",
                                    "2": "Beasley",
                                    "3": "30",
                                    "4": "Female"
                                },
                                {
                                    "0": "1003",
                                    "1": "Dwight",
                                    "2": "Schrute",
                                    "3": "29",
                                    "4": "Male"
                                },
                                {
                                    "0": "1004",
                                    "1": "Angela",
                                    "2": "Martin",
                                    "3": "31",
                                    "4": "Female"
                                },
                                {
                                    "0": "1005",
                                    "1": "Toby",
                                    "2": "Flenderson",
                                    "3": "32",
                                    "4": "Male"
                                },
                                {
                                    "0": "1006",
                                    "1": "Michael",
                                    "2": "Scott",
                                    "3": "35",
                                    "4": "Male"
                                },
                                {
                                    "0": "1007",
                                    "1": "Meredith",
                                    "2": "Palmer",
                                    "3": "32",
                                    "4": "Female"
                                },
                                {
                                    "0": "1008",
                                    "1": "Stanley",
                                    "2": "Hudson",
                                    "3": "38",
                                    "4": "Male"
                                },
                                {
                                    "0": "1001",
                                    "1": "Jim",
                                    "2": "Halper",
                                    "3": "30",
                                    "4": "Male"
                                },
                                {
                                    "0": "1002",
                                    "1": "Pam",
                                    "2": "Beasley",
                                    "3": "30",
                                    "4": "Female"
                                },
                                {
                                    "0": "1003",
                                    "1": "Dwight",
                                    "2": "Schrute",
                                    "3": "29",
                                    "4": "Male"
                                },
                                {
                                    "0": "1004",
                                    "1": "Angela",
                                    "2": "Martin",
                                    "3": "31",
                                    "4": "Female"
                                },
                                {
                                    "0": "1005",
                                    "1": "Toby",
                                    "2": "Flenderson",
                                    "3": "32",
                                    "4": "Male"
                                },
                                {
                                    "0": "1006",
                                    "1": "Michael",
                                    "2": "Scott",
                                    "3": "35",
                                    "4": "Male"
                                },
                                {
                                    "0": "1007",
                                    "1": "Meredith",
                                    "2": "Palmer",
                                    "3": "32",
                                    "4": "Female"
                                },
                                {
                                    "0": "1008",
                                    "1": "Stanley",
                                    "2": "Hudson",
                                    "3": "38",
                                    "4": "Male"
                                },
                                {
                                    "0": "1009",
                                    "1": "Kevin",
                                    "2": "Malone",
                                    "3": "31",
                                    "4": "Male"
                                }
                            ]
                        },
                        "text/html": [
                            "<table>",
                            "<tr><th>EmployeeID</th><th>FirstName</th><th>LastName</th><th>Age</th><th>Gender</th></tr>",
                            "<tr><td>1001</td><td>Jim</td><td>Halper</td><td>30</td><td>Male</td></tr>",
                            "<tr><td>1002</td><td>Pam</td><td>Beasley</td><td>30</td><td>Female</td></tr>",
                            "<tr><td>1003</td><td>Dwight</td><td>Schrute</td><td>29</td><td>Male</td></tr>",
                            "<tr><td>1004</td><td>Angela</td><td>Martin</td><td>31</td><td>Female</td></tr>",
                            "<tr><td>1005</td><td>Toby</td><td>Flenderson</td><td>32</td><td>Male</td></tr>",
                            "<tr><td>1006</td><td>Michael</td><td>Scott</td><td>35</td><td>Male</td></tr>",
                            "<tr><td>1007</td><td>Meredith</td><td>Palmer</td><td>32</td><td>Female</td></tr>",
                            "<tr><td>1008</td><td>Stanley</td><td>Hudson</td><td>38</td><td>Male</td></tr>",
                            "<tr><td>1001</td><td>Jim</td><td>Halper</td><td>30</td><td>Male</td></tr>",
                            "<tr><td>1002</td><td>Pam</td><td>Beasley</td><td>30</td><td>Female</td></tr>",
                            "<tr><td>1003</td><td>Dwight</td><td>Schrute</td><td>29</td><td>Male</td></tr>",
                            "<tr><td>1004</td><td>Angela</td><td>Martin</td><td>31</td><td>Female</td></tr>",
                            "<tr><td>1005</td><td>Toby</td><td>Flenderson</td><td>32</td><td>Male</td></tr>",
                            "<tr><td>1006</td><td>Michael</td><td>Scott</td><td>35</td><td>Male</td></tr>",
                            "<tr><td>1007</td><td>Meredith</td><td>Palmer</td><td>32</td><td>Female</td></tr>",
                            "<tr><td>1008</td><td>Stanley</td><td>Hudson</td><td>38</td><td>Male</td></tr>",
                            "<tr><td>1009</td><td>Kevin</td><td>Malone</td><td>31</td><td>Male</td></tr>",
                            "</table>"
                        ]
                    }
                }
            ],
            "execution_count": 109
        },
        {
            "cell_type": "markdown",
            "source": [
                "Second  example"
            ],
            "metadata": {
                "language": "sql",
                "azdata_cell_guid": "7f327be6-d8fa-466c-b5dd-719be11c7cf5"
            },
            "attachments": {}
        },
        {
            "cell_type": "code",
            "source": [
                "CREATE PROCEDURE Temp_Employee\n",
                "AS\n",
                "DROP TABLE IF EXISTS #temp_employee\n",
                "CREATE TABLE #temp_employee (\n",
                "JobTitle varchar(100),\n",
                "EmployeesPerJob int ,\n",
                "AvgAge int,\n",
                "AvgSalary int\n",
                ")\n",
                "INSERT INTO #temp_employee\n",
                "SELECT JobTitle, Count(JobTitle), Avg(Age), AVG(salary)\n",
                "FROM EmployeeDemographics emp\n",
                "JOIN EmployeeSalary sal\n",
                "\tON emp.EmployeeID = sal.EmployeeID\n",
                "GROUP BY JobTitle;\n",
                "\n",
                "SELECT * \n",
                "FROM #temp_employee\n",
                "GO;"
            ],
            "metadata": {
                "language": "sql",
                "azdata_cell_guid": "348d2b8a-c075-471b-9377-02db647fc233"
            },
            "outputs": [
                {
                    "output_type": "display_data",
                    "data": {
                        "text/html": "Commands completed successfully."
                    },
                    "metadata": {}
                },
                {
                    "output_type": "display_data",
                    "data": {
                        "text/html": "Total execution time: 00:00:00.018"
                    },
                    "metadata": {}
                }
            ],
            "execution_count": 113
        },
        {
            "cell_type": "markdown",
            "source": [
                "Executing Store Procedure"
            ],
            "metadata": {
                "azdata_cell_guid": "664ba730-270f-4ab9-b7db-4b3d5e362373"
            },
            "attachments": {}
        },
        {
            "cell_type": "code",
            "source": [
                "EXEC Temp_Employee"
            ],
            "metadata": {
                "language": "sql",
                "azdata_cell_guid": "7f455687-7e93-408a-942f-e43bf185e544"
            },
            "outputs": [
                {
                    "output_type": "display_data",
                    "data": {
                        "text/html": "(6 rows affected)"
                    },
                    "metadata": {}
                },
                {
                    "output_type": "display_data",
                    "data": {
                        "text/html": "(6 rows affected)"
                    },
                    "metadata": {}
                },
                {
                    "output_type": "display_data",
                    "data": {
                        "text/html": "Total execution time: 00:00:00.020"
                    },
                    "metadata": {}
                },
                {
                    "output_type": "execute_result",
                    "metadata": {},
                    "execution_count": 114,
                    "data": {
                        "application/vnd.dataresource+json": {
                            "schema": {
                                "fields": [
                                    {
                                        "name": "JobTitle"
                                    },
                                    {
                                        "name": "EmployeesPerJob"
                                    },
                                    {
                                        "name": "AvgAge"
                                    },
                                    {
                                        "name": "AvgSalary"
                                    }
                                ]
                            },
                            "data": [
                                {
                                    "0": "Accountant",
                                    "1": "3",
                                    "2": "31",
                                    "3": "45333"
                                },
                                {
                                    "0": "HR",
                                    "1": "2",
                                    "2": "32",
                                    "3": "50000"
                                },
                                {
                                    "0": "Receptionist",
                                    "1": "2",
                                    "2": "30",
                                    "3": "36000"
                                },
                                {
                                    "0": "Regional Manager",
                                    "1": "2",
                                    "2": "35",
                                    "3": "65000"
                                },
                                {
                                    "0": "Salesman",
                                    "1": "6",
                                    "2": "32",
                                    "3": "52000"
                                },
                                {
                                    "0": "Supplier Relations",
                                    "1": "2",
                                    "2": "32",
                                    "3": "41000"
                                }
                            ]
                        },
                        "text/html": [
                            "<table>",
                            "<tr><th>JobTitle</th><th>EmployeesPerJob</th><th>AvgAge</th><th>AvgSalary</th></tr>",
                            "<tr><td>Accountant</td><td>3</td><td>31</td><td>45333</td></tr>",
                            "<tr><td>HR</td><td>2</td><td>32</td><td>50000</td></tr>",
                            "<tr><td>Receptionist</td><td>2</td><td>30</td><td>36000</td></tr>",
                            "<tr><td>Regional Manager</td><td>2</td><td>35</td><td>65000</td></tr>",
                            "<tr><td>Salesman</td><td>6</td><td>32</td><td>52000</td></tr>",
                            "<tr><td>Supplier Relations</td><td>2</td><td>32</td><td>41000</td></tr>",
                            "</table>"
                        ]
                    }
                }
            ],
            "execution_count": 114
        },
        {
            "cell_type": "markdown",
            "source": [
                "Altering existing PROCEDURE"
            ],
            "metadata": {
                "language": "sql",
                "azdata_cell_guid": "2561976e-c33c-45b6-b229-3bdf9c05c88c"
            },
            "attachments": {}
        },
        {
            "cell_type": "code",
            "source": [
                "ALTER PROCEDURE Temp_Employee\n",
                "@JobTitle nvarchar(100)\n",
                "AS\n",
                "DROP TABLE IF EXISTS #temp_employee\n",
                "CREATE TABLE #temp_employee3 (\n",
                "JobTitle varchar(100),\n",
                "EmployeesPerJob int ,\n",
                "AvgAge int,\n",
                "AvgSalary int\n",
                ")"
            ],
            "metadata": {
                "language": "sql",
                "azdata_cell_guid": "d3e9adb8-5920-4c47-9775-7291f9902ecb"
            },
            "outputs": [
                {
                    "output_type": "display_data",
                    "data": {
                        "text/html": "Commands completed successfully."
                    },
                    "metadata": {}
                },
                {
                    "output_type": "display_data",
                    "data": {
                        "text/html": "Total execution time: 00:00:00.035"
                    },
                    "metadata": {}
                }
            ],
            "execution_count": 115
        },
        {
            "cell_type": "code",
            "source": [
                "INSERT INTO #temp_employee\n",
                "SELECT JobTitle, Count(JobTitle), Avg(Age), AVG(salary)\n",
                "FROM EmployeeDemographics emp\n",
                "JOIN EmployeeSalary sal\n",
                "\tON emp.EmployeeID = sal.EmployeeID\n",
                "WHERE JobTitle = @JobTitle --- make sure to change this in this script from original above\n",
                "GROUP BY JobTitle"
            ],
            "metadata": {
                "language": "sql",
                "azdata_cell_guid": "f33315a3-62ec-43eb-9fc6-bd4977c96287"
            },
            "outputs": [
                {
                    "output_type": "error",
                    "evalue": "Msg 137, Level 15, State 2, Line 6\nMust declare the scalar variable \"@JobTitle\".",
                    "ename": "",
                    "traceback": []
                },
                {
                    "output_type": "display_data",
                    "data": {
                        "text/html": "Total execution time: 00:00:00.008"
                    },
                    "metadata": {}
                }
            ],
            "execution_count": 117
        },
        {
            "cell_type": "markdown",
            "source": [
                "# Lesson 16: SUBQUERY\n",
                "\n",
                "A subquery is a query within a query (or neste query)"
            ],
            "metadata": {
                "language": "sql",
                "azdata_cell_guid": "a74fdcdb-4095-4e2d-913c-80a0b439e0bc"
            },
            "attachments": {}
        },
        {
            "cell_type": "markdown",
            "source": [
                "Normal Query"
            ],
            "metadata": {
                "language": "sql",
                "azdata_cell_guid": "444a0df0-c084-4e7b-897a-ef7907b48737"
            },
            "attachments": {}
        },
        {
            "cell_type": "code",
            "source": [
                "Select EmployeeID, JobTitle, Salary\n",
                "From EmployeeSalary"
            ],
            "metadata": {
                "language": "sql",
                "azdata_cell_guid": "947c5d00-3275-435e-9e56-22effbd113bf"
            },
            "outputs": [],
            "execution_count": null
        },
        {
            "cell_type": "markdown",
            "source": [
                "Query within SELECT"
            ],
            "metadata": {
                "language": "sql",
                "azdata_cell_guid": "1dc2c96f-36c7-47eb-b884-1572a1363a99"
            },
            "attachments": {}
        },
        {
            "cell_type": "code",
            "source": [
                "SELECT EmployeeID, Salary, \n",
                "(SELECT AVG(Salary) FROM EmployeeSalary) AS AllAvgSalary\n",
                "FROM EmployeeSalary"
            ],
            "metadata": {
                "language": "sql",
                "azdata_cell_guid": "3289abca-0db6-4d73-b35b-1c4a92776575"
            },
            "outputs": [],
            "execution_count": null
        },
        {
            "cell_type": "code",
            "source": [
                "-- How to do it with Partition By\n",
                "SELECT EmployeeID, Salary, AVG(Salary) OVER () AS AllAvgSalary\n",
                "FROM EmployeeSalary"
            ],
            "metadata": {
                "language": "sql",
                "azdata_cell_guid": "de391572-e342-4785-9ca2-b1297058746b"
            },
            "outputs": [],
            "execution_count": null
        },
        {
            "cell_type": "code",
            "source": [
                "-- Why Group By doesn't work\n",
                "Select EmployeeID, Salary, AVG(Salary) as AllAvgSalary\n",
                "From EmployeeSalary\n",
                "Group By EmployeeID, Salary\n",
                "order by EmployeeID"
            ],
            "metadata": {
                "language": "sql",
                "azdata_cell_guid": "f2982042-6277-4f97-b4cf-499ee2d8faf2"
            },
            "outputs": [],
            "execution_count": null
        },
        {
            "cell_type": "markdown",
            "source": [
                "Query within FROM"
            ],
            "metadata": {
                "language": "sql",
                "azdata_cell_guid": "97111c09-efbf-465c-852c-60929733cfce"
            },
            "attachments": {}
        },
        {
            "cell_type": "code",
            "source": [
                "-- Subquery in From\n",
                "Select a.EmployeeID, AllAvgSalary\n",
                "From \n",
                "\t(Select EmployeeID, Salary, AVG(Salary) over () as AllAvgSalary\n",
                "\t From EmployeeSalary) a\n",
                "Order by a.EmployeeID"
            ],
            "metadata": {
                "language": "sql",
                "azdata_cell_guid": "8ac6f924-d0ea-4323-b773-54c8fbeea51c"
            },
            "outputs": [],
            "execution_count": null
        },
        {
            "cell_type": "markdown",
            "source": [
                "Query within Where"
            ],
            "metadata": {
                "language": "sql",
                "azdata_cell_guid": "87b2f8bd-be54-4fd4-b3cd-0585bfdaf644"
            },
            "attachments": {}
        },
        {
            "cell_type": "code",
            "source": [
                "-- Subquery in Where\n",
                "Select EmployeeID, JobTitle, Salary\n",
                "From EmployeeSalary\n",
                "where EmployeeID in (\n",
                "\tSelect EmployeeID \n",
                "\tFrom EmployeeDemographics\n",
                "\twhere Age > 30)"
            ],
            "metadata": {
                "language": "sql",
                "azdata_cell_guid": "3b9edb27-c0ab-481a-a57a-f5edfd7c9659"
            },
            "outputs": [],
            "execution_count": null
        }
    ]
}